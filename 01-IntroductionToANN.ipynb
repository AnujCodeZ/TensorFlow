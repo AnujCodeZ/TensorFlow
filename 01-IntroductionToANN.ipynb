{
 "cells": [
  {
   "cell_type": "markdown",
   "id": "civil-prevention",
   "metadata": {},
   "source": [
    "# Introduction to Artificial Neural Network with Keras\n",
    "\n",
    "## Introduction\n",
    "\n",
    "*Artificial Neural Networks* (ANNs) is a Machine Learning Model inspired by the networks of biological neurons found in our brains.\n",
    "\n",
    "ANNs are the very core of Deep Learning. They are versatile, powerful, and scalable. They are able to tackle complex problems like classifying large number of images (Google Images), speech recognition services (\"OK Google\"), recommending movies (Netflix), etc.\n",
    "\n",
    "We'll use popular Keras API: this is a beautifully designed and simple high-level API for building, training, evaluating, and running neural networks. \n",
    "\n",
    "## History of ANNs\n",
    "\n",
    "ANNs first introduced back in 1943 by Neurophysiologist Warren McCulloch and the mathematician Walter Pitts in their paper \"A Logical Calculus of Ideas Immanent in Nervous Activity\".\n",
    "\n",
    "In 1960, idea of making intelligent machines seems impossible (for quite a while), ANNs entered a long winter.\n",
    "\n",
    "In early 1980, new architectures were build, interest rises in *connectionism* (the study of neural networks), progress was slow. And around 1990, more powerful Machine Learning Algorithms was built like SVMs. So they put on hold again.\n",
    "\n",
    "But now we see that ANNs are rising and this time they keep rising. Here are few reasons why:\n",
    "\n",
    "- Huge quantity of data available.\n",
    "- Increase in Computing powers, and thanks to Gaming industry to give us GPU.\n",
    "- Training algorithms have been improved.\n",
    "- More funding in building amazing products and research.\n",
    "\n",
    "## Logical Computations with Neurons\n",
    "\n",
    "McCulloch and Pitts proposed a very simple model of the biological neuron, which later became known as *artificial neuron*: it has one or more binary inputs and one binary output. The artificial neuron activates its output when more than a certain number of its inputs are active. \n",
    "\n",
    "You can compute complex logical expressions by changing the inputs or combining them.\n",
    "\n",
    "## The Perceptron\n",
    "\n",
    "The *Perceptron* is one of the simplest ANN architectures, invented in 1957 by Frank Rosenblatt. It is based on slightly different artificial neuron called a *threshold logic unit* (TLU), or sometimes a *linear threshold unit* (LTU).\n",
    "\n",
    "The inputs and output are numbers, and each connection holds some value called *weights*. The TLU computes a weighted sum of its inputs:\n",
    "$$\n",
    "z = w_1x_1 + w_2x_2 + ... + w_nx_n = X^TW\n",
    "$$\n",
    " Then applies a *step function* and results an output:\n",
    "$$\n",
    "h_w(X) = step(z), where\\ z = X^TW\n",
    "$$\n",
    "The most common step function used in Perceptron is the *Heaviside step function*:\n",
    "$$\n",
    "heaviside(z) = \\{{0, if\\ z < 0 \\\\ 1, if z >= 0}\n",
    "$$\n",
    "Sometimes a sign function:\n",
    "$$\n",
    "sign(z) = \\{{-1, if\\ z < 0 \\\\ 0, if\\ z = 0 \\\\ 1, if\\ z > 0}\n",
    "$$\n",
    "A single TLU can be use for simple linear binary classification. Training a TLU means finding the right values of weights.\n",
    "\n",
    "A Perceptron is simply composed of a single layer of TLUs, with each TLU connected to all the inputs.\n",
    "\n",
    "When all the neurons in a layer are connected to every neuron in previous layer, the layer is called *fully connected layer* or *dense layer*.\n",
    "\n",
    "The inputs of Perceptron are simply passthrough neurons called *input neurons*: they output whatever they are fed. All the input neurons form the *input layer*. Moreover, an extra bias feature is added: represented as a *bias neuron*, always outputs 1. \n",
    "\n",
    "Computing the outputs of a fully connected layer:\n",
    "$$\n",
    "h_{W, b} = \\phi(XW + b)\n",
    "$$\n",
    " In this equation,\n",
    "\n",
    "- **X**: inputs matrix\n",
    "- **W**: weights matrix\n",
    "- **b**: bias\n",
    "- $\\phi$: it represents *activation function*\n",
    "\n",
    "The training of Perceptron was largely inspired by *Hebb's rule*: which is summarized as \"cells that fire together, wire together\"; that is connection weights between two neurons tends to increase when they activates together.\n",
    "\n",
    "The Perceptron trains with slight different variant that takes into account of error made by the network. It reinforces the connection when it makes an error. The rule is:\n",
    "$$\n",
    "w_{i,j}^{(next\\ step)} = w_{i, j} + \\eta(y_j - \\hat y_j)x_i\n",
    "$$\n",
    "In this equation:\n",
    "\n",
    "- $w_{i,j}$ is the connection weight between the $i^{th}$ input neuron and the $j^{th}$ output neuron.\n",
    "- $x_i$ is the $i^{th}$ input value of current training instance.\n",
    "- $y_j$ is the target output of the $j^{th}$ output neuron.\n",
    "- $\\hat y_j$ is the output of the $j^{th}$ output neuron.\n",
    "- $\\eta$ is the learning rate.\n",
    "\n",
    "The decision boundary of the TLUs are linear, so Perceptron are incapable of learning complex patterns. Overall this algorithm is called *Perceptron convergence theorem*.\n",
    "\n",
    "You can use Sklearn's `Perceptron` to do this. However, it is same as the SGD classifier of Sklearn with hyperparameters `loss=\"perceptron\", learning rate=\"constant\"`.\n",
    "\n",
    "Perceptrons do not output a class probability as Logistic regression. Rather, they output a hard threshold.\n",
    "\n",
    "In 1969 monograph *Perceptrons*, there are weakness of Perceptrons like it cannot solve XOR problem. \n",
    "\n",
    "It turns out limitations of Perceptron can be replaced by stacking multiple Perceptrons. The resulting ANN is called *Multilayer Perceptron* (MLP). An MLP can solve XOR problem easily.\n",
    "\n",
    "\n",
    "## Perceptron"
   ]
  },
  {
   "cell_type": "code",
   "execution_count": 1,
   "id": "straight-supplier",
   "metadata": {},
   "outputs": [],
   "source": [
    "import numpy as np\n",
    "from sklearn.datasets import load_iris\n",
    "from sklearn.linear_model import Perceptron"
   ]
  },
  {
   "cell_type": "code",
   "execution_count": 2,
   "id": "infinite-corrections",
   "metadata": {},
   "outputs": [],
   "source": [
    "iris = load_iris()\n",
    "X = iris.data[:, (2, 3)] # petal length and width\n",
    "y = (iris.target == 0).astype(np.int) # Iris setosa?"
   ]
  },
  {
   "cell_type": "code",
   "execution_count": 3,
   "id": "eastern-amazon",
   "metadata": {},
   "outputs": [
    {
     "data": {
      "text/plain": [
       "Perceptron()"
      ]
     },
     "execution_count": 3,
     "metadata": {},
     "output_type": "execute_result"
    }
   ],
   "source": [
    "per_clf = Perceptron()\n",
    "per_clf.fit(X, y)"
   ]
  },
  {
   "cell_type": "code",
   "execution_count": 4,
   "id": "permanent-batch",
   "metadata": {},
   "outputs": [
    {
     "data": {
      "text/plain": [
       "array([0])"
      ]
     },
     "execution_count": 4,
     "metadata": {},
     "output_type": "execute_result"
    }
   ],
   "source": [
    "y_pred = per_clf.predict([[2, 0.5]])\n",
    "y_pred"
   ]
  },
  {
   "cell_type": "markdown",
   "id": "naked-importance",
   "metadata": {},
   "source": [
    "## Multilayer Perceptron and Backpropagation\n",
    "\n",
    "A MLP is composed of one (passthrough) *input layer*, one or more layers of TLUs, called *hidden layers*, and one final layer of TLUs called the *output layer*. \n",
    "\n",
    "The layers close to input layer are usually called *lower layers*, and one close to output layer called *upper layers*.\n",
    "\n",
    "Every layer except output layer includes the bias neuron and is fully connected to the next layer.\n",
    "\n",
    "> The signal flows only in one direction (from the inputs to the outputs), so this architecture called *feedforward neural network* (FNN).\n",
    "\n",
    "When an ANN contains deep stack of hidden layers, it is called *deep neural networks* (DNN). \n",
    "\n",
    "In 1986, David Rumelhart, Geoffrey Hinton, and Ronald Williams published a paper that introduces the *backpropagation*. Which is ground breaking and still in use. In short it is Gradient Descent using an efficient way to calculate gradients automatically.\n",
    "\n",
    "> Automatically computing gradients is called *automatic differentiation*, or *autodiff*. The autodiff technique used in backpropagation is called *reverse-mode autodiff*. It is fast and precise, and well suited for when function to differentiate has many variables (e.g. connection weights) and few outputs (e.g. loss).\n",
    "\n",
    "Backpropagation Algorithm:\n",
    "\n",
    "- It handles one mini-batch at a time, and it goes through full training set multiple times. Each pass though full training set is called an *epoch*.\n",
    "- Each mini-batch is passed through the network from input layer through hidden layers to the output layer, this is called *forward pass*. The results for every layer is preserved in order to compute gradients.\n",
    "- Next, algorithm measures the network's output error (by loss function).\n",
    "- Then it computes how much each output connection contributed to the error analytically by applying chain rule.\n",
    "- Then it measures how much of these error contributions came from each connection in the layer below, again using chain rule, working backward until the algo reaches to the input layer. This is called *backward pass*.\n",
    "- Finally, the algorithm performs Gradient Descent step to tweak all the connection weights in the network, using error gradients it just computed.\n",
    "\n",
    "> It is important to initialize all the hidden layers' connection weights randomly, or else training will fall. For example, if you initialize all weights and bias to zero, then all neurons in a given layer will be perfectly identical, and backpropagation will affect them in a same way, so they will remain identical. Network treat a layer as only one neuron. If you initialize the weights randomly, you *break the symmetry* and allow backpropagation to train a diverse team of neurons.\n",
    "\n",
    "In order to work this algorithm properly, there is a key change in MLP: they replaced the step function (non-differentiable) to the logistic (sigmoid) function,\n",
    "$$\n",
    "\\sigma(z) = 1 / (1 + \\exp(-z))\n",
    "$$\n",
    "Sigmoid is differentiable and ranges from 0 to 1. There are others we can use:\n",
    "\n",
    "- *Hyperbolic tangent function*: $\\tanh(z) = 2\\sigma(2z)-1$\n",
    "  - It is like sigmoid, but ranges from -1 to 1. Which make layer's output more centered around 0 at the beginning of training, which often helps speed up convergence.\n",
    "- *The Rectified Linear Unit function*: $ReLU(z) = \\max(0, z)$\n",
    "  - It is continuous but not differentiable at 0. But in practice it works well and computed very fast, which makes it default for today's architectures. It's derivative is 0 for z < 0 and has no upper limit which makes it more usable.\n",
    "\n",
    "We need activation functions because if we chain linear transformations we get a linear transformation. So if you don't have non-linearity between layers, then deep networks is equivalent to single layer network.\n",
    "\n",
    "## Regression MLPs\n",
    "\n",
    "We can use MLPs for regression tasks. To predict single values, you just need an output neuron, and for multivariate regression, you need one output neuron for every dimension (value).\n",
    "\n",
    "In general, you don't need any activation function for the output layer. If you want positive output then you can use ReLU or *softplus function*, which is smooth variant of ReLU: $softplus(z) = \\log(1 + \\exp(z))$.\n",
    "\n",
    "Finally, if you want output in a specific range, you could use sigmoid or tanh and scale it up to your specific range.\n",
    "\n",
    "The loss function is generally mean squared error. But if you have lots of outliers you could use mean absolute error. Alternatively, you can use the *Huber loss*, which is combination of both.\n",
    "\n",
    "> Huber loss is quadratic when error is smaller than a threshold $\\delta$ (typically 1) but linear when greater.\n",
    "\n",
    "## Classification MLPs\n",
    "\n",
    "They mostly used in classification tasks. For a binary classification, you can use an output neuron with logistic function. The output will be in range 0 and 1, also gives you probability of 1 (positive class).\n",
    "\n",
    "MLPs can also easily handle multilabel binary classification. You can use two neurons with logistic function if you have 2 labels. The probability of both does not add up to 1, means label are independent.\n",
    "\n",
    "If your labels are dependent (e.g. MNIST), then you use output neuron for each label and apply *softmax function* to whole output layer, which produce a probabilities which add up to 1. This is called multiclass classification.\n",
    "\n",
    "For loss, since we are pretending the output is probability distribution, the *cross-entropy loss* (also called the log loss) is generally a good choice.\n",
    "\n",
    "## Implementing MLPs with Keras\n",
    "We'll be using Keras, which is a Deep Learning API that allows you to easily build, train, evaluate, and execute all types of neural networks. It was developed Francois Chollet as part of a research project, and it made open source in March 2015.\n",
    "\n",
    "Tensorflow is a framework that multi functionality to perform Deep Learning, Tensorflow 2 has made Keras as its official API.\n",
    "### Buildind an Image Classifier using the Sequential API\n",
    "Install tensorflow and check the versions"
   ]
  },
  {
   "cell_type": "code",
   "execution_count": 5,
   "id": "crude-commonwealth",
   "metadata": {},
   "outputs": [
    {
     "data": {
      "text/plain": [
       "'2.4.1'"
      ]
     },
     "execution_count": 5,
     "metadata": {},
     "output_type": "execute_result"
    }
   ],
   "source": [
    "import tensorflow as tf\n",
    "from tensorflow import keras\n",
    "tf.__version__"
   ]
  },
  {
   "cell_type": "code",
   "execution_count": 6,
   "id": "attempted-henry",
   "metadata": {},
   "outputs": [
    {
     "data": {
      "text/plain": [
       "'2.4.0'"
      ]
     },
     "execution_count": 6,
     "metadata": {},
     "output_type": "execute_result"
    }
   ],
   "source": [
    "keras.__version__"
   ]
  },
  {
   "cell_type": "markdown",
   "id": "forty-continent",
   "metadata": {},
   "source": [
    "#### Using Keras to load the dataset\n",
    "Keras provides some utility functions to fetch and load common datasets. Let's use Fashion MNIST, it is similar to MNIST but contain cloth images instead of digits."
   ]
  },
  {
   "cell_type": "code",
   "execution_count": 7,
   "id": "virtual-vintage",
   "metadata": {},
   "outputs": [],
   "source": [
    "fashion_mnist = keras.datasets.fashion_mnist\n",
    "(X_train_full, y_train_full), (X_test, y_test) = fashion_mnist.load_data()"
   ]
  },
  {
   "cell_type": "markdown",
   "id": "southwest-pathology",
   "metadata": {},
   "source": [
    "Keras' Fashion MNIST gives 28x28 array for each image, type as integers, and ranges from 0 to 255 as pixel intensities. "
   ]
  },
  {
   "cell_type": "code",
   "execution_count": 8,
   "id": "ultimate-airline",
   "metadata": {},
   "outputs": [
    {
     "data": {
      "text/plain": [
       "((60000, 28, 28), (10000, 28, 28))"
      ]
     },
     "execution_count": 8,
     "metadata": {},
     "output_type": "execute_result"
    }
   ],
   "source": [
    "X_train_full.shape, X_test.shape"
   ]
  },
  {
   "cell_type": "code",
   "execution_count": 9,
   "id": "sonic-humor",
   "metadata": {},
   "outputs": [
    {
     "data": {
      "text/plain": [
       "dtype('uint8')"
      ]
     },
     "execution_count": 9,
     "metadata": {},
     "output_type": "execute_result"
    }
   ],
   "source": [
    "X_train_full.dtype"
   ]
  },
  {
   "cell_type": "markdown",
   "id": "rapid-width",
   "metadata": {},
   "source": [
    "It already splits dataset into train and test, but not validation set. We'll use Gradient Descent so we must scale input features by dividing them by 255.0. Now, numbers are in range 0-1 and become float."
   ]
  },
  {
   "cell_type": "code",
   "execution_count": 10,
   "id": "alike-lecture",
   "metadata": {},
   "outputs": [],
   "source": [
    "X_valid, X_train = X_train_full[:5000] / 255.0, X_train_full[5000:] / 255.0\n",
    "y_valid, y_train = y_train_full[:5000], y_train_full[5000:]"
   ]
  },
  {
   "cell_type": "markdown",
   "id": "greek-timer",
   "metadata": {},
   "source": [
    "For Fashion MNIST, we need the list of class names to know the labels."
   ]
  },
  {
   "cell_type": "code",
   "execution_count": 11,
   "id": "geographic-spencer",
   "metadata": {},
   "outputs": [],
   "source": [
    "class_names = [\"T-shirt/Top\", \"Trouser\", \"Pullover\", \"Dress\", \"Coat\", \n",
    "              \"Sandal\", \"Shirt\", \"Sneaker\", \"Bag\", \"Ankle boot\"]"
   ]
  },
  {
   "cell_type": "code",
   "execution_count": 12,
   "id": "billion-orientation",
   "metadata": {},
   "outputs": [
    {
     "data": {
      "text/plain": [
       "'Coat'"
      ]
     },
     "execution_count": 12,
     "metadata": {},
     "output_type": "execute_result"
    }
   ],
   "source": [
    "class_names[y_train[0]]"
   ]
  },
  {
   "cell_type": "markdown",
   "id": "present-provider",
   "metadata": {},
   "source": [
    "#### Creating the Model using the Sequential API"
   ]
  },
  {
   "cell_type": "code",
   "execution_count": 13,
   "id": "beautiful-break",
   "metadata": {},
   "outputs": [],
   "source": [
    "model = keras.models.Sequential()\n",
    "model.add(keras.layers.Flatten(input_shape=[28, 28]))\n",
    "model.add(keras.layers.Dense(300, activation='relu'))\n",
    "model.add(keras.layers.Dense(100, activation='relu'))\n",
    "model.add(keras.layers.Dense(10, activation='softmax'))"
   ]
  },
  {
   "cell_type": "markdown",
   "id": "working-mainland",
   "metadata": {},
   "source": [
    "Let's go though code:\n",
    "\n",
    "- `Sequential` model is the simplest Keras model to compose a single stack of layers connected sequentially.\n",
    "- Next, the first layer added to the model. It is a `Flatten` layer, whose role is to convert input shape as 1D array. It does not accept any parameters, since it is first layer you need to pass `input_shape`. Alternatively, you could add `keras.layers.InputLayer` with passing `input_shape=[28, 28]`.\n",
    "- Next, we add a `Dense` layer with 300 neuron number passing to it. It has an activation function ReLU. It manages all weights and bias when receives inputs.\n",
    "\n",
    "- Then we add another `Dense` layer with 100 neurons and activation as ReLU.\n",
    "- Finally, we add a `Dense` output layer with 10 neurons (one per class), using the softmax activation function.\n",
    "\n",
    "> Specifying `activation='relu'` is equivalent to `activation=keras.activations.relu`.\n",
    "\n",
    "Instead of adding layers one by one, you could pass a list of layers when creating th `Sequential` model."
   ]
  },
  {
   "cell_type": "code",
   "execution_count": 14,
   "id": "official-track",
   "metadata": {},
   "outputs": [],
   "source": [
    "model = keras.models.Sequential([\n",
    "    keras.layers.Flatten(input_shape=[28, 28]),\n",
    "    keras.layers.Dense(300, activation='relu'),\n",
    "    keras.layers.Dense(100, activation='relu'),\n",
    "    keras.layers.Dense(10, activation='softmax')\n",
    "])"
   ]
  },
  {
   "cell_type": "markdown",
   "id": "alternate-arrow",
   "metadata": {},
   "source": [
    "The model's `summary()` method displays all the model's layers, including their name (which automatically created if not mentioned), output shape and number of parameters with total parameters, trainable and non-trainable parameter numbers."
   ]
  },
  {
   "cell_type": "code",
   "execution_count": 15,
   "id": "gothic-piece",
   "metadata": {},
   "outputs": [
    {
     "name": "stdout",
     "output_type": "stream",
     "text": [
      "Model: \"sequential_1\"\n",
      "_________________________________________________________________\n",
      "Layer (type)                 Output Shape              Param #   \n",
      "=================================================================\n",
      "flatten_1 (Flatten)          (None, 784)               0         \n",
      "_________________________________________________________________\n",
      "dense_3 (Dense)              (None, 300)               235500    \n",
      "_________________________________________________________________\n",
      "dense_4 (Dense)              (None, 100)               30100     \n",
      "_________________________________________________________________\n",
      "dense_5 (Dense)              (None, 10)                1010      \n",
      "=================================================================\n",
      "Total params: 266,610\n",
      "Trainable params: 266,610\n",
      "Non-trainable params: 0\n",
      "_________________________________________________________________\n"
     ]
    }
   ],
   "source": [
    "model.summary()"
   ]
  },
  {
   "cell_type": "markdown",
   "id": "paperback-columbia",
   "metadata": {},
   "source": [
    "However, you can use `keras.utils.plot_model()` to generate an image of your model."
   ]
  },
  {
   "cell_type": "code",
   "execution_count": 16,
   "id": "referenced-progress",
   "metadata": {},
   "outputs": [
    {
     "data": {
      "image/png": "[encoded data removed]",
      "text/plain": [
       "<IPython.core.display.Image object>"
      ]
     },
     "execution_count": 16,
     "metadata": {},
     "output_type": "execute_result"
    }
   ],
   "source": [
    "keras.utils.plot_model(model)"
   ]
  },
  {
   "cell_type": "markdown",
   "id": "oriented-ready",
   "metadata": {},
   "source": [
    "Note that, `Dense` layer has lot of parameters. This gives the model a lot of flexibility to fit the data, but it also means that model could overfit the data. Specially when you don't have lots of data.\n",
    "\n",
    "You can easily get a list of layers."
   ]
  },
  {
   "cell_type": "code",
   "execution_count": 17,
   "id": "theoretical-amateur",
   "metadata": {},
   "outputs": [
    {
     "data": {
      "text/plain": [
       "[<tensorflow.python.keras.layers.core.Flatten at 0x7fb600a62190>,\n",
       " <tensorflow.python.keras.layers.core.Dense at 0x7fb600a62490>,\n",
       " <tensorflow.python.keras.layers.core.Dense at 0x7fb600b832b0>,\n",
       " <tensorflow.python.keras.layers.core.Dense at 0x7fb600b835b0>]"
      ]
     },
     "execution_count": 17,
     "metadata": {},
     "output_type": "execute_result"
    }
   ],
   "source": [
    "model.layers"
   ]
  },
  {
   "cell_type": "code",
   "execution_count": 18,
   "id": "packed-subcommittee",
   "metadata": {},
   "outputs": [
    {
     "data": {
      "text/plain": [
       "'dense_3'"
      ]
     },
     "execution_count": 18,
     "metadata": {},
     "output_type": "execute_result"
    }
   ],
   "source": [
    "hidden1 = model.layers[1]\n",
    "hidden1.name"
   ]
  },
  {
   "cell_type": "code",
   "execution_count": 19,
   "id": "greater-satellite",
   "metadata": {},
   "outputs": [
    {
     "data": {
      "text/plain": [
       "True"
      ]
     },
     "execution_count": 19,
     "metadata": {},
     "output_type": "execute_result"
    }
   ],
   "source": [
    "model.get_layer('dense_3') is hidden1"
   ]
  },
  {
   "cell_type": "markdown",
   "id": "cooked-genesis",
   "metadata": {},
   "source": [
    "All the parameters can be accessed by `get_weights()` and `set_weights()` methods."
   ]
  },
  {
   "cell_type": "code",
   "execution_count": 20,
   "id": "invisible-multiple",
   "metadata": {},
   "outputs": [
    {
     "data": {
      "text/plain": [
       "(array([[-7.8525394e-04, -5.1058680e-02,  2.6560396e-02, ...,\n",
       "          5.9050754e-02, -2.0619441e-02, -6.4470179e-02],\n",
       "        [-3.4946002e-02,  2.9864937e-02,  6.5037876e-02, ...,\n",
       "         -8.0484301e-03,  3.6470249e-02, -5.1917434e-03],\n",
       "        [ 3.3910342e-02,  5.5873320e-03, -7.1229085e-02, ...,\n",
       "          2.7404308e-02,  7.6723844e-03, -1.2259942e-02],\n",
       "        ...,\n",
       "        [ 4.7788210e-02,  4.7039211e-02,  3.0972064e-05, ...,\n",
       "         -5.7877589e-02,  2.7875356e-02,  4.7693700e-02],\n",
       "        [ 2.8421238e-02, -4.8097361e-02,  4.9005225e-03, ...,\n",
       "          3.3991404e-02, -1.4850363e-02,  3.0475318e-02],\n",
       "        [ 4.5068569e-02, -3.6188044e-02, -3.8984947e-02, ...,\n",
       "         -7.3464021e-02, -1.2684446e-02, -4.0232860e-02]], dtype=float32),\n",
       " array([0., 0., 0., 0., 0., 0., 0., 0., 0., 0., 0., 0., 0., 0., 0., 0., 0.,\n",
       "        0., 0., 0., 0., 0., 0., 0., 0., 0., 0., 0., 0., 0., 0., 0., 0., 0.,\n",
       "        0., 0., 0., 0., 0., 0., 0., 0., 0., 0., 0., 0., 0., 0., 0., 0., 0.,\n",
       "        0., 0., 0., 0., 0., 0., 0., 0., 0., 0., 0., 0., 0., 0., 0., 0., 0.,\n",
       "        0., 0., 0., 0., 0., 0., 0., 0., 0., 0., 0., 0., 0., 0., 0., 0., 0.,\n",
       "        0., 0., 0., 0., 0., 0., 0., 0., 0., 0., 0., 0., 0., 0., 0., 0., 0.,\n",
       "        0., 0., 0., 0., 0., 0., 0., 0., 0., 0., 0., 0., 0., 0., 0., 0., 0.,\n",
       "        0., 0., 0., 0., 0., 0., 0., 0., 0., 0., 0., 0., 0., 0., 0., 0., 0.,\n",
       "        0., 0., 0., 0., 0., 0., 0., 0., 0., 0., 0., 0., 0., 0., 0., 0., 0.,\n",
       "        0., 0., 0., 0., 0., 0., 0., 0., 0., 0., 0., 0., 0., 0., 0., 0., 0.,\n",
       "        0., 0., 0., 0., 0., 0., 0., 0., 0., 0., 0., 0., 0., 0., 0., 0., 0.,\n",
       "        0., 0., 0., 0., 0., 0., 0., 0., 0., 0., 0., 0., 0., 0., 0., 0., 0.,\n",
       "        0., 0., 0., 0., 0., 0., 0., 0., 0., 0., 0., 0., 0., 0., 0., 0., 0.,\n",
       "        0., 0., 0., 0., 0., 0., 0., 0., 0., 0., 0., 0., 0., 0., 0., 0., 0.,\n",
       "        0., 0., 0., 0., 0., 0., 0., 0., 0., 0., 0., 0., 0., 0., 0., 0., 0.,\n",
       "        0., 0., 0., 0., 0., 0., 0., 0., 0., 0., 0., 0., 0., 0., 0., 0., 0.,\n",
       "        0., 0., 0., 0., 0., 0., 0., 0., 0., 0., 0., 0., 0., 0., 0., 0., 0.,\n",
       "        0., 0., 0., 0., 0., 0., 0., 0., 0., 0., 0.], dtype=float32))"
      ]
     },
     "execution_count": 20,
     "metadata": {},
     "output_type": "execute_result"
    }
   ],
   "source": [
    "weights, bias = hidden1.get_weights()\n",
    "weights, bias"
   ]
  },
  {
   "cell_type": "code",
   "execution_count": 21,
   "id": "metric-correlation",
   "metadata": {},
   "outputs": [
    {
     "data": {
      "text/plain": [
       "((784, 300), (300,))"
      ]
     },
     "execution_count": 21,
     "metadata": {},
     "output_type": "execute_result"
    }
   ],
   "source": [
    "weights.shape, bias.shape"
   ]
  },
  {
   "cell_type": "markdown",
   "id": "vanilla-monitoring",
   "metadata": {},
   "source": [
    "`Dense` layer initialize the connection weights randomly, and biases to zeros. If you want to change initialization, you can set `kernel_initializer` (kernel is another name of matrix of connection weights) or `bias_initializer` when creating the layer.\n",
    "\n",
    "> The shape of the weigthts matrix depends on the input shape. That's why we need to specify input shape at start. But if you don't that's okay Keras will wait until you pass it the data or you can call its `build()` mehod. \n",
    "\n"
   ]
  },
  {
   "cell_type": "markdown",
   "id": "adapted-france",
   "metadata": {},
   "source": [
    "#### Compiling the Model\n",
    "After a model is created, you must call its `compile()` method to specify loss and optimizer, optionally you can specify some metrics to compute during training and evaluation."
   ]
  },
  {
   "cell_type": "code",
   "execution_count": 22,
   "id": "laughing-destruction",
   "metadata": {},
   "outputs": [],
   "source": [
    "model.compile(loss='sparse_categorical_crossentropy',\n",
    "             optimizer='sgd',\n",
    "             metrics=['accuracy'])"
   ]
  },
  {
   "cell_type": "markdown",
   "id": "smart-hundred",
   "metadata": {},
   "source": [
    "> Using `loss='sparse_categorical_crossentropy'` is equivalent to `loss=keras.losses.sparse_categorical_crossentropy`, same goes for optimizers and metrics.\n",
    "\n",
    "We use `sparse_categorical_crossentropy` loss because we have sparse labels (i.e. for each instances, there is just a target class index, from 0 to 9). If we had one-hot vectors then we'll use `categorical_crossentropy` loss instead. If we were doing binary classification binary classification, then we should use `sigmoid` activation function in the output layer, and we would use the `binary_crossentropy` loss.\n",
    "\n",
    "> If you want to convert sparse labels to one-hot vector labels, use `keras.utils.to_categorical()` function. To go other way around, use the `np.argmax()` function with `axis=1`.\n",
    "\n",
    "For optimizer `\"sgd\"` means that we will train model using simple Stochastic Gradient Descent.\n",
    "\n",
    "> When using SGD optimizer, it is important to tune the learning rate. So, you will generally want to use `optimizer=keras.optimizers.SGD(lr=???)` to set the learning rate, which defaults to `lr=0.01`\n",
    "\n",
    "Finally, metrics is `\"accuracy\"` which is calculated during training and evaluation.\n",
    "\n",
    "#### Training and evaluating the Model\n",
    "\n",
    "For this we simply call its `fit()` method."
   ]
  },
  {
   "cell_type": "code",
   "execution_count": 23,
   "id": "acting-captain",
   "metadata": {},
   "outputs": [
    {
     "name": "stdout",
     "output_type": "stream",
     "text": [
      "Epoch 1/30\n",
      "1719/1719 [==============================] - 5s 3ms/step - loss: 0.9907 - accuracy: 0.6796 - val_loss: 0.5146 - val_accuracy: 0.8234\n",
      "Epoch 2/30\n",
      "1719/1719 [==============================] - 4s 2ms/step - loss: 0.5089 - accuracy: 0.8261 - val_loss: 0.4542 - val_accuracy: 0.8430\n",
      "Epoch 3/30\n",
      "1719/1719 [==============================] - 4s 2ms/step - loss: 0.4506 - accuracy: 0.8433 - val_loss: 0.4273 - val_accuracy: 0.8550\n",
      "Epoch 4/30\n",
      "1719/1719 [==============================] - 4s 2ms/step - loss: 0.4230 - accuracy: 0.8501 - val_loss: 0.4253 - val_accuracy: 0.8540\n",
      "Epoch 5/30\n",
      "1719/1719 [==============================] - 4s 2ms/step - loss: 0.3999 - accuracy: 0.8591 - val_loss: 0.4000 - val_accuracy: 0.8584\n",
      "Epoch 6/30\n",
      "1719/1719 [==============================] - 4s 2ms/step - loss: 0.3806 - accuracy: 0.8656 - val_loss: 0.3983 - val_accuracy: 0.8628\n",
      "Epoch 7/30\n",
      "1719/1719 [==============================] - 4s 2ms/step - loss: 0.3677 - accuracy: 0.8691 - val_loss: 0.3743 - val_accuracy: 0.8682\n",
      "Epoch 8/30\n",
      "1719/1719 [==============================] - 4s 2ms/step - loss: 0.3583 - accuracy: 0.8708 - val_loss: 0.3605 - val_accuracy: 0.8770\n",
      "Epoch 9/30\n",
      "1719/1719 [==============================] - 4s 2ms/step - loss: 0.3460 - accuracy: 0.8758 - val_loss: 0.3727 - val_accuracy: 0.8702\n",
      "Epoch 10/30\n",
      "1719/1719 [==============================] - 4s 2ms/step - loss: 0.3356 - accuracy: 0.8796 - val_loss: 0.3413 - val_accuracy: 0.8804\n",
      "Epoch 11/30\n",
      "1719/1719 [==============================] - 5s 3ms/step - loss: 0.3297 - accuracy: 0.8814 - val_loss: 0.3395 - val_accuracy: 0.8800\n",
      "Epoch 12/30\n",
      "1719/1719 [==============================] - 4s 2ms/step - loss: 0.3140 - accuracy: 0.8866 - val_loss: 0.3306 - val_accuracy: 0.8820\n",
      "Epoch 13/30\n",
      "1719/1719 [==============================] - 4s 2ms/step - loss: 0.3078 - accuracy: 0.8884 - val_loss: 0.3702 - val_accuracy: 0.8638\n",
      "Epoch 14/30\n",
      "1719/1719 [==============================] - 4s 2ms/step - loss: 0.3026 - accuracy: 0.8908 - val_loss: 0.3357 - val_accuracy: 0.8802\n",
      "Epoch 15/30\n",
      "1719/1719 [==============================] - 4s 2ms/step - loss: 0.3024 - accuracy: 0.8909 - val_loss: 0.3296 - val_accuracy: 0.8812\n",
      "Epoch 16/30\n",
      "1719/1719 [==============================] - 4s 2ms/step - loss: 0.2874 - accuracy: 0.8973 - val_loss: 0.3311 - val_accuracy: 0.8820\n",
      "Epoch 17/30\n",
      "1719/1719 [==============================] - 4s 2ms/step - loss: 0.2896 - accuracy: 0.8954 - val_loss: 0.3148 - val_accuracy: 0.8890\n",
      "Epoch 18/30\n",
      "1719/1719 [==============================] - 4s 2ms/step - loss: 0.2768 - accuracy: 0.8984 - val_loss: 0.3243 - val_accuracy: 0.8858\n",
      "Epoch 19/30\n",
      "1719/1719 [==============================] - 4s 2ms/step - loss: 0.2751 - accuracy: 0.9012 - val_loss: 0.3250 - val_accuracy: 0.8860\n",
      "Epoch 20/30\n",
      "1719/1719 [==============================] - 4s 2ms/step - loss: 0.2654 - accuracy: 0.9044 - val_loss: 0.3063 - val_accuracy: 0.8914\n",
      "Epoch 21/30\n",
      "1719/1719 [==============================] - 4s 2ms/step - loss: 0.2635 - accuracy: 0.9044 - val_loss: 0.3068 - val_accuracy: 0.8888\n",
      "Epoch 22/30\n",
      "1719/1719 [==============================] - 4s 2ms/step - loss: 0.2585 - accuracy: 0.9055 - val_loss: 0.3174 - val_accuracy: 0.8854\n",
      "Epoch 23/30\n",
      "1719/1719 [==============================] - 4s 2ms/step - loss: 0.2505 - accuracy: 0.9084 - val_loss: 0.3056 - val_accuracy: 0.8868\n",
      "Epoch 24/30\n",
      "1719/1719 [==============================] - 4s 2ms/step - loss: 0.2483 - accuracy: 0.9112 - val_loss: 0.3031 - val_accuracy: 0.8902\n",
      "Epoch 25/30\n",
      "1719/1719 [==============================] - 4s 2ms/step - loss: 0.2411 - accuracy: 0.9120 - val_loss: 0.3114 - val_accuracy: 0.8858\n",
      "Epoch 26/30\n",
      "1719/1719 [==============================] - 4s 2ms/step - loss: 0.2391 - accuracy: 0.9137 - val_loss: 0.3057 - val_accuracy: 0.8912\n",
      "Epoch 27/30\n",
      "1719/1719 [==============================] - 4s 2ms/step - loss: 0.2378 - accuracy: 0.9117 - val_loss: 0.2948 - val_accuracy: 0.8932\n",
      "Epoch 28/30\n",
      "1719/1719 [==============================] - 4s 2ms/step - loss: 0.2333 - accuracy: 0.9152 - val_loss: 0.2969 - val_accuracy: 0.8916\n",
      "Epoch 29/30\n",
      "1719/1719 [==============================] - 4s 2ms/step - loss: 0.2269 - accuracy: 0.9183 - val_loss: 0.3072 - val_accuracy: 0.8900\n",
      "Epoch 30/30\n",
      "1719/1719 [==============================] - 4s 2ms/step - loss: 0.2243 - accuracy: 0.9180 - val_loss: 0.3019 - val_accuracy: 0.8888\n"
     ]
    }
   ],
   "source": [
    "history = model.fit(X_train, y_train, epochs=30,\n",
    "                   validation_data=(X_valid, y_valid))"
   ]
  },
  {
   "cell_type": "markdown",
   "id": "alternative-circuit",
   "metadata": {},
   "source": [
    "We pass it the input features (X_train) and the target classes (y_train), as well as number of epochs to train (defaults to 1).  We also pass it validation set (which is optional), Keras will measure the loss and other metrics on this set at the end of each epoch, which is very helpful to see. \n",
    "\n",
    "If performance on training set is much better than on the validation set, your model is probably overfitting the training set.\n",
    "\n",
    "> Instead of passing a validation set, you could set `validation_split` to the ratio you want. For example, `validation_split=0.1` last 10% of training data will be used for validation.\n",
    "\n",
    "If training set was very skewed, with some classes being over-represented than other, you could use `class_weight` argument in `fit()`, this would give extra weight to under-represented class while calculating the loss. If you need per-instance weights, use `sample_weight` argument, it would be useful if some instances were labeled by experts while other labeled by crowdsourcing platform: it gives more weight to the expert ones. You can also pass sample weight (not class weight) in `validation_data` tuple as third argument.\n",
    "\n",
    "The `fit()` method returns a `history` object which contains the training parameters (`history.params`), the list of epochs (`history.epoch`), and most important dictionary (`history.history`) containing loss and extra metrics it measured. You could plot history using pandas `DataFrame` to get learning curves.\n",
    "\n"
   ]
  },
  {
   "cell_type": "code",
   "execution_count": 24,
   "id": "boolean-russian",
   "metadata": {},
   "outputs": [
    {
     "data": {
      "image/png": "[encoded data removed]",
      "text/plain": [
       "<Figure size 576x360 with 1 Axes>"
      ]
     },
     "metadata": {
      "needs_background": "light"
     },
     "output_type": "display_data"
    }
   ],
   "source": [
    "import pandas as pd\n",
    "import matplotlib.pyplot as plt\n",
    "\n",
    "pd.DataFrame(history.history).plot(figsize=(8, 5))\n",
    "plt.grid(True)\n",
    "plt.gca().set_ylim(0, 1)\n",
    "plt.show()"
   ]
  },
  {
   "cell_type": "markdown",
   "id": "chemical-explosion",
   "metadata": {},
   "source": [
    "Here you would see that training and validation curves are close which is good. At first, it seems validation is good because validation error is computed at the end of epoch and training loss is computed during each epoch. So training curve should be shifted half the epoch to the left. Then you see overlapping curves at the start.\n",
    "\n",
    "> When plotting training curves, it should be shifted by half an epoch to the left.\n",
    "\n",
    "If you want to train longer you can call `fit()` method and Keras will continue the training.\n",
    "\n",
    "If you didn't satisfy with the training try tuning the hyperparameters. The first one to check is learning rate, then optimizer, then model's hyperparameters such as number of layers, number of neurons, and activation functions. You could also tune batch size (which can be set in `fit()` method as `batch_size` argument, defaults to 32) and number of epochs.\n",
    "\n",
    "Now, it's time to evaluate model on the test set to see the generalization error.\n",
    "\n"
   ]
  },
  {
   "cell_type": "code",
   "execution_count": 25,
   "id": "broadband-usage",
   "metadata": {},
   "outputs": [
    {
     "name": "stdout",
     "output_type": "stream",
     "text": [
      "313/313 [==============================] - 1s 2ms/step - loss: 49.5836 - accuracy: 0.8642\n"
     ]
    },
    {
     "data": {
      "text/plain": [
       "[49.5836067199707, 0.8641999959945679]"
      ]
     },
     "execution_count": 25,
     "metadata": {},
     "output_type": "execute_result"
    }
   ],
   "source": [
    "model.evaluate(X_test, y_test)"
   ]
  },
  {
   "cell_type": "markdown",
   "id": "thorough-wallace",
   "metadata": {},
   "source": [
    "Generally, test set performance is slightly lower than validation set, because the hyperparameters tuned on validation set. And do not try to tune hyperparameters on the test set.\n",
    "\n",
    "#### Using the Model to make predictions\n",
    "\n",
    "Next, we can use model `predict()` method for predictions."
   ]
  },
  {
   "cell_type": "code",
   "execution_count": 26,
   "id": "logical-senator",
   "metadata": {},
   "outputs": [
    {
     "data": {
      "text/plain": [
       "array([[0., 0., 0., 0., 0., 0., 0., 0., 0., 1.],\n",
       "       [0., 0., 1., 0., 0., 0., 0., 0., 0., 0.],\n",
       "       [0., 1., 0., 0., 0., 0., 0., 0., 0., 0.]], dtype=float32)"
      ]
     },
     "execution_count": 26,
     "metadata": {},
     "output_type": "execute_result"
    }
   ],
   "source": [
    "X_new = X_test[:3]\n",
    "y_probs = model.predict(X_new)\n",
    "y_probs.round(2)"
   ]
  },
  {
   "cell_type": "markdown",
   "id": "animated-superior",
   "metadata": {},
   "source": [
    "This will give you probabilities for each class. If you only want class then you can use `np.argmax()` method with `axis=-1`.\n",
    "\n",
    "> Use  `np.argmax(model.predict(x), axis=-1)`,   if your model does multi-class classification (e.g. if it uses a `softmax` last-layer activation).`(model.predict(x) > 0.5).astype(\"int32\")`,   if your model does binary classification   (e.g. if it uses a `sigmoid` last-layer activation)."
   ]
  },
  {
   "cell_type": "code",
   "execution_count": 27,
   "id": "august-highland",
   "metadata": {},
   "outputs": [
    {
     "data": {
      "text/plain": [
       "array([9, 2, 1])"
      ]
     },
     "execution_count": 27,
     "metadata": {},
     "output_type": "execute_result"
    }
   ],
   "source": [
    "y_pred = np.argmax(model.predict(X_new), axis=-1)\n",
    "y_pred"
   ]
  },
  {
   "cell_type": "code",
   "execution_count": 28,
   "id": "opposed-issue",
   "metadata": {},
   "outputs": [
    {
     "data": {
      "text/plain": [
       "array(['Ankle boot', 'Pullover', 'Trouser'], dtype='<U11')"
      ]
     },
     "execution_count": 28,
     "metadata": {},
     "output_type": "execute_result"
    }
   ],
   "source": [
    "np.array(class_names)[y_pred]"
   ]
  },
  {
   "cell_type": "code",
   "execution_count": null,
   "id": "loaded-zealand",
   "metadata": {},
   "outputs": [],
   "source": []
  }
 ],
 "metadata": {
  "kernelspec": {
   "display_name": "Python 3",
   "language": "python",
   "name": "python3"
  },
  "language_info": {
   "codemirror_mode": {
    "name": "ipython",
    "version": 3
   },
   "file_extension": ".py",
   "mimetype": "text/x-python",
   "name": "python",
   "nbconvert_exporter": "python",
   "pygments_lexer": "ipython3",
   "version": "3.8.5"
  }
 },
 "nbformat": 4,
 "nbformat_minor": 5
}
