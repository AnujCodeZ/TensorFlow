{
 "cells": [
  {
   "cell_type": "markdown",
   "id": "aging-plymouth",
   "metadata": {},
   "source": [
    "# Custom Models and Training with TensorFlow\n",
    "\n",
    "Up until now we've used only TensorFlow high-level API, `tf.keras`. In most cases you will only use `tf.keras`. But when you want want extra control over your model, cost function, optimization, etc then you have to know about TensorFlow's low-level API.\n",
    "\n",
    "# A Quick tour of TensorFlow\n",
    "\n",
    "TensorFlow is the most popular Machine Learning framework.\n",
    "\n",
    "- Its core is similar to NumPy but with GPU.\n",
    "- It supports distributed computing.\n",
    "- It uses computational graphs which can be exported in any format. (with this you can use it with python or javascript)\n",
    "\n",
    "TensorFlow offers many features such as preprocessing, model building, visualization, deployment, mathematics, etc.\n",
    "\n",
    "TensorFlow's Python API overview:\n",
    "\n",
    "```python\n",
    "# High-level\n",
    "tf.keras\n",
    "tf.estimators\n",
    "\n",
    "# Low-level\n",
    "tf.nn\n",
    "tf.losses\n",
    "tf.metrices\n",
    "tf.optimizers\n",
    "tf.train\n",
    "tf.initializers\n",
    "\n",
    "# Autodiff\n",
    "tf.GradientTape\n",
    "tf.gradients()\n",
    "\n",
    "# I/O and prerpcessing\n",
    "tf.data\n",
    "tf.image\n",
    "tf.audio\n",
    "tf.feature_column\n",
    "tf.io\n",
    "tf.queue\n",
    "```\n",
    "\n",
    "# Using TensorFlow like NumPy\n",
    "\n",
    "TensorFlow uses *tensors*, which flow from operation to operation hence the name TensorFlow. A tensor is basically a multi-dimensional array. \n",
    "\n",
    "## Tensors and Operations\n",
    "\n",
    "Creating tensor:"
   ]
  },
  {
   "cell_type": "code",
   "execution_count": 4,
   "id": "fifteen-rocket",
   "metadata": {},
   "outputs": [
    {
     "data": {
      "text/plain": [
       "<tf.Tensor: shape=(2, 3), dtype=float32, numpy=\n",
       "array([[1., 2., 3.],\n",
       "       [4., 5., 6.]], dtype=float32)>"
      ]
     },
     "execution_count": 4,
     "metadata": {},
     "output_type": "execute_result"
    }
   ],
   "source": [
    "import tensorflow as tf\n",
    "\n",
    "t = tf.constant([[1., 2., 3.], [4., 5., 6.]]) # matrix\n",
    "t"
   ]
  },
  {
   "cell_type": "code",
   "execution_count": 3,
   "id": "asian-summary",
   "metadata": {},
   "outputs": [
    {
     "data": {
      "text/plain": [
       "<tf.Tensor: shape=(), dtype=int32, numpy=42>"
      ]
     },
     "execution_count": 3,
     "metadata": {},
     "output_type": "execute_result"
    }
   ],
   "source": [
    "tf.constant(42)"
   ]
  },
  {
   "cell_type": "markdown",
   "id": "amazing-decade",
   "metadata": {},
   "source": [
    "Shape and type:"
   ]
  },
  {
   "cell_type": "code",
   "execution_count": 5,
   "id": "daily-burton",
   "metadata": {},
   "outputs": [
    {
     "data": {
      "text/plain": [
       "TensorShape([2, 3])"
      ]
     },
     "execution_count": 5,
     "metadata": {},
     "output_type": "execute_result"
    }
   ],
   "source": [
    "t.shape"
   ]
  },
  {
   "cell_type": "code",
   "execution_count": 6,
   "id": "dated-cheese",
   "metadata": {},
   "outputs": [
    {
     "data": {
      "text/plain": [
       "tf.float32"
      ]
     },
     "execution_count": 6,
     "metadata": {},
     "output_type": "execute_result"
    }
   ],
   "source": [
    "t.dtype"
   ]
  },
  {
   "cell_type": "markdown",
   "id": "powered-collector",
   "metadata": {},
   "source": [
    "Slicing like NumPy array:"
   ]
  },
  {
   "cell_type": "code",
   "execution_count": 7,
   "id": "brief-prophet",
   "metadata": {},
   "outputs": [
    {
     "data": {
      "text/plain": [
       "<tf.Tensor: shape=(2, 2), dtype=float32, numpy=\n",
       "array([[2., 3.],\n",
       "       [5., 6.]], dtype=float32)>"
      ]
     },
     "execution_count": 7,
     "metadata": {},
     "output_type": "execute_result"
    }
   ],
   "source": [
    "t[:, 1:]"
   ]
  },
  {
   "cell_type": "code",
   "execution_count": 10,
   "id": "through-revolution",
   "metadata": {},
   "outputs": [
    {
     "data": {
      "text/plain": [
       "<tf.Tensor: shape=(2, 1), dtype=float32, numpy=\n",
       "array([[2.],\n",
       "       [5.]], dtype=float32)>"
      ]
     },
     "execution_count": 10,
     "metadata": {},
     "output_type": "execute_result"
    }
   ],
   "source": [
    "t[..., 1, tf.newaxis]"
   ]
  },
  {
   "cell_type": "markdown",
   "id": "timely-evidence",
   "metadata": {},
   "source": [
    "Operations"
   ]
  },
  {
   "cell_type": "code",
   "execution_count": 11,
   "id": "economic-constitution",
   "metadata": {},
   "outputs": [
    {
     "data": {
      "text/plain": [
       "<tf.Tensor: shape=(2, 3), dtype=float32, numpy=\n",
       "array([[11., 12., 13.],\n",
       "       [14., 15., 16.]], dtype=float32)>"
      ]
     },
     "execution_count": 11,
     "metadata": {},
     "output_type": "execute_result"
    }
   ],
   "source": [
    "t + 10"
   ]
  },
  {
   "cell_type": "code",
   "execution_count": 12,
   "id": "generous-thesis",
   "metadata": {},
   "outputs": [
    {
     "data": {
      "text/plain": [
       "<tf.Tensor: shape=(2, 3), dtype=float32, numpy=\n",
       "array([[ 1.,  4.,  9.],\n",
       "       [16., 25., 36.]], dtype=float32)>"
      ]
     },
     "execution_count": 12,
     "metadata": {},
     "output_type": "execute_result"
    }
   ],
   "source": [
    "tf.square(t)"
   ]
  },
  {
   "cell_type": "code",
   "execution_count": 13,
   "id": "worst-exhibition",
   "metadata": {},
   "outputs": [
    {
     "data": {
      "text/plain": [
       "<tf.Tensor: shape=(2, 2), dtype=float32, numpy=\n",
       "array([[14., 32.],\n",
       "       [32., 77.]], dtype=float32)>"
      ]
     },
     "execution_count": 13,
     "metadata": {},
     "output_type": "execute_result"
    }
   ],
   "source": [
    "t @ tf.transpose(t)"
   ]
  },
  {
   "cell_type": "markdown",
   "id": "substantial-prefix",
   "metadata": {},
   "source": [
    "## Tensors and NumPy\n",
    "\n",
    "Tensors are friendly to NumPy arrays, they can be converted into each other:"
   ]
  },
  {
   "cell_type": "code",
   "execution_count": 14,
   "id": "twenty-jason",
   "metadata": {},
   "outputs": [
    {
     "data": {
      "text/plain": [
       "<tf.Tensor: shape=(3,), dtype=float64, numpy=array([2., 4., 6.])>"
      ]
     },
     "execution_count": 14,
     "metadata": {},
     "output_type": "execute_result"
    }
   ],
   "source": [
    "import numpy as np\n",
    "\n",
    "a = np.array([2., 4., 6.])\n",
    "tf.constant(a)"
   ]
  },
  {
   "cell_type": "code",
   "execution_count": 15,
   "id": "developed-allen",
   "metadata": {},
   "outputs": [
    {
     "data": {
      "text/plain": [
       "array([[1., 2., 3.],\n",
       "       [4., 5., 6.]], dtype=float32)"
      ]
     },
     "execution_count": 15,
     "metadata": {},
     "output_type": "execute_result"
    }
   ],
   "source": [
    "t.numpy()"
   ]
  },
  {
   "cell_type": "markdown",
   "id": "fifth-hopkins",
   "metadata": {},
   "source": [
    "You can even apply TensorFlow operations to NumPy array and vice-versa:"
   ]
  },
  {
   "cell_type": "code",
   "execution_count": 16,
   "id": "amino-synthesis",
   "metadata": {},
   "outputs": [
    {
     "data": {
      "text/plain": [
       "<tf.Tensor: shape=(3,), dtype=float64, numpy=array([ 4., 16., 36.])>"
      ]
     },
     "execution_count": 16,
     "metadata": {},
     "output_type": "execute_result"
    }
   ],
   "source": [
    "tf.square(a)"
   ]
  },
  {
   "cell_type": "code",
   "execution_count": 17,
   "id": "enhanced-sequence",
   "metadata": {},
   "outputs": [
    {
     "data": {
      "text/plain": [
       "array([[ 1.,  4.,  9.],\n",
       "       [16., 25., 36.]], dtype=float32)"
      ]
     },
     "execution_count": 17,
     "metadata": {},
     "output_type": "execute_result"
    }
   ],
   "source": [
    "np.square(t)"
   ]
  },
  {
   "cell_type": "markdown",
   "id": "bearing-roommate",
   "metadata": {},
   "source": [
    "> Type conversion is sensitive in TensorFlow so be careful when using different types.\n",
    "\n",
    "## Variables\n",
    "\n",
    "The `tf.Tensor` are immutable, you can't modify them. So, for weights we need `tf.Variable`:"
   ]
  },
  {
   "cell_type": "code",
   "execution_count": 18,
   "id": "blocked-franklin",
   "metadata": {},
   "outputs": [
    {
     "data": {
      "text/plain": [
       "<tf.Variable 'Variable:0' shape=(2, 3) dtype=float32, numpy=\n",
       "array([[1., 2., 3.],\n",
       "       [4., 5., 6.]], dtype=float32)>"
      ]
     },
     "execution_count": 18,
     "metadata": {},
     "output_type": "execute_result"
    }
   ],
   "source": [
    "v = tf.Variable([[1., 2., 3.], [4., 5., 6.]])\n",
    "v"
   ]
  },
  {
   "cell_type": "markdown",
   "id": "cardiovascular-tenant",
   "metadata": {},
   "source": [
    "They are pretty much same as `tf.Tensor`. Now, you can modify them using `assign()` method:"
   ]
  },
  {
   "cell_type": "code",
   "execution_count": 21,
   "id": "female-feelings",
   "metadata": {},
   "outputs": [
    {
     "name": "stdout",
     "output_type": "stream",
     "text": [
      "<tf.Variable 'UnreadVariable' shape=(2, 3) dtype=float32, numpy=\n",
      "array([[ 8., 84.,  0.],\n",
      "       [32., 40.,  2.]], dtype=float32)>\n",
      "<tf.Variable 'UnreadVariable' shape=(2, 3) dtype=float32, numpy=\n",
      "array([[ 8., 42.,  0.],\n",
      "       [32., 40.,  2.]], dtype=float32)>\n",
      "<tf.Variable 'UnreadVariable' shape=(2, 3) dtype=float32, numpy=\n",
      "array([[ 8., 42.,  0.],\n",
      "       [32., 40.,  1.]], dtype=float32)>\n",
      "<tf.Variable 'UnreadVariable' shape=(2, 3) dtype=float32, numpy=\n",
      "array([[100.,  42.,   0.],\n",
      "       [ 32.,  40., 200.]], dtype=float32)>\n"
     ]
    }
   ],
   "source": [
    "print(v.assign(2 * v))\n",
    "print(v[0, 1].assign(42))\n",
    "print(v[:, 2].assign([0., 1.]))\n",
    "print(v.scatter_nd_update(indices=[[0, 0], [1, 2]], updates=[100., 200.]))"
   ]
  },
  {
   "cell_type": "code",
   "execution_count": null,
   "id": "occupied-luxembourg",
   "metadata": {},
   "outputs": [],
   "source": []
  }
 ],
 "metadata": {
  "kernelspec": {
   "display_name": "Python 3",
   "language": "python",
   "name": "python3"
  },
  "language_info": {
   "codemirror_mode": {
    "name": "ipython",
    "version": 3
   },
   "file_extension": ".py",
   "mimetype": "text/x-python",
   "name": "python",
   "nbconvert_exporter": "python",
   "pygments_lexer": "ipython3",
   "version": "3.8.5"
  }
 },
 "nbformat": 4,
 "nbformat_minor": 5
}
