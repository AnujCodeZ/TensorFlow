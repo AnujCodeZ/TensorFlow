{
 "cells": [
  {
   "cell_type": "markdown",
   "id": "amended-friendly",
   "metadata": {},
   "source": [
    "# Introduction to Artificial Neural Network with Keras\n",
    "\n",
    "## Introduction\n",
    "\n",
    "*Artificial Neural Networks* (ANNs) is a Machine Learning Model inspired by the networks of biological neurons found in our brains.\n",
    "\n",
    "ANNs are the very core of Deep Learning. They are versatile, powerful, and scalable. They are able to tackle complex problems like classifying large number of images (Google Images), speech recognition services (\"OK Google\"), recommending movies (Netflix), etc.\n",
    "\n",
    "We'll use popular Keras API: this is a beautifully designed and simple high-level API for building, training, evaluating, and running neural networks. \n",
    "\n",
    "## History of ANNs\n",
    "\n",
    "ANNs first introduced back in 1943 by Neurophysiologist Warren McCulloch and the mathematician Walter Pitts in their paper \"A Logical Calculus of Ideas Immanent in Nervous Activity\".\n",
    "\n",
    "In 1960, idea of making intelligent machines seems impossible (for quite a while), ANNs entered a long winter.\n",
    "\n",
    "In early 1980, new architectures were build, interest rises in *connectionism* (the study of neural networks), progress was slow. And around 1990, more powerful Machine Learning Algorithms was built like SVMs. So they put on hold again.\n",
    "\n",
    "But now we see that ANNs are rising and this time they keep rising. Here are few reasons why:\n",
    "\n",
    "- Huge quantity of data available.\n",
    "- Increase in Computing powers, and thanks to Gaming industry to give us GPU.\n",
    "- Training algorithms have been improved.\n",
    "- More funding in building amazing products and research.\n",
    "\n",
    "## Logical Computations with Neurons\n",
    "\n",
    "McCulloch and Pitts proposed a very simple model of the biological neuron, which later became known as *artificial neuron*: it has one or more binary inputs and one binary output. The artificial neuron activates its output when more than a certain number of its inputs are active. \n",
    "\n",
    "You can compute complex logical expressions by changing the inputs or combining them.\n",
    "\n",
    "## The Perceptron\n",
    "\n",
    "The *Perceptron* is one of the simplest ANN architectures, invented in 1957 by Frank Rosenblatt. It is based on slightly different artificial neuron called a *threshold logic unit* (TLU), or sometimes a *linear threshold unit* (LTU).\n",
    "\n",
    "The inputs and output are numbers, and each connection holds some value called *weights*. The TLU computes a weighted sum of its inputs:\n",
    "$$\n",
    "z = w_1x_1 + w_2x_2 + ... + w_nx_n = X^TW\n",
    "$$\n",
    " Then applies a *step function* and results an output:\n",
    "$$\n",
    "h_w(X) = step(z), where\\ z = X^TW\n",
    "$$\n",
    "The most common step function used in Perceptron is the *Heaviside step function*:\n",
    "$$\n",
    "heaviside(z) = \\{{0, if\\ z < 0 \\\\ 1, if z >= 0}\n",
    "$$\n",
    "Sometimes a sign function:\n",
    "$$\n",
    "sign(z) = \\{{-1, if\\ z < 0 \\\\ 0, if\\ z = 0 \\\\ 1, if\\ z > 0}\n",
    "$$\n",
    "A single TLU can be use for simple linear binary classification. Training a TLU means finding the right values of weights.\n",
    "\n",
    "A Perceptron is simply composed of a single layer of TLUs, with each TLU connected to all the inputs.\n",
    "\n",
    "When all the neurons in a layer are connected to every neuron in previous layer, the layer is called *fully connected layer* or *dense layer*.\n",
    "\n",
    "The inputs of Perceptron are simply passthrough neurons called *input neurons*: they output whatever they are fed. All the input neurons form the *input layer*. Moreover, an extra bias feature is added: represented as a *bias neuron*, always outputs 1. \n",
    "\n",
    "Computing the outputs of a fully connected layer:\n",
    "$$\n",
    "h_{W, b} = \\phi(XW + b)\n",
    "$$\n",
    " In this equation,\n",
    "\n",
    "- **X**: inputs matrix\n",
    "- **W**: weights matrix\n",
    "- **b**: bias\n",
    "- $\\phi$: it represents *activation function*\n",
    "\n",
    "The training of Perceptron was largely inspired by *Hebb's rule*: which is summarized as \"cells that fire together, wire together\"; that is connection weights between two neurons tends to increase when they activates together.\n",
    "\n",
    "The Perceptron trains with slight different variant that takes into account of error made by the network. It reinforces the connection when it makes an error. The rule is:\n",
    "$$\n",
    "w_{i,j}^{(next\\ step)} = w_{i, j} + \\eta(y_j - \\hat y_j)x_i\n",
    "$$\n",
    "In this equation:\n",
    "\n",
    "- $w_{i,j}$ is the connection weight between the $i^{th}$ input neuron and the $j^{th}$ output neuron.\n",
    "- $x_i$ is the $i^{th}$ input value of current training instance.\n",
    "- $y_j$ is the target output of the $j^{th}$ output neuron.\n",
    "- $\\hat y_j$ is the output of the $j^{th}$ output neuron.\n",
    "- $\\eta$ is the learning rate.\n",
    "\n",
    "The decision boundary of the TLUs are linear, so Perceptron are incapable of learning complex patterns. Overall this algorithm is called *Perceptron convergence theorem*.\n",
    "\n",
    "You can use Sklearn's `Perceptron` to do this. However, it is same as the SGD classifier of Sklearn with hyperparameters `loss=\"perceptron\", learning rate=\"constant\"`.\n",
    "\n",
    "Perceptrons do not output a class probability as Logistic regression. Rather, they output a hard threshold.\n",
    "\n",
    "In 1969 monograph *Perceptrons*, there are weakness of Perceptrons like it cannot solve XOR problem. \n",
    "\n",
    "It turns out limitations of Perceptron can be replaced by stacking multiple Perceptrons. The resulting ANN is called *Multilayer Perceptron* (MLP). An MLP can solve XOR problem easily.\n",
    "\n",
    "\n",
    "## Perceptron"
   ]
  },
  {
   "cell_type": "code",
   "execution_count": 1,
   "id": "wooden-conditioning",
   "metadata": {},
   "outputs": [],
   "source": [
    "import numpy as np\n",
    "from sklearn.datasets import load_iris\n",
    "from sklearn.linear_model import Perceptron"
   ]
  },
  {
   "cell_type": "code",
   "execution_count": 2,
   "id": "answering-momentum",
   "metadata": {},
   "outputs": [],
   "source": [
    "iris = load_iris()\n",
    "X = iris.data[:, (2, 3)] # petal length and width\n",
    "y = (iris.target == 0).astype(np.int) # Iris setosa?"
   ]
  },
  {
   "cell_type": "code",
   "execution_count": 3,
   "id": "racial-battery",
   "metadata": {},
   "outputs": [
    {
     "data": {
      "text/plain": [
       "Perceptron()"
      ]
     },
     "execution_count": 3,
     "metadata": {},
     "output_type": "execute_result"
    }
   ],
   "source": [
    "per_clf = Perceptron()\n",
    "per_clf.fit(X, y)"
   ]
  },
  {
   "cell_type": "code",
   "execution_count": 4,
   "id": "wooden-harassment",
   "metadata": {},
   "outputs": [
    {
     "data": {
      "text/plain": [
       "array([0])"
      ]
     },
     "execution_count": 4,
     "metadata": {},
     "output_type": "execute_result"
    }
   ],
   "source": [
    "y_pred = per_clf.predict([[2, 0.5]])\n",
    "y_pred"
   ]
  },
  {
   "cell_type": "markdown",
   "id": "further-surrey",
   "metadata": {},
   "source": [
    "## Multilayer Perceptron and Backpropagation\n",
    "\n",
    "A MLP is composed of one (passthrough) *input layer*, one or more layers of TLUs, called *hidden layers*, and one final layer of TLUs called the *output layer*. \n",
    "\n",
    "The layers close to input layer are usually called *lower layers*, and one close to output layer called *upper layers*.\n",
    "\n",
    "Every layer except output layer includes the bias neuron and is fully connected to the next layer.\n",
    "\n",
    "> The signal flows only in one direction (from the inputs to the outputs), so this architecture called *feedforward neural network* (FNN).\n",
    "\n",
    "When an ANN contains deep stack of hidden layers, it is called *deep neural networks* (DNN). \n",
    "\n",
    "In 1986, David Rumelhart, Geoffrey Hinton, and Ronald Williams published a paper that introduces the *backpropagation*. Which is ground breaking and still in use. In short it is Gradient Descent using an efficient way to calculate gradients automatically.\n",
    "\n",
    "> Automatically computing gradients is called *automatic differentiation*, or *autodiff*. The autodiff technique used in backpropagation is called *reverse-mode autodiff*. It is fast and precise, and well suited for when function to differentiate has many variables (e.g. connection weights) and few outputs (e.g. loss).\n",
    "\n",
    "Backpropagation Algorithm:\n",
    "\n",
    "- It handles one mini-batch at a time, and it goes through full training set multiple times. Each pass though full training set is called an *epoch*.\n",
    "- Each mini-batch is passed through the network from input layer through hidden layers to the output layer, this is called *forward pass*. The results for every layer is preserved in order to compute gradients.\n",
    "- Next, algorithm measures the network's output error (by loss function).\n",
    "- Then it computes how much each output connection contributed to the error analytically by applying chain rule.\n",
    "- Then it measures how much of these error contributions came from each connection in the layer below, again using chain rule, working backward until the algo reaches to the input layer. This is called *backward pass*.\n",
    "- Finally, the algorithm performs Gradient Descent step to tweak all the connection weights in the network, using error gradients it just computed.\n",
    "\n",
    "> It is important to initialize all the hidden layers' connection weights randomly, or else training will fall. For example, if you initialize all weights and bias to zero, then all neurons in a given layer will be perfectly identical, and backpropagation will affect them in a same way, so they will remain identical. Network treat a layer as only one neuron. If you initialize the weights randomly, you *break the symmetry* and allow backpropagation to train a diverse team of neurons.\n",
    "\n",
    "In order to work this algorithm properly, there is a key change in MLP: they replaced the step function (non-differentiable) to the logistic (sigmoid) function,\n",
    "$$\n",
    "\\sigma(z) = 1 / (1 + \\exp(-z))\n",
    "$$\n",
    "Sigmoid is differentiable and ranges from 0 to 1. There are others we can use:\n",
    "\n",
    "- *Hyperbolic tangent function*: $\\tanh(z) = 2\\sigma(2z)-1$\n",
    "  - It is like sigmoid, but ranges from -1 to 1. Which make layer's output more centered around 0 at the beginning of training, which often helps speed up convergence.\n",
    "- *The Rectified Linear Unit function*: $ReLU(z) = \\max(0, z)$\n",
    "  - It is continuous but not differentiable at 0. But in practice it works well and computed very fast, which makes it default for today's architectures. It's derivative is 0 for z < 0 and has no upper limit which makes it more usable.\n",
    "\n",
    "We need activation functions because if we chain linear transformations we get a linear transformation. So if you don't have non-linearity between layers, then deep networks is equivalent to single layer network.\n",
    "\n",
    "## Regression MLPs\n",
    "\n",
    "We can use MLPs for regression tasks. To predict single values, you just need an output neuron, and for multivariate regression, you need one output neuron for every dimension (value).\n",
    "\n",
    "In general, you don't need any activation function for the output layer. If you want positive output then you can use ReLU or *softplus function*, which is smooth variant of ReLU: $softplus(z) = \\log(1 + \\exp(z))$.\n",
    "\n",
    "Finally, if you want output in a specific range, you could use sigmoid or tanh and scale it up to your specific range.\n",
    "\n",
    "The loss function is generally mean squared error. But if you have lots of outliers you could use mean absolute error. Alternatively, you can use the *Huber loss*, which is combination of both.\n",
    "\n",
    "> Huber loss is quadratic when error is smaller than a threshold $\\delta$ (typically 1) but linear when greater.\n",
    "\n",
    "## Classification MLPs\n",
    "\n",
    "They mostly used in classification tasks. For a binary classification, you can use an output neuron with logistic function. The output will be in range 0 and 1, also gives you probability of 1 (positive class).\n",
    "\n",
    "MLPs can also easily handle multilabel binary classification. You can use two neurons with logistic function if you have 2 labels. The probability of both does not add up to 1, means label are independent.\n",
    "\n",
    "If your labels are dependent (e.g. MNIST), then you use output neuron for each label and apply *softmax function* to whole output layer, which produce a probabilities which add up to 1. This is called multiclass classification.\n",
    "\n",
    "For loss, since we are pretending the output is probability distribution, the *cross-entropy loss* (also called the log loss) is generally a good choice.\n",
    "\n",
    "## Implementing MLPs with Keras\n",
    "We'll be using Keras, which is a Deep Learning API that allows you to easily build, train, evaluate, and execute all types of neural networks. It was developed Francois Chollet as part of a research project, and it made open source in March 2015.\n",
    "\n",
    "Tensorflow is a framework that multi functionality to perform Deep Learning, Tensorflow 2 has made Keras as its official API.\n",
    "### Buildind an Image Classifier using the Sequential API\n",
    "Install tensorflow and check the versions"
   ]
  },
  {
   "cell_type": "code",
   "execution_count": 5,
   "id": "willing-heritage",
   "metadata": {},
   "outputs": [
    {
     "data": {
      "text/plain": [
       "'2.4.1'"
      ]
     },
     "execution_count": 5,
     "metadata": {},
     "output_type": "execute_result"
    }
   ],
   "source": [
    "import tensorflow as tf\n",
    "from tensorflow import keras\n",
    "tf.__version__"
   ]
  },
  {
   "cell_type": "code",
   "execution_count": 6,
   "id": "cheap-hardware",
   "metadata": {},
   "outputs": [
    {
     "data": {
      "text/plain": [
       "'2.4.0'"
      ]
     },
     "execution_count": 6,
     "metadata": {},
     "output_type": "execute_result"
    }
   ],
   "source": [
    "keras.__version__"
   ]
  },
  {
   "cell_type": "markdown",
   "id": "burning-switch",
   "metadata": {},
   "source": [
    "#### Using Keras to load the dataset\n",
    "Keras provides some utility functions to fetch and load common datasets. Let's use Fashion MNIST, it is similar to MNIST but contain cloth images instead of digits."
   ]
  },
  {
   "cell_type": "code",
   "execution_count": 7,
   "id": "standard-pillow",
   "metadata": {},
   "outputs": [],
   "source": [
    "fashion_mnist = keras.datasets.fashion_mnist\n",
    "(X_train_full, y_train_full), (X_test, y_test) = fashion_mnist.load_data()"
   ]
  },
  {
   "cell_type": "markdown",
   "id": "asian-victory",
   "metadata": {},
   "source": [
    "Keras' Fashion MNIST gives 28x28 array for each image, type as integers, and ranges from 0 to 255 as pixel intensities. "
   ]
  },
  {
   "cell_type": "code",
   "execution_count": 8,
   "id": "superior-ladder",
   "metadata": {},
   "outputs": [
    {
     "data": {
      "text/plain": [
       "((60000, 28, 28), (10000, 28, 28))"
      ]
     },
     "execution_count": 8,
     "metadata": {},
     "output_type": "execute_result"
    }
   ],
   "source": [
    "X_train_full.shape, X_test.shape"
   ]
  },
  {
   "cell_type": "code",
   "execution_count": 9,
   "id": "incredible-salvation",
   "metadata": {},
   "outputs": [
    {
     "data": {
      "text/plain": [
       "dtype('uint8')"
      ]
     },
     "execution_count": 9,
     "metadata": {},
     "output_type": "execute_result"
    }
   ],
   "source": [
    "X_train_full.dtype"
   ]
  },
  {
   "cell_type": "markdown",
   "id": "opened-equivalent",
   "metadata": {},
   "source": [
    "It already splits dataset into train and test, but not validation set. We'll use Gradient Descent so we must scale input features by dividing them by 255.0. Now, numbers are in range 0-1 and become float."
   ]
  },
  {
   "cell_type": "code",
   "execution_count": 10,
   "id": "negative-meaning",
   "metadata": {},
   "outputs": [],
   "source": [
    "X_valid, X_train = X_train_full[:5000] / 255.0, X_train_full[5000:] / 255.0\n",
    "y_valid, y_train = y_train_full[:5000], y_train_full[5000:]"
   ]
  },
  {
   "cell_type": "markdown",
   "id": "fifth-snowboard",
   "metadata": {},
   "source": [
    "For Fashion MNIST, we need the list of class names to know the labels."
   ]
  },
  {
   "cell_type": "code",
   "execution_count": 11,
   "id": "manufactured-prince",
   "metadata": {},
   "outputs": [],
   "source": [
    "class_names = [\"T-shirt/Top\", \"Trouser\", \"Pullover\", \"Dress\", \"Coat\", \n",
    "              \"Sandal\", \"Shirt\", \"Sneaker\", \"Bag\", \"Ankle boot\"]"
   ]
  },
  {
   "cell_type": "code",
   "execution_count": 12,
   "id": "automotive-proof",
   "metadata": {},
   "outputs": [
    {
     "data": {
      "text/plain": [
       "'Coat'"
      ]
     },
     "execution_count": 12,
     "metadata": {},
     "output_type": "execute_result"
    }
   ],
   "source": [
    "class_names[y_train[0]]"
   ]
  },
  {
   "cell_type": "markdown",
   "id": "sustainable-compromise",
   "metadata": {},
   "source": [
    "#### Creating the Model using the Sequential API"
   ]
  },
  {
   "cell_type": "code",
   "execution_count": 13,
   "id": "included-leadership",
   "metadata": {},
   "outputs": [],
   "source": [
    "model = keras.models.Sequential()\n",
    "model.add(keras.layers.Flatten(input_shape=[28, 28]))\n",
    "model.add(keras.layers.Dense(300, activation='relu'))\n",
    "model.add(keras.layers.Dense(100, activation='relu'))\n",
    "model.add(keras.layers.Dense(10, activation='softmax'))"
   ]
  },
  {
   "cell_type": "markdown",
   "id": "convertible-estimate",
   "metadata": {},
   "source": [
    "Let's go though code:\n",
    "\n",
    "- `Sequential` model is the simplest Keras model to compose a single stack of layers connected sequentially.\n",
    "- Next, the first layer added to the model. It is a `Flatten` layer, whose role is to convert input shape as 1D array. It does not accept any parameters, since it is first layer you need to pass `input_shape`. Alternatively, you could add `keras.layers.InputLayer` with passing `input_shape=[28, 28]`.\n",
    "- Next, we add a `Dense` layer with 300 neuron number passing to it. It has an activation function ReLU. It manages all weights and bias when receives inputs.\n",
    "\n",
    "- Then we add another `Dense` layer with 100 neurons and activation as ReLU.\n",
    "- Finally, we add a `Dense` output layer with 10 neurons (one per class), using the softmax activation function.\n",
    "\n",
    "> Specifying `activation='relu'` is equivalent to `activation=keras.activations.relu`.\n",
    "\n",
    "Instead of adding layers one by one, you could pass a list of layers when creating th `Sequential` model."
   ]
  },
  {
   "cell_type": "code",
   "execution_count": 14,
   "id": "separated-colombia",
   "metadata": {},
   "outputs": [],
   "source": [
    "model = keras.models.Sequential([\n",
    "    keras.layers.Flatten(input_shape=[28, 28]),\n",
    "    keras.layers.Dense(300, activation='relu'),\n",
    "    keras.layers.Dense(100, activation='relu'),\n",
    "    keras.layers.Dense(10, activation='softmax')\n",
    "])"
   ]
  },
  {
   "cell_type": "markdown",
   "id": "selected-bronze",
   "metadata": {},
   "source": [
    "The model's `summary()` method displays all the model's layers, including their name (which automatically created if not mentioned), output shape and number of parameters with total parameters, trainable and non-trainable parameter numbers."
   ]
  },
  {
   "cell_type": "code",
   "execution_count": 15,
   "id": "ranging-valve",
   "metadata": {},
   "outputs": [
    {
     "name": "stdout",
     "output_type": "stream",
     "text": [
      "Model: \"sequential_1\"\n",
      "_________________________________________________________________\n",
      "Layer (type)                 Output Shape              Param #   \n",
      "=================================================================\n",
      "flatten_1 (Flatten)          (None, 784)               0         \n",
      "_________________________________________________________________\n",
      "dense_3 (Dense)              (None, 300)               235500    \n",
      "_________________________________________________________________\n",
      "dense_4 (Dense)              (None, 100)               30100     \n",
      "_________________________________________________________________\n",
      "dense_5 (Dense)              (None, 10)                1010      \n",
      "=================================================================\n",
      "Total params: 266,610\n",
      "Trainable params: 266,610\n",
      "Non-trainable params: 0\n",
      "_________________________________________________________________\n"
     ]
    }
   ],
   "source": [
    "model.summary()"
   ]
  },
  {
   "cell_type": "markdown",
   "id": "integral-print",
   "metadata": {},
   "source": [
    "However, you can use `keras.utils.plot_model()` to generate an image of your model."
   ]
  },
  {
   "cell_type": "code",
   "execution_count": 16,
   "id": "parental-optics",
   "metadata": {},
   "outputs": [
    {
     "data": {
      "image/png": "[encoded data removed]",
      "text/plain": [
       "<IPython.core.display.Image object>"
      ]
     },
     "execution_count": 16,
     "metadata": {},
     "output_type": "execute_result"
    }
   ],
   "source": [
    "keras.utils.plot_model(model)"
   ]
  },
  {
   "cell_type": "markdown",
   "id": "running-ladder",
   "metadata": {},
   "source": [
    "Note that, `Dense` layer has lot of parameters. This gives the model a lot of flexibility to fit the data, but it also means that model could overfit the data. Specially when you don't have lots of data.\n",
    "\n",
    "You can easily get a list of layers."
   ]
  },
  {
   "cell_type": "code",
   "execution_count": 17,
   "id": "tropical-turkey",
   "metadata": {},
   "outputs": [
    {
     "data": {
      "text/plain": [
       "[<tensorflow.python.keras.layers.core.Flatten at 0x7f3622e381f0>,\n",
       " <tensorflow.python.keras.layers.core.Dense at 0x7f3622e38340>,\n",
       " <tensorflow.python.keras.layers.core.Dense at 0x7f3625324d60>,\n",
       " <tensorflow.python.keras.layers.core.Dense at 0x7f3622e16b20>]"
      ]
     },
     "execution_count": 17,
     "metadata": {},
     "output_type": "execute_result"
    }
   ],
   "source": [
    "model.layers"
   ]
  },
  {
   "cell_type": "code",
   "execution_count": 18,
   "id": "political-worry",
   "metadata": {},
   "outputs": [
    {
     "data": {
      "text/plain": [
       "'dense_3'"
      ]
     },
     "execution_count": 18,
     "metadata": {},
     "output_type": "execute_result"
    }
   ],
   "source": [
    "hidden1 = model.layers[1]\n",
    "hidden1.name"
   ]
  },
  {
   "cell_type": "code",
   "execution_count": 19,
   "id": "informal-suicide",
   "metadata": {},
   "outputs": [
    {
     "data": {
      "text/plain": [
       "True"
      ]
     },
     "execution_count": 19,
     "metadata": {},
     "output_type": "execute_result"
    }
   ],
   "source": [
    "model.get_layer('dense_3') is hidden1"
   ]
  },
  {
   "cell_type": "markdown",
   "id": "municipal-drilling",
   "metadata": {},
   "source": [
    "All the parameters can be accessed by `get_weights()` and `set_weights()` methods."
   ]
  },
  {
   "cell_type": "code",
   "execution_count": 20,
   "id": "sized-honduras",
   "metadata": {},
   "outputs": [
    {
     "data": {
      "text/plain": [
       "(array([[ 0.04912871,  0.04384769,  0.02560204, ...,  0.046463  ,\n",
       "         -0.02678521,  0.05448133],\n",
       "        [-0.00158947,  0.06611165,  0.04448956, ..., -0.06629839,\n",
       "          0.02476004,  0.04791243],\n",
       "        [ 0.05714533, -0.03431037,  0.06473538, ..., -0.06917706,\n",
       "         -0.05045783,  0.05423996],\n",
       "        ...,\n",
       "        [-0.03091257, -0.05223415,  0.01647809, ...,  0.0170871 ,\n",
       "          0.05459966,  0.07111338],\n",
       "        [ 0.02688216, -0.04065789,  0.01691267, ..., -0.04013266,\n",
       "         -0.05917837,  0.03159022],\n",
       "        [ 0.0295588 , -0.03157217, -0.00555795, ..., -0.0495863 ,\n",
       "          0.00682347, -0.05790778]], dtype=float32),\n",
       " array([0., 0., 0., 0., 0., 0., 0., 0., 0., 0., 0., 0., 0., 0., 0., 0., 0.,\n",
       "        0., 0., 0., 0., 0., 0., 0., 0., 0., 0., 0., 0., 0., 0., 0., 0., 0.,\n",
       "        0., 0., 0., 0., 0., 0., 0., 0., 0., 0., 0., 0., 0., 0., 0., 0., 0.,\n",
       "        0., 0., 0., 0., 0., 0., 0., 0., 0., 0., 0., 0., 0., 0., 0., 0., 0.,\n",
       "        0., 0., 0., 0., 0., 0., 0., 0., 0., 0., 0., 0., 0., 0., 0., 0., 0.,\n",
       "        0., 0., 0., 0., 0., 0., 0., 0., 0., 0., 0., 0., 0., 0., 0., 0., 0.,\n",
       "        0., 0., 0., 0., 0., 0., 0., 0., 0., 0., 0., 0., 0., 0., 0., 0., 0.,\n",
       "        0., 0., 0., 0., 0., 0., 0., 0., 0., 0., 0., 0., 0., 0., 0., 0., 0.,\n",
       "        0., 0., 0., 0., 0., 0., 0., 0., 0., 0., 0., 0., 0., 0., 0., 0., 0.,\n",
       "        0., 0., 0., 0., 0., 0., 0., 0., 0., 0., 0., 0., 0., 0., 0., 0., 0.,\n",
       "        0., 0., 0., 0., 0., 0., 0., 0., 0., 0., 0., 0., 0., 0., 0., 0., 0.,\n",
       "        0., 0., 0., 0., 0., 0., 0., 0., 0., 0., 0., 0., 0., 0., 0., 0., 0.,\n",
       "        0., 0., 0., 0., 0., 0., 0., 0., 0., 0., 0., 0., 0., 0., 0., 0., 0.,\n",
       "        0., 0., 0., 0., 0., 0., 0., 0., 0., 0., 0., 0., 0., 0., 0., 0., 0.,\n",
       "        0., 0., 0., 0., 0., 0., 0., 0., 0., 0., 0., 0., 0., 0., 0., 0., 0.,\n",
       "        0., 0., 0., 0., 0., 0., 0., 0., 0., 0., 0., 0., 0., 0., 0., 0., 0.,\n",
       "        0., 0., 0., 0., 0., 0., 0., 0., 0., 0., 0., 0., 0., 0., 0., 0., 0.,\n",
       "        0., 0., 0., 0., 0., 0., 0., 0., 0., 0., 0.], dtype=float32))"
      ]
     },
     "execution_count": 20,
     "metadata": {},
     "output_type": "execute_result"
    }
   ],
   "source": [
    "weights, bias = hidden1.get_weights()\n",
    "weights, bias"
   ]
  },
  {
   "cell_type": "code",
   "execution_count": 21,
   "id": "dirty-visitor",
   "metadata": {},
   "outputs": [
    {
     "data": {
      "text/plain": [
       "((784, 300), (300,))"
      ]
     },
     "execution_count": 21,
     "metadata": {},
     "output_type": "execute_result"
    }
   ],
   "source": [
    "weights.shape, bias.shape"
   ]
  },
  {
   "cell_type": "markdown",
   "id": "irish-gentleman",
   "metadata": {},
   "source": [
    "`Dense` layer initialize the connection weights randomly, and biases to zeros. If you want to change initialization, you can set `kernel_initializer` (kernel is another name of matrix of connection weights) or `bias_initializer` when creating the layer.\n",
    "\n",
    "> The shape of the weigthts matrix depends on the input shape. That's why we need to specify input shape at start. But if you don't that's okay Keras will wait until you pass it the data or you can call its `build()` mehod. \n",
    "\n"
   ]
  },
  {
   "cell_type": "markdown",
   "id": "hollow-wisconsin",
   "metadata": {},
   "source": [
    "#### Compiling the Model\n",
    "After a model is created, you must call its `compile()` method to specify loss and optimizer, optionally you can specify some metrics to compute during training and evaluation."
   ]
  },
  {
   "cell_type": "code",
   "execution_count": 22,
   "id": "adjusted-spray",
   "metadata": {},
   "outputs": [],
   "source": [
    "model.compile(loss='sparse_categorical_crossentropy',\n",
    "             optimizer='sgd',\n",
    "             metrics=['accuracy'])"
   ]
  },
  {
   "cell_type": "markdown",
   "id": "official-gibson",
   "metadata": {},
   "source": [
    "> Using `loss='sparse_categorical_crossentropy'` is equivalent to `loss=keras.losses.sparse_categorical_crossentropy`, same goes for optimizers and metrics.\n",
    "\n",
    "We use `sparse_categorical_crossentropy` loss because we have sparse labels (i.e. for each instances, there is just a target class index, from 0 to 9). If we had one-hot vectors then we'll use `categorical_crossentropy` loss instead. If we were doing binary classification binary classification, then we should use `sigmoid` activation function in the output layer, and we would use the `binary_crossentropy` loss.\n",
    "\n",
    "> If you want to convert sparse labels to one-hot vector labels, use `keras.utils.to_categorical()` function. To go other way around, use the `np.argmax()` function with `axis=1`.\n",
    "\n",
    "For optimizer `\"sgd\"` means that we will train model using simple Stochastic Gradient Descent.\n",
    "\n",
    "> When using SGD optimizer, it is important to tune the learning rate. So, you will generally want to use `optimizer=keras.optimizers.SGD(lr=???)` to set the learning rate, which defaults to `lr=0.01`\n",
    "\n",
    "Finally, metrics is `\"accuracy\"` which is calculated during training and evaluation.\n",
    "\n",
    "#### Training and evaluating the Model\n",
    "\n",
    "For this we simply call its `fit()` method."
   ]
  },
  {
   "cell_type": "code",
   "execution_count": 23,
   "id": "historical-danger",
   "metadata": {},
   "outputs": [
    {
     "name": "stdout",
     "output_type": "stream",
     "text": [
      "Epoch 1/30\n",
      "1719/1719 [==============================] - 4s 2ms/step - loss: 0.9788 - accuracy: 0.6928 - val_loss: 0.5161 - val_accuracy: 0.8250\n",
      "Epoch 2/30\n",
      "1719/1719 [==============================] - 4s 2ms/step - loss: 0.5041 - accuracy: 0.8235 - val_loss: 0.4505 - val_accuracy: 0.8456\n",
      "Epoch 3/30\n",
      "1719/1719 [==============================] - 4s 2ms/step - loss: 0.4506 - accuracy: 0.8450 - val_loss: 0.4417 - val_accuracy: 0.8472\n",
      "Epoch 4/30\n",
      "1719/1719 [==============================] - 4s 2ms/step - loss: 0.4277 - accuracy: 0.8518 - val_loss: 0.4075 - val_accuracy: 0.8612\n",
      "Epoch 5/30\n",
      "1719/1719 [==============================] - 4s 2ms/step - loss: 0.4012 - accuracy: 0.8594 - val_loss: 0.3708 - val_accuracy: 0.8702\n",
      "Epoch 6/30\n",
      "1719/1719 [==============================] - 4s 2ms/step - loss: 0.3836 - accuracy: 0.8665 - val_loss: 0.3684 - val_accuracy: 0.8734\n",
      "Epoch 7/30\n",
      "1719/1719 [==============================] - 4s 2ms/step - loss: 0.3727 - accuracy: 0.8710 - val_loss: 0.3668 - val_accuracy: 0.8720\n",
      "Epoch 8/30\n",
      "1719/1719 [==============================] - 4s 2ms/step - loss: 0.3599 - accuracy: 0.8711 - val_loss: 0.3528 - val_accuracy: 0.8734\n",
      "Epoch 9/30\n",
      "1719/1719 [==============================] - 4s 2ms/step - loss: 0.3470 - accuracy: 0.8753 - val_loss: 0.3418 - val_accuracy: 0.8826\n",
      "Epoch 10/30\n",
      "1719/1719 [==============================] - 4s 2ms/step - loss: 0.3368 - accuracy: 0.8790 - val_loss: 0.3581 - val_accuracy: 0.8750\n",
      "Epoch 11/30\n",
      "1719/1719 [==============================] - 4s 2ms/step - loss: 0.3296 - accuracy: 0.8803 - val_loss: 0.3558 - val_accuracy: 0.8726\n",
      "Epoch 12/30\n",
      "1719/1719 [==============================] - 4s 2ms/step - loss: 0.3213 - accuracy: 0.8843 - val_loss: 0.3383 - val_accuracy: 0.8804\n",
      "Epoch 13/30\n",
      "1719/1719 [==============================] - 4s 2ms/step - loss: 0.3126 - accuracy: 0.8880 - val_loss: 0.3273 - val_accuracy: 0.8844\n",
      "Epoch 14/30\n",
      "1719/1719 [==============================] - 4s 2ms/step - loss: 0.3026 - accuracy: 0.8922 - val_loss: 0.3331 - val_accuracy: 0.8798\n",
      "Epoch 15/30\n",
      "1719/1719 [==============================] - 4s 2ms/step - loss: 0.2983 - accuracy: 0.8925 - val_loss: 0.3155 - val_accuracy: 0.8850\n",
      "Epoch 16/30\n",
      "1719/1719 [==============================] - 4s 2ms/step - loss: 0.2873 - accuracy: 0.8964 - val_loss: 0.3143 - val_accuracy: 0.8858\n",
      "Epoch 17/30\n",
      "1719/1719 [==============================] - 4s 2ms/step - loss: 0.2864 - accuracy: 0.8963 - val_loss: 0.3169 - val_accuracy: 0.8836\n",
      "Epoch 18/30\n",
      "1719/1719 [==============================] - 4s 2ms/step - loss: 0.2820 - accuracy: 0.8973 - val_loss: 0.3096 - val_accuracy: 0.8896\n",
      "Epoch 19/30\n",
      "1719/1719 [==============================] - 4s 2ms/step - loss: 0.2779 - accuracy: 0.9003 - val_loss: 0.3095 - val_accuracy: 0.8892\n",
      "Epoch 20/30\n",
      "1719/1719 [==============================] - 4s 2ms/step - loss: 0.2714 - accuracy: 0.9023 - val_loss: 0.3074 - val_accuracy: 0.8908\n",
      "Epoch 21/30\n",
      "1719/1719 [==============================] - 4s 2ms/step - loss: 0.2664 - accuracy: 0.9042 - val_loss: 0.3052 - val_accuracy: 0.8884\n",
      "Epoch 22/30\n",
      "1719/1719 [==============================] - 4s 2ms/step - loss: 0.2609 - accuracy: 0.9060 - val_loss: 0.3088 - val_accuracy: 0.8902\n",
      "Epoch 23/30\n",
      "1719/1719 [==============================] - 4s 2ms/step - loss: 0.2604 - accuracy: 0.9068 - val_loss: 0.3119 - val_accuracy: 0.8878\n",
      "Epoch 24/30\n",
      "1719/1719 [==============================] - 4s 2ms/step - loss: 0.2516 - accuracy: 0.9106 - val_loss: 0.3016 - val_accuracy: 0.8922\n",
      "Epoch 25/30\n",
      "1719/1719 [==============================] - 4s 2ms/step - loss: 0.2436 - accuracy: 0.9119 - val_loss: 0.2965 - val_accuracy: 0.8922\n",
      "Epoch 26/30\n",
      "1719/1719 [==============================] - 4s 2ms/step - loss: 0.2453 - accuracy: 0.9091 - val_loss: 0.2963 - val_accuracy: 0.8932\n",
      "Epoch 27/30\n",
      "1719/1719 [==============================] - 4s 2ms/step - loss: 0.2364 - accuracy: 0.9144 - val_loss: 0.3304 - val_accuracy: 0.8804\n",
      "Epoch 28/30\n",
      "1719/1719 [==============================] - 4s 2ms/step - loss: 0.2379 - accuracy: 0.9152 - val_loss: 0.2948 - val_accuracy: 0.8926\n",
      "Epoch 29/30\n",
      "1719/1719 [==============================] - 4s 2ms/step - loss: 0.2299 - accuracy: 0.9182 - val_loss: 0.3100 - val_accuracy: 0.8840\n",
      "Epoch 30/30\n",
      "1719/1719 [==============================] - 4s 2ms/step - loss: 0.2279 - accuracy: 0.9186 - val_loss: 0.3062 - val_accuracy: 0.8878\n"
     ]
    }
   ],
   "source": [
    "history = model.fit(X_train, y_train, epochs=30,\n",
    "                   validation_data=(X_valid, y_valid))"
   ]
  },
  {
   "cell_type": "markdown",
   "id": "exempt-american",
   "metadata": {},
   "source": [
    "We pass it the input features (X_train) and the target classes (y_train), as well as number of epochs to train (defaults to 1).  We also pass it validation set (which is optional), Keras will measure the loss and other metrics on this set at the end of each epoch, which is very helpful to see. \n",
    "\n",
    "If performance on training set is much better than on the validation set, your model is probably overfitting the training set.\n",
    "\n",
    "> Instead of passing a validation set, you could set `validation_split` to the ratio you want. For example, `validation_split=0.1` last 10% of training data will be used for validation.\n",
    "\n",
    "If training set was very skewed, with some classes being over-represented than other, you could use `class_weight` argument in `fit()`, this would give extra weight to under-represented class while calculating the loss. If you need per-instance weights, use `sample_weight` argument, it would be useful if some instances were labeled by experts while other labeled by crowdsourcing platform: it gives more weight to the expert ones. You can also pass sample weight (not class weight) in `validation_data` tuple as third argument.\n",
    "\n",
    "The `fit()` method returns a `history` object which contains the training parameters (`history.params`), the list of epochs (`history.epoch`), and most important dictionary (`history.history`) containing loss and extra metrics it measured. You could plot history using pandas `DataFrame` to get learning curves.\n",
    "\n"
   ]
  },
  {
   "cell_type": "code",
   "execution_count": 24,
   "id": "accomplished-chester",
   "metadata": {},
   "outputs": [
    {
     "data": {
      "image/png": "[encoded data removed]",
      "text/plain": [
       "<Figure size 576x360 with 1 Axes>"
      ]
     },
     "metadata": {
      "needs_background": "light"
     },
     "output_type": "display_data"
    }
   ],
   "source": [
    "import pandas as pd\n",
    "import matplotlib.pyplot as plt\n",
    "\n",
    "pd.DataFrame(history.history).plot(figsize=(8, 5))\n",
    "plt.grid(True)\n",
    "plt.gca().set_ylim(0, 1)\n",
    "plt.show()"
   ]
  },
  {
   "cell_type": "markdown",
   "id": "superior-saudi",
   "metadata": {},
   "source": [
    "Here you would see that training and validation curves are close which is good. At first, it seems validation is good because validation error is computed at the end of epoch and training loss is computed during each epoch. So training curve should be shifted half the epoch to the left. Then you see overlapping curves at the start.\n",
    "\n",
    "> When plotting training curves, it should be shifted by half an epoch to the left.\n",
    "\n",
    "If you want to train longer you can call `fit()` method and Keras will continue the training.\n",
    "\n",
    "If you didn't satisfy with the training try tuning the hyperparameters. The first one to check is learning rate, then optimizer, then model's hyperparameters such as number of layers, number of neurons, and activation functions. You could also tune batch size (which can be set in `fit()` method as `batch_size` argument, defaults to 32) and number of epochs.\n",
    "\n",
    "Now, it's time to evaluate model on the test set to see the generalization error.\n",
    "\n"
   ]
  },
  {
   "cell_type": "code",
   "execution_count": 25,
   "id": "coated-workshop",
   "metadata": {},
   "outputs": [
    {
     "name": "stdout",
     "output_type": "stream",
     "text": [
      "313/313 [==============================] - 1s 2ms/step - loss: 67.4871 - accuracy: 0.8464\n"
     ]
    },
    {
     "data": {
      "text/plain": [
       "[67.48709106445312, 0.8464000225067139]"
      ]
     },
     "execution_count": 25,
     "metadata": {},
     "output_type": "execute_result"
    }
   ],
   "source": [
    "model.evaluate(X_test, y_test)"
   ]
  },
  {
   "cell_type": "markdown",
   "id": "jewish-context",
   "metadata": {},
   "source": [
    "Generally, test set performance is slightly lower than validation set, because the hyperparameters tuned on validation set. And do not try to tune hyperparameters on the test set.\n",
    "\n",
    "#### Using the Model to make predictions\n",
    "\n",
    "Next, we can use model `predict()` method for predictions."
   ]
  },
  {
   "cell_type": "code",
   "execution_count": 26,
   "id": "recovered-settle",
   "metadata": {},
   "outputs": [
    {
     "data": {
      "text/plain": [
       "array([[0., 0., 0., 0., 0., 0., 0., 0., 0., 1.],\n",
       "       [0., 0., 1., 0., 0., 0., 0., 0., 0., 0.],\n",
       "       [0., 1., 0., 0., 0., 0., 0., 0., 0., 0.]], dtype=float32)"
      ]
     },
     "execution_count": 26,
     "metadata": {},
     "output_type": "execute_result"
    }
   ],
   "source": [
    "X_new = X_test[:3]\n",
    "y_probs = model.predict(X_new)\n",
    "y_probs.round(2)"
   ]
  },
  {
   "cell_type": "markdown",
   "id": "integrated-broadcasting",
   "metadata": {},
   "source": [
    "This will give you probabilities for each class. If you only want class then you can use `np.argmax()` method with `axis=-1`.\n",
    "\n",
    "> Use  `np.argmax(model.predict(x), axis=-1)`,   if your model does multi-class classification (e.g. if it uses a `softmax` last-layer activation).`(model.predict(x) > 0.5).astype(\"int32\")`,   if your model does binary classification   (e.g. if it uses a `sigmoid` last-layer activation)."
   ]
  },
  {
   "cell_type": "code",
   "execution_count": 27,
   "id": "choice-lancaster",
   "metadata": {},
   "outputs": [
    {
     "data": {
      "text/plain": [
       "array([9, 2, 1])"
      ]
     },
     "execution_count": 27,
     "metadata": {},
     "output_type": "execute_result"
    }
   ],
   "source": [
    "y_pred = np.argmax(model.predict(X_new), axis=-1)\n",
    "y_pred"
   ]
  },
  {
   "cell_type": "code",
   "execution_count": 28,
   "id": "traditional-event",
   "metadata": {},
   "outputs": [
    {
     "data": {
      "text/plain": [
       "array(['Ankle boot', 'Pullover', 'Trouser'], dtype='<U11')"
      ]
     },
     "execution_count": 28,
     "metadata": {},
     "output_type": "execute_result"
    }
   ],
   "source": [
    "np.array(class_names)[y_pred]"
   ]
  },
  {
   "cell_type": "markdown",
   "id": "sudden-innocent",
   "metadata": {},
   "source": [
    "### Building a Regression MLP Using the Sequential API\n",
    "\n",
    "Let's do some linear regression using neural networks. We'll use Sklearn's `fetch_california_housing()` dataset, and do some preprocessing."
   ]
  },
  {
   "cell_type": "code",
   "execution_count": 29,
   "id": "together-buying",
   "metadata": {},
   "outputs": [],
   "source": [
    "from sklearn.datasets import fetch_california_housing\n",
    "from sklearn.model_selection import train_test_split\n",
    "from sklearn.preprocessing import StandardScaler"
   ]
  },
  {
   "cell_type": "code",
   "execution_count": 30,
   "id": "administrative-compatibility",
   "metadata": {},
   "outputs": [],
   "source": [
    "housing = fetch_california_housing()\n",
    "\n",
    "X_train_full, X_test, y_train_full, y_test = train_test_split(housing.data, housing.target)\n",
    "X_train, X_val, y_train, y_val = train_test_split(X_train_full, y_train_full)\n",
    "\n",
    "scaler = StandardScaler()\n",
    "X_train = scaler.fit_transform(X_train)\n",
    "X_val = scaler.transform(X_val)\n",
    "X_test = scaler.transform(X_test)"
   ]
  },
  {
   "cell_type": "markdown",
   "id": "streaming-construction",
   "metadata": {},
   "source": [
    "Now, we use Sequential API to build, train, evaluate, and use a MLP regression model for predictions. The output layer has a single neuron to predict a value and has no activation function, and the mean squared error as loss function."
   ]
  },
  {
   "cell_type": "code",
   "execution_count": 32,
   "id": "pleasant-temple",
   "metadata": {},
   "outputs": [
    {
     "name": "stdout",
     "output_type": "stream",
     "text": [
      "Epoch 1/20\n",
      "363/363 [==============================] - 1s 1ms/step - loss: 1.5185 - val_loss: 0.7275\n",
      "Epoch 2/20\n",
      "363/363 [==============================] - 0s 1ms/step - loss: 0.5120 - val_loss: 1.0048\n",
      "Epoch 3/20\n",
      "363/363 [==============================] - 0s 1ms/step - loss: 0.5149 - val_loss: 0.4789\n",
      "Epoch 4/20\n",
      "363/363 [==============================] - 0s 1ms/step - loss: 0.4514 - val_loss: 0.4279\n",
      "Epoch 5/20\n",
      "363/363 [==============================] - 0s 1ms/step - loss: 0.4196 - val_loss: 0.4219\n",
      "Epoch 6/20\n",
      "363/363 [==============================] - 0s 1ms/step - loss: 0.4180 - val_loss: 0.4077\n",
      "Epoch 7/20\n",
      "363/363 [==============================] - 0s 1ms/step - loss: 0.4144 - val_loss: 0.4079\n",
      "Epoch 8/20\n",
      "363/363 [==============================] - 0s 1ms/step - loss: 0.4087 - val_loss: 0.4025\n",
      "Epoch 9/20\n",
      "363/363 [==============================] - 0s 1ms/step - loss: 0.4116 - val_loss: 0.3958\n",
      "Epoch 10/20\n",
      "363/363 [==============================] - 0s 1ms/step - loss: 0.3963 - val_loss: 0.4041\n",
      "Epoch 11/20\n",
      "363/363 [==============================] - 0s 1ms/step - loss: 0.3952 - val_loss: 0.4020\n",
      "Epoch 12/20\n",
      "363/363 [==============================] - 0s 1ms/step - loss: 0.3923 - val_loss: 0.3933\n",
      "Epoch 13/20\n",
      "363/363 [==============================] - 0s 1ms/step - loss: 0.3840 - val_loss: 0.3964\n",
      "Epoch 14/20\n",
      "363/363 [==============================] - 0s 1ms/step - loss: 0.3841 - val_loss: 0.3896\n",
      "Epoch 15/20\n",
      "363/363 [==============================] - 0s 1ms/step - loss: 0.3982 - val_loss: 0.3836\n",
      "Epoch 16/20\n",
      "363/363 [==============================] - 0s 1ms/step - loss: 0.3922 - val_loss: 0.3799\n",
      "Epoch 17/20\n",
      "363/363 [==============================] - 0s 1ms/step - loss: 0.3962 - val_loss: 0.3847\n",
      "Epoch 18/20\n",
      "363/363 [==============================] - 0s 1ms/step - loss: 0.3901 - val_loss: 0.3822\n",
      "Epoch 19/20\n",
      "363/363 [==============================] - 0s 1ms/step - loss: 0.3732 - val_loss: 0.3819\n",
      "Epoch 20/20\n",
      "363/363 [==============================] - 0s 1ms/step - loss: 0.3834 - val_loss: 0.3800\n",
      "162/162 [==============================] - 0s 699us/step - loss: 0.3485\n"
     ]
    },
    {
     "data": {
      "text/plain": [
       "array([[1.3543502],\n",
       "       [2.358878 ],\n",
       "       [2.979795 ]], dtype=float32)"
      ]
     },
     "execution_count": 32,
     "metadata": {},
     "output_type": "execute_result"
    }
   ],
   "source": [
    "model = keras.models.Sequential([\n",
    "    keras.layers.Dense(30, activation='relu', input_shape=X_train.shape[1:]),\n",
    "    keras.layers.Dense(1)\n",
    "])\n",
    "\n",
    "model.compile(loss='mean_squared_error', optimizer='sgd')\n",
    "history = model.fit(X_train, y_train, epochs=20,\n",
    "                   validation_data=(X_val, y_val))\n",
    "\n",
    "mse_test = model.evaluate(X_test, y_test)\n",
    "X_new = X_test[:3]\n",
    "y_pred = model.predict(X_new)\n",
    "y_pred"
   ]
  },
  {
   "cell_type": "markdown",
   "id": "front-avatar",
   "metadata": {},
   "source": [
    "Sequential API is quit easy and common, but sometimes we need to build more complex architectures like with multiple inputs or outputs. For this purpose, Keras offers a *Functional API*.\n",
    "\n",
    "### Building Complex Models using Functional API\n",
    "\n",
    "One example of non-sequential neural network is *Wide & Deep* neural networks. It connects all or part of the inputs to the outputs, which helps to learn both deep patterns (using deep path) and simple patterns (using short path).\n",
    "\n",
    "Let's build such a neural network:  "
   ]
  },
  {
   "cell_type": "code",
   "execution_count": 34,
   "id": "statutory-traveler",
   "metadata": {},
   "outputs": [],
   "source": [
    "input_ = keras.layers.Input(shape=X_train.shape[1:])\n",
    "hidden1 = keras.layers.Dense(30, activation='relu')(input_)\n",
    "hidden2 = keras.layers.Dense(30, activation='relu')(hidden1)\n",
    "concat = keras.layers.Concatenate()([input_, hidden2])\n",
    "output = keras.layers.Dense(1)(concat)\n",
    "model = keras.Model(inputs=[input_], outputs=[output])"
   ]
  },
  {
   "cell_type": "markdown",
   "id": "boolean-mailman",
   "metadata": {},
   "source": [
    "Let's go through this code:\n",
    "\n",
    "- First, we need to create an `Input` object. Which specifies the input kind to the model.\n",
    "- Next, we create a normal `Dense` layer. Notice, we call it like a function, passing it the input. This is why this is called Functional API. \n",
    "- Then we pass output of first hidden to another.\n",
    "- Next, we create a `Concatenate` layer, we pass it the input and the output of second hidden layer. You may prefer `keras.layers.concatenate()` function.\n",
    "- Then we create an output layer, passing in result of the concatenation.\n",
    "- Lastly, we create a Keras `Model`, specifying which inputs and outputs to use.\n",
    "\n",
    "After that all steps are same.\n",
    "\n",
    "But what if you want to send a subset of the features through the wide path and different (possibly overlapping) to the deep path? Solution is to use multiple inputs. For example, suppose we want to pass five features through wide path (0 to 4), and six features to deep path (2 to 7):\n",
    "\n"
   ]
  },
  {
   "cell_type": "code",
   "execution_count": 36,
   "id": "entertaining-reader",
   "metadata": {},
   "outputs": [],
   "source": [
    "input_A = keras.layers.Input(shape=[5], name='wide_input')\n",
    "input_B = keras.layers.Input(shape=[6], name='deep_input')\n",
    "hidden1 = keras.layers.Dense(30, activation='relu')(input_B)\n",
    "hidden2 = keras.layers.Dense(30, activation='relu')(hidden1)\n",
    "concat = keras.layers.concatenate([input_A, hidden2])\n",
    "output = keras.layers.Dense(1)(concat)\n",
    "model = keras.Model(inputs=[input_A, input_B], outputs=[output])"
   ]
  },
  {
   "cell_type": "markdown",
   "id": "broken-beast",
   "metadata": {},
   "source": [
    "The code is self-explanatory. You should name the important layers when model get complex. Now to call `fit()` you need to pass it a pair of input matrices `(X_train_A, X_train_B)`, one for each. This is true for each `X_val`, `X_test`, and `X_new` when you call `evaluate()` or `predict()`.\n",
    "\n",
    "> Alternatively, you could pass a dictionary mapping the input names to the input matrices, like `{'wide_input': X_train_A, 'deep_input': X_train_B}`.\n",
    "\n"
   ]
  },
  {
   "cell_type": "code",
   "execution_count": 39,
   "id": "reserved-penalty",
   "metadata": {},
   "outputs": [
    {
     "name": "stdout",
     "output_type": "stream",
     "text": [
      "Epoch 1/20\n",
      "363/363 [==============================] - 1s 1ms/step - loss: 0.8572 - val_loss: 0.7481\n",
      "Epoch 2/20\n",
      "363/363 [==============================] - 0s 1ms/step - loss: 0.7085 - val_loss: 0.6687\n",
      "Epoch 3/20\n",
      "363/363 [==============================] - 0s 1ms/step - loss: 0.6769 - val_loss: 0.6286\n",
      "Epoch 4/20\n",
      "363/363 [==============================] - 0s 1ms/step - loss: 0.6332 - val_loss: 0.6040\n",
      "Epoch 5/20\n",
      "363/363 [==============================] - 0s 1ms/step - loss: 0.5996 - val_loss: 0.5833\n",
      "Epoch 6/20\n",
      "363/363 [==============================] - 0s 1ms/step - loss: 0.5887 - val_loss: 0.5682\n",
      "Epoch 7/20\n",
      "363/363 [==============================] - 0s 1ms/step - loss: 0.5803 - val_loss: 0.5557\n",
      "Epoch 8/20\n",
      "363/363 [==============================] - 0s 1ms/step - loss: 0.5824 - val_loss: 0.5372\n",
      "Epoch 9/20\n",
      "363/363 [==============================] - 0s 1ms/step - loss: 0.5430 - val_loss: 0.5251\n",
      "Epoch 10/20\n",
      "363/363 [==============================] - 0s 1ms/step - loss: 0.5495 - val_loss: 0.5156\n",
      "Epoch 11/20\n",
      "363/363 [==============================] - 0s 1ms/step - loss: 0.5409 - val_loss: 0.5086\n",
      "Epoch 12/20\n",
      "363/363 [==============================] - 0s 1ms/step - loss: 0.4946 - val_loss: 0.4988\n",
      "Epoch 13/20\n",
      "363/363 [==============================] - 0s 1ms/step - loss: 0.5054 - val_loss: 0.4923\n",
      "Epoch 14/20\n",
      "363/363 [==============================] - 0s 1ms/step - loss: 0.4915 - val_loss: 0.4913\n",
      "Epoch 15/20\n",
      "363/363 [==============================] - 0s 1ms/step - loss: 0.4872 - val_loss: 0.4851\n",
      "Epoch 16/20\n",
      "363/363 [==============================] - 0s 1ms/step - loss: 0.4641 - val_loss: 0.4779\n",
      "Epoch 17/20\n",
      "363/363 [==============================] - 0s 1ms/step - loss: 0.4683 - val_loss: 0.4754\n",
      "Epoch 18/20\n",
      "363/363 [==============================] - 0s 1ms/step - loss: 0.4719 - val_loss: 0.4722\n",
      "Epoch 19/20\n",
      "363/363 [==============================] - 0s 1ms/step - loss: 0.4687 - val_loss: 0.4733\n",
      "Epoch 20/20\n",
      "363/363 [==============================] - 0s 1ms/step - loss: 0.4727 - val_loss: 0.4643\n",
      "162/162 [==============================] - 0s 787us/step - loss: 0.4368\n"
     ]
    },
    {
     "data": {
      "text/plain": [
       "array([[1.2014873],\n",
       "       [2.6263332],\n",
       "       [2.8611617]], dtype=float32)"
      ]
     },
     "execution_count": 39,
     "metadata": {},
     "output_type": "execute_result"
    }
   ],
   "source": [
    "model.compile(loss='mse', optimizer=keras.optimizers.SGD(lr=1e-3))\n",
    "\n",
    "X_train_A, X_train_B = X_train[:, :5], X_train[:, 2:]\n",
    "X_val_A, X_val_B = X_val[:, :5], X_val[:, 2:]\n",
    "X_test_A, X_test_B = X_test[:, :5], X_test[:, 2:]\n",
    "X_new_A, X_new_B = X_test_A[:3], X_test_B[:3]\n",
    "\n",
    "history = model.fit((X_train_A, X_train_B), y_train, epochs=20,\n",
    "                   validation_data=((X_val_A, X_val_B), y_val))\n",
    "mse_test = model.evaluate((X_test_A, X_test_B), y_test)\n",
    "y_pred = model.predict((X_new_A, X_new_B))\n",
    "y_pred"
   ]
  },
  {
   "cell_type": "markdown",
   "id": "aggressive-brighton",
   "metadata": {},
   "source": [
    "There are many use cases when you may want multiple outputs:\n",
    "\n",
    "- For object detection, you may want to locate (regression) and classify (classification) an object in a picture.\n",
    "- If you have multiple independent tasks on the same data. Sure, you could train multiple neural networks for each task but training a single might get you better performance by learning across features. For example, you can perform *multitask classification*.\n",
    "- One use case is used as regularization technique by adding some auxiliary outputs in a neural network architecture to ensure that the underlying part of the networks learn something useful.\n",
    "\n",
    "Adding extra outputs is quite easy:"
   ]
  },
  {
   "cell_type": "code",
   "execution_count": 42,
   "id": "virtual-kingston",
   "metadata": {},
   "outputs": [],
   "source": [
    "input_A = keras.layers.Input(shape=[5], name='wide_input')\n",
    "input_B = keras.layers.Input(shape=[6], name='deep_input')\n",
    "hidden1 = keras.layers.Dense(30, activation='relu')(input_B)\n",
    "hidden2 = keras.layers.Dense(30, activation='relu')(hidden1)\n",
    "concat = keras.layers.concatenate([input_A, hidden2])\n",
    "output = keras.layers.Dense(1, name='main_output')(concat)\n",
    "aux_output = keras.layers.Dense(1, name='aux_output')(hidden2)\n",
    "model = keras.Model(inputs=[input_A, input_B], outputs=[output, aux_output])"
   ]
  },
  {
   "cell_type": "markdown",
   "id": "relative-toyota",
   "metadata": {},
   "source": [
    "Each output will need its own loss function. Therefor, when we compile the model, we should pass a list of losses (or a dictionary mapping output names to losses). If we pass a single loss, Keras will assume same loss for all outputs. Keras will compute all these losses and add them up at last. Since, main outputs are more important than auxiliary ones, we can add weight to main output."
   ]
  },
  {
   "cell_type": "code",
   "execution_count": 43,
   "id": "lovely-chain",
   "metadata": {},
   "outputs": [],
   "source": [
    "model.compile(loss=['mse', 'mse'], loss_weights=[0.9, 0.1], optimizer='sgd')"
   ]
  },
  {
   "cell_type": "markdown",
   "id": "honest-campus",
   "metadata": {},
   "source": [
    "Now when we train the model it should expect labels for each output. In this example the labels are same, so instead of passing `y_train`, we need to pass `(y_train, y_train)` (and same goes for `y_val` and `y_test`)."
   ]
  },
  {
   "cell_type": "code",
   "execution_count": 44,
   "id": "complimentary-philosophy",
   "metadata": {},
   "outputs": [
    {
     "name": "stdout",
     "output_type": "stream",
     "text": [
      "Epoch 1/20\n",
      "363/363 [==============================] - 1s 2ms/step - loss: 1.8999 - main_output_loss: 1.8001 - aux_output_loss: 2.7983 - val_loss: 0.6397 - val_main_output_loss: 0.5687 - val_aux_output_loss: 1.2792\n",
      "Epoch 2/20\n",
      "363/363 [==============================] - 0s 1ms/step - loss: 0.6024 - main_output_loss: 0.5430 - aux_output_loss: 1.1374 - val_loss: 0.7694 - val_main_output_loss: 0.7533 - val_aux_output_loss: 0.9142\n",
      "Epoch 3/20\n",
      "363/363 [==============================] - 1s 1ms/step - loss: 1.0292 - main_output_loss: 1.0240 - aux_output_loss: 1.0760 - val_loss: 0.5203 - val_main_output_loss: 0.4884 - val_aux_output_loss: 0.8081\n",
      "Epoch 4/20\n",
      "363/363 [==============================] - 1s 2ms/step - loss: 0.4882 - main_output_loss: 0.4560 - aux_output_loss: 0.7778 - val_loss: 0.4756 - val_main_output_loss: 0.4542 - val_aux_output_loss: 0.6687\n",
      "Epoch 5/20\n",
      "363/363 [==============================] - 0s 1ms/step - loss: 0.4621 - main_output_loss: 0.4373 - aux_output_loss: 0.6854 - val_loss: 0.4467 - val_main_output_loss: 0.4277 - val_aux_output_loss: 0.6180\n",
      "Epoch 6/20\n",
      "363/363 [==============================] - 1s 1ms/step - loss: 0.4491 - main_output_loss: 0.4284 - aux_output_loss: 0.6354 - val_loss: 0.4601 - val_main_output_loss: 0.4456 - val_aux_output_loss: 0.5907\n",
      "Epoch 7/20\n",
      "363/363 [==============================] - 1s 1ms/step - loss: 0.4399 - main_output_loss: 0.4209 - aux_output_loss: 0.6105 - val_loss: 0.4357 - val_main_output_loss: 0.4205 - val_aux_output_loss: 0.5723\n",
      "Epoch 8/20\n",
      "363/363 [==============================] - 0s 1ms/step - loss: 0.4303 - main_output_loss: 0.4126 - aux_output_loss: 0.5888 - val_loss: 0.4323 - val_main_output_loss: 0.4180 - val_aux_output_loss: 0.5602\n",
      "Epoch 9/20\n",
      "363/363 [==============================] - 0s 1ms/step - loss: 0.4092 - main_output_loss: 0.3919 - aux_output_loss: 0.5655 - val_loss: 0.4187 - val_main_output_loss: 0.4040 - val_aux_output_loss: 0.5509\n",
      "Epoch 10/20\n",
      "363/363 [==============================] - 1s 1ms/step - loss: 0.3940 - main_output_loss: 0.3782 - aux_output_loss: 0.5369 - val_loss: 0.4174 - val_main_output_loss: 0.4038 - val_aux_output_loss: 0.5394\n",
      "Epoch 11/20\n",
      "363/363 [==============================] - 1s 1ms/step - loss: 0.3920 - main_output_loss: 0.3759 - aux_output_loss: 0.5368 - val_loss: 0.4107 - val_main_output_loss: 0.3976 - val_aux_output_loss: 0.5289\n",
      "Epoch 12/20\n",
      "363/363 [==============================] - 1s 2ms/step - loss: 0.3947 - main_output_loss: 0.3783 - aux_output_loss: 0.5427 - val_loss: 0.4006 - val_main_output_loss: 0.3864 - val_aux_output_loss: 0.5280\n",
      "Epoch 13/20\n",
      "363/363 [==============================] - 1s 1ms/step - loss: 0.3796 - main_output_loss: 0.3646 - aux_output_loss: 0.5141 - val_loss: 0.3861 - val_main_output_loss: 0.3723 - val_aux_output_loss: 0.5095\n",
      "Epoch 14/20\n",
      "363/363 [==============================] - 1s 1ms/step - loss: 0.3833 - main_output_loss: 0.3687 - aux_output_loss: 0.5149 - val_loss: 0.3846 - val_main_output_loss: 0.3710 - val_aux_output_loss: 0.5066\n",
      "Epoch 15/20\n",
      "363/363 [==============================] - 1s 2ms/step - loss: 0.3647 - main_output_loss: 0.3503 - aux_output_loss: 0.4943 - val_loss: 0.3935 - val_main_output_loss: 0.3819 - val_aux_output_loss: 0.4982\n",
      "Epoch 16/20\n",
      "363/363 [==============================] - 0s 1ms/step - loss: 0.3695 - main_output_loss: 0.3556 - aux_output_loss: 0.4953 - val_loss: 0.3870 - val_main_output_loss: 0.3755 - val_aux_output_loss: 0.4911\n",
      "Epoch 17/20\n",
      "363/363 [==============================] - 1s 1ms/step - loss: 0.3636 - main_output_loss: 0.3503 - aux_output_loss: 0.4828 - val_loss: 0.3717 - val_main_output_loss: 0.3594 - val_aux_output_loss: 0.4822\n",
      "Epoch 18/20\n",
      "363/363 [==============================] - 1s 1ms/step - loss: 0.3763 - main_output_loss: 0.3630 - aux_output_loss: 0.4963 - val_loss: 0.3880 - val_main_output_loss: 0.3772 - val_aux_output_loss: 0.4848\n",
      "Epoch 19/20\n",
      "363/363 [==============================] - 1s 1ms/step - loss: 0.3732 - main_output_loss: 0.3608 - aux_output_loss: 0.4847 - val_loss: 0.3792 - val_main_output_loss: 0.3686 - val_aux_output_loss: 0.4748\n",
      "Epoch 20/20\n",
      "363/363 [==============================] - 1s 1ms/step - loss: 0.3556 - main_output_loss: 0.3440 - aux_output_loss: 0.4605 - val_loss: 0.3757 - val_main_output_loss: 0.3658 - val_aux_output_loss: 0.4649\n"
     ]
    }
   ],
   "source": [
    "history = model.fit([X_train_A, X_train_B], [y_train, y_train], epochs=20,\n",
    "                   validation_data=([X_val_A, X_val_B], [y_val, y_val]))"
   ]
  },
  {
   "cell_type": "markdown",
   "id": "friendly-brother",
   "metadata": {},
   "source": [
    "When we evaluate the model, Keras will return total loss, as well as all the individual losses. Similarly, `predict()` will return predictions for each output.\n",
    "\n"
   ]
  },
  {
   "cell_type": "code",
   "execution_count": 46,
   "id": "abandoned-composer",
   "metadata": {},
   "outputs": [
    {
     "name": "stdout",
     "output_type": "stream",
     "text": [
      "162/162 [==============================] - 0s 970us/step - loss: 0.3302 - main_output_loss: 0.3178 - aux_output_loss: 0.4414\n"
     ]
    },
    {
     "data": {
      "text/plain": [
       "(array([[1.1003531],\n",
       "        [2.3739426],\n",
       "        [2.8327956]], dtype=float32),\n",
       " array([[1.6497698],\n",
       "        [2.5280735],\n",
       "        [2.8457167]], dtype=float32))"
      ]
     },
     "execution_count": 46,
     "metadata": {},
     "output_type": "execute_result"
    }
   ],
   "source": [
    "total_loss, main_loss, aux_loss = model.evaluate(\n",
    "    [X_test_A, X_test_B], [y_test, y_test]\n",
    ")\n",
    "\n",
    "y_pred_main, y_pred_aux = model.predict([X_new_A, X_new_B])\n",
    "y_pred_main, y_pred_aux"
   ]
  },
  {
   "cell_type": "code",
   "execution_count": null,
   "id": "running-lottery",
   "metadata": {},
   "outputs": [],
   "source": []
  }
 ],
 "metadata": {
  "kernelspec": {
   "display_name": "Python 3",
   "language": "python",
   "name": "python3"
  },
  "language_info": {
   "codemirror_mode": {
    "name": "ipython",
    "version": 3
   },
   "file_extension": ".py",
   "mimetype": "text/x-python",
   "name": "python",
   "nbconvert_exporter": "python",
   "pygments_lexer": "ipython3",
   "version": "3.8.5"
  }
 },
 "nbformat": 4,
 "nbformat_minor": 5
}
