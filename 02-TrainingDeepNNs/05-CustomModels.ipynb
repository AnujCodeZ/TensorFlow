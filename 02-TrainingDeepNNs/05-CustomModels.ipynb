{
 "cells": [
  {
   "cell_type": "markdown",
   "id": "hindu-registration",
   "metadata": {},
   "source": [
    "# Custom Models and Training with TensorFlow\n",
    "\n",
    "Up until now we've used only TensorFlow high-level API, `tf.keras`. In most cases you will only use `tf.keras`. But when you want want extra control over your model, cost function, optimization, etc then you have to know about TensorFlow's low-level API.\n",
    "\n",
    "# A Quick tour of TensorFlow\n",
    "\n",
    "TensorFlow is the most popular Machine Learning framework.\n",
    "\n",
    "- Its core is similar to NumPy but with GPU.\n",
    "- It supports distributed computing.\n",
    "- It uses computational graphs which can be exported in any format. (with this you can use it with python or javascript)\n",
    "\n",
    "TensorFlow offers many features such as preprocessing, model building, visualization, deployment, mathematics, etc.\n",
    "\n",
    "TensorFlow's Python API overview:\n",
    "\n",
    "```python\n",
    "# High-level\n",
    "tf.keras\n",
    "tf.estimators\n",
    "\n",
    "# Low-level\n",
    "tf.nn\n",
    "tf.losses\n",
    "tf.metrices\n",
    "tf.optimizers\n",
    "tf.train\n",
    "tf.initializers\n",
    "\n",
    "# Autodiff\n",
    "tf.GradientTape\n",
    "tf.gradients()\n",
    "\n",
    "# I/O and prerpcessing\n",
    "tf.data\n",
    "tf.image\n",
    "tf.audio\n",
    "tf.feature_column\n",
    "tf.io\n",
    "tf.queue\n",
    "```\n",
    "\n"
   ]
  }
 ],
 "metadata": {
  "kernelspec": {
   "display_name": "Python 3",
   "language": "python",
   "name": "python3"
  },
  "language_info": {
   "codemirror_mode": {
    "name": "ipython",
    "version": 3
   },
   "file_extension": ".py",
   "mimetype": "text/x-python",
   "name": "python",
   "nbconvert_exporter": "python",
   "pygments_lexer": "ipython3",
   "version": "3.8.5"
  }
 },
 "nbformat": 4,
 "nbformat_minor": 5
}
