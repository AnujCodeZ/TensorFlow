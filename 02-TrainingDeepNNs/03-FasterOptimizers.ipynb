{
 "cells": [
  {
   "cell_type": "markdown",
   "id": "signal-taylor",
   "metadata": {},
   "source": [
    "# Faster Optimizers\n",
    "\n",
    "To make training faster we can also use faster optimizer than the regular Gradient Descent.\n",
    "\n",
    "## Momentum Optimization\n",
    "\n",
    "Gradient Descent updates the weights by directly subtracting the gradient of the cost function multiplied learning rate, it does not care about what the previous gradients were.\n",
    "\n",
    "Momentum optimization cares a lot about the previous gradients: at each iteration, it subtracts the local gradient from the *momentum vector* $m$, and it updates the weights by adding this new momentum vector. There is a new hyperparameter $\\beta$, called *momentum*. It controls speed of momentum and prevent momentum from growing too large, which must be set between 0 and 1. A typical value is 0.9.\n",
    "$$\n",
    "m \\gets \\beta m - \\eta \\nabla_\\theta J(\\theta) \\\\\n",
    "\\theta \\gets \\theta + m\n",
    "$$\n",
    "The maximum size of the weight updates is equal to that gradient multiplied by the learning rate multiplied by $\\frac1{1 - \\beta}$. This way if $\\beta=0.9$ then optimization ends up 10 times faster than Gradient Descent! This allows momentum optimization to escape from plateaus and local optima much faster.\n",
    "\n",
    "> Due to the momentum, the optimizer may overshoot a bit, then comes back, overshoot again, and oscillate like this many times before stabilizing at the minimum.\n",
    "\n",
    "This simple momentum in Keras can be implemented very easily:\n",
    "\n",
    "```python\n",
    "optimizer = keras.optimizers.SGD(lr=0.0001, momentum=0.9)\n",
    "```\n",
    "\n"
   ]
  },
  {
   "cell_type": "code",
   "execution_count": null,
   "id": "brave-warner",
   "metadata": {},
   "outputs": [],
   "source": []
  }
 ],
 "metadata": {
  "kernelspec": {
   "display_name": "Python 3",
   "language": "python",
   "name": "python3"
  },
  "language_info": {
   "codemirror_mode": {
    "name": "ipython",
    "version": 3
   },
   "file_extension": ".py",
   "mimetype": "text/x-python",
   "name": "python",
   "nbconvert_exporter": "python",
   "pygments_lexer": "ipython3",
   "version": "3.8.5"
  }
 },
 "nbformat": 4,
 "nbformat_minor": 5
}
