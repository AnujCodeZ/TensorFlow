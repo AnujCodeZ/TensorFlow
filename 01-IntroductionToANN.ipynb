{
 "cells": [
  {
   "cell_type": "markdown",
   "id": "dressed-conjunction",
   "metadata": {},
   "source": [
    "# Introduction to Artificial Neural Network with Keras\n",
    "\n",
    "## Introduction\n",
    "\n",
    "*Artificial Neural Networks* (ANNs) is a Machine Learning Model inspired by the networks of biological neurons found in our brains.\n",
    "\n",
    "ANNs are the very core of Deep Learning. They are versatile, powerful, and scalable. They are able to tackle complex problems like classifying large number of images (Google Images), speech recognition services (\"OK Google\"), recommending movies (Netflix), etc.\n",
    "\n",
    "We'll use popular Keras API: this is a beautifully designed and simple high-level API for building, training, evaluating, and running neural networks. \n",
    "\n",
    "## History of ANNs\n",
    "\n",
    "ANNs first introduced back in 1943 by Neurophysiologist Warren McCulloch and the mathematician Walter Pitts in their paper \"A Logical Calculus of Ideas Immanent in Nervous Activity\".\n",
    "\n",
    "In 1960, idea of making intelligent machines seems impossible (for quite a while), ANNs entered a long winter.\n",
    "\n",
    "In early 1980, new architectures were build, interest rises in *connectionism* (the study of neural networks), progress was slow. And around 1990, more powerful Machine Learning Algorithms was built like SVMs. So they put on hold again.\n",
    "\n",
    "But now we see that ANNs are rising and this time they keep rising. Here are few reasons why:\n",
    "\n",
    "- Huge quantity of data available.\n",
    "- Increase in Computing powers, and thanks to Gaming industry to give us GPU.\n",
    "- Training algorithms have been improved.\n",
    "- More funding in building amazing products and research.\n",
    "\n",
    "## Logical Computations with Neurons\n",
    "\n",
    "McCulloch and Pitts proposed a very simple model of the biological neuron, which later became known as *artificial neuron*: it has one or more binary inputs and one binary output. The artificial neuron activates its output when more than a certain number of its inputs are active. \n",
    "\n",
    "You can compute complex logical expressions by changing the inputs or combining them.\n",
    "\n",
    "## The Perceptron\n",
    "\n",
    "The *Perceptron* is one of the simplest ANN architectures, invented in 1957 by Frank Rosenblatt. It is based on slightly different artificial neuron called a *threshold logic unit* (TLU), or sometimes a *linear threshold unit* (LTU).\n",
    "\n",
    "The inputs and output are numbers, and each connection holds some value called *weights*. The TLU computes a weighted sum of its inputs:\n",
    "$$\n",
    "z = w_1x_1 + w_2x_2 + ... + w_nx_n = X^TW\n",
    "$$\n",
    " Then applies a *step function* and results an output:\n",
    "$$\n",
    "h_w(X) = step(z), where\\ z = X^TW\n",
    "$$\n",
    "The most common step function used in Perceptron is the *Heaviside step function*:\n",
    "$$\n",
    "heaviside(z) = \\{{0, if\\ z < 0 \\\\ 1, if z >= 0}\n",
    "$$\n",
    "Sometimes a sign function:\n",
    "$$\n",
    "sign(z) = \\{{-1, if\\ z < 0 \\\\ 0, if\\ z = 0 \\\\ 1, if\\ z > 0}\n",
    "$$\n",
    "A single TLU can be use for simple linear binary classification. Training a TLU means finding the right values of weights.\n",
    "\n",
    "A Perceptron is simply composed of a single layer of TLUs, with each TLU connected to all the inputs.\n",
    "\n",
    "When all the neurons in a layer are connected to every neuron in previous layer, the layer is called *fully connected layer* or *dense layer*.\n",
    "\n",
    "The inputs of Perceptron are simply passthrough neurons called *input neurons*: they output whatever they are fed. All the input neurons form the *input layer*. Moreover, an extra bias feature is added: represented as a *bias neuron*, always outputs 1. \n",
    "\n",
    "Computing the outputs of a fully connected layer:\n",
    "$$\n",
    "h_{W, b} = \\phi(XW + b)\n",
    "$$\n",
    " In this equation,\n",
    "\n",
    "- **X**: inputs matrix\n",
    "- **W**: weights matrix\n",
    "- **b**: bias\n",
    "- $\\phi$: it represents *activation function*\n",
    "\n",
    "The training of Perceptron was largely inspired by *Hebb's rule*: which is summarized as \"cells that fire together, wire together\"; that is connection weights between two neurons tends to increase when they activates together.\n",
    "\n",
    "The Perceptron trains with slight different variant that takes into account of error made by the network. It reinforces the connection when it makes an error. The rule is:\n",
    "$$\n",
    "w_{i,j}^{(next\\ step)} = w_{i, j} + \\eta(y_j - \\hat y_j)x_i\n",
    "$$\n",
    "In this equation:\n",
    "\n",
    "- $w_{i,j}$ is the connection weight between the $i^{th}$ input neuron and the $j^{th}$ output neuron.\n",
    "- $x_i$ is the $i^{th}$ input value of current training instance.\n",
    "- $y_j$ is the target output of the $j^{th}$ output neuron.\n",
    "- $\\hat y_j$ is the output of the $j^{th}$ output neuron.\n",
    "- $\\eta$ is the learning rate.\n",
    "\n",
    "The decision boundary of the TLUs are linear, so Perceptron are incapable of learning complex patterns. Overall this algorithm is called *Perceptron convergence theorem*.\n",
    "\n",
    "You can use Sklearn's `Perceptron` to do this. However, it is same as the SGD classifier of Sklearn with hyperparameters `loss=\"perceptron\", learning rate=\"constant\"`.\n",
    "\n",
    "Perceptrons do not output a class probability as Logistic regression. Rather, they output a hard threshold.\n",
    "\n",
    "In 1969 monograph *Perceptrons*, there are weakness of Perceptrons like it cannot solve XOR problem. \n",
    "\n",
    "It turns out limitations of Perceptron can be replaced by stacking multiple Perceptrons. The resulting ANN is called *Multilayer Perceptron* (MLP). An MLP can solve XOR problem easily.\n",
    "\n",
    "\n",
    "## Perceptron"
   ]
  },
  {
   "cell_type": "code",
   "execution_count": 1,
   "id": "sought-sailing",
   "metadata": {},
   "outputs": [],
   "source": [
    "import numpy as np\n",
    "from sklearn.datasets import load_iris\n",
    "from sklearn.linear_model import Perceptron"
   ]
  },
  {
   "cell_type": "code",
   "execution_count": 2,
   "id": "close-woman",
   "metadata": {},
   "outputs": [],
   "source": [
    "iris = load_iris()\n",
    "X = iris.data[:, (2, 3)] # petal length and width\n",
    "y = (iris.target == 0).astype(np.int) # Iris setosa?"
   ]
  },
  {
   "cell_type": "code",
   "execution_count": 3,
   "id": "substantial-wiring",
   "metadata": {},
   "outputs": [
    {
     "data": {
      "text/plain": [
       "Perceptron()"
      ]
     },
     "execution_count": 3,
     "metadata": {},
     "output_type": "execute_result"
    }
   ],
   "source": [
    "per_clf = Perceptron()\n",
    "per_clf.fit(X, y)"
   ]
  },
  {
   "cell_type": "code",
   "execution_count": 4,
   "id": "electronic-liechtenstein",
   "metadata": {},
   "outputs": [
    {
     "data": {
      "text/plain": [
       "array([0])"
      ]
     },
     "execution_count": 4,
     "metadata": {},
     "output_type": "execute_result"
    }
   ],
   "source": [
    "y_pred = per_clf.predict([[2, 0.5]])\n",
    "y_pred"
   ]
  },
  {
   "cell_type": "markdown",
   "id": "crazy-footwear",
   "metadata": {},
   "source": [
    "## Multilayer Perceptron and Backpropagation\n",
    "\n",
    "A MLP is composed of one (passthrough) *input layer*, one or more layers of TLUs, called *hidden layers*, and one final layer of TLUs called the *output layer*. \n",
    "\n",
    "The layers close to input layer are usually called *lower layers*, and one close to output layer called *upper layers*.\n",
    "\n",
    "Every layer except output layer includes the bias neuron and is fully connected to the next layer.\n",
    "\n",
    "> The signal flows only in one direction (from the inputs to the outputs), so this architecture called *feedforward neural network* (FNN).\n",
    "\n",
    "When an ANN contains deep stack of hidden layers, it is called *deep neural networks* (DNN). \n",
    "\n",
    "In 1986, David Rumelhart, Geoffrey Hinton, and Ronald Williams published a paper that introduces the *backpropagation*. Which is ground breaking and still in use. In short it is Gradient Descent using an efficient way to calculate gradients automatically.\n",
    "\n",
    "> Automatically computing gradients is called *automatic differentiation*, or *autodiff*. The autodiff technique used in backpropagation is called *reverse-mode autodiff*. It is fast and precise, and well suited for when function to differentiate has many variables (e.g. connection weights) and few outputs (e.g. loss).\n",
    "\n",
    "Backpropagation Algorithm:\n",
    "\n",
    "- It handles one mini-batch at a time, and it goes through full training set multiple times. Each pass though full training set is called an *epoch*.\n",
    "- Each mini-batch is passed through the network from input layer through hidden layers to the output layer, this is called *forward pass*. The results for every layer is preserved in order to compute gradients.\n",
    "- Next, algorithm measures the network's output error (by loss function).\n",
    "- Then it computes how much each output connection contributed to the error analytically by applying chain rule.\n",
    "- Then it measures how much of these error contributions came from each connection in the layer below, again using chain rule, working backward until the algo reaches to the input layer. This is called *backward pass*.\n",
    "- Finally, the algorithm performs Gradient Descent step to tweak all the connection weights in the network, using error gradients it just computed.\n",
    "\n",
    "> It is important to initialize all the hidden layers' connection weights randomly, or else training will fall. For example, if you initialize all weights and bias to zero, then all neurons in a given layer will be perfectly identical, and backpropagation will affect them in a same way, so they will remain identical. Network treat a layer as only one neuron. If you initialize the weights randomly, you *break the symmetry* and allow backpropagation to train a diverse team of neurons.\n",
    "\n",
    "In order to work this algorithm properly, there is a key change in MLP: they replaced the step function (non-differentiable) to the logistic (sigmoid) function,\n",
    "$$\n",
    "\\sigma(z) = 1 / (1 + \\exp(-z))\n",
    "$$\n",
    "Sigmoid is differentiable and ranges from 0 to 1. There are others we can use:\n",
    "\n",
    "- *Hyperbolic tangent function*: $\\tanh(z) = 2\\sigma(2z)-1$\n",
    "  - It is like sigmoid, but ranges from -1 to 1. Which make layer's output more centered around 0 at the beginning of training, which often helps speed up convergence.\n",
    "- *The Rectified Linear Unit function*: $ReLU(z) = \\max(0, z)$\n",
    "  - It is continuous but not differentiable at 0. But in practice it works well and computed very fast, which makes it default for today's architectures. It's derivative is 0 for z < 0 and has no upper limit which makes it more usable.\n",
    "\n",
    "We need activation functions because if we chain linear transformations we get a linear transformation. So if you don't have non-linearity between layers, then deep networks is equivalent to single layer network.\n",
    "\n",
    "## Regression MLPs\n",
    "\n",
    "We can use MLPs for regression tasks. To predict single values, you just need an output neuron, and for multivariate regression, you need one output neuron for every dimension (value).\n",
    "\n",
    "In general, you don't need any activation function for the output layer. If you want positive output then you can use ReLU or *softplus function*, which is smooth variant of ReLU: $softplus(z) = \\log(1 + \\exp(z))$.\n",
    "\n",
    "Finally, if you want output in a specific range, you could use sigmoid or tanh and scale it up to your specific range.\n",
    "\n",
    "The loss function is generally mean squared error. But if you have lots of outliers you could use mean absolute error. Alternatively, you can use the *Huber loss*, which is combination of both.\n",
    "\n",
    "> Huber loss is quadratic when error is smaller than a threshold $\\delta$ (typically 1) but linear when greater.\n",
    "\n",
    "## Classification MLPs\n",
    "\n",
    "They mostly used in classification tasks. For a binary classification, you can use an output neuron with logistic function. The output will be in range 0 and 1, also gives you probability of 1 (positive class).\n",
    "\n",
    "MLPs can also easily handle multilabel binary classification. You can use two neurons with logistic function if you have 2 labels. The probability of both does not add up to 1, means label are independent.\n",
    "\n",
    "If your labels are dependent (e.g. MNIST), then you use output neuron for each label and apply *softmax function* to whole output layer, which produce a probabilities which add up to 1. This is called multiclass classification.\n",
    "\n",
    "For loss, since we are pretending the output is probability distribution, the *cross-entropy loss* (also called the log loss) is generally a good choice.\n",
    "\n",
    "## Implementing MLPs with Keras\n",
    "We'll be using Keras, which is a Deep Learning API that allows you to easily build, train, evaluate, and execute all types of neural networks. It was developed Francois Chollet as part of a research project, and it made open source in March 2015.\n",
    "\n",
    "Tensorflow is a framework that multi functionality to perform Deep Learning, Tensorflow 2 has made Keras as its official API.\n",
    "### Buildind an Image Classifier using the Sequential API\n",
    "Install tensorflow and check the versions"
   ]
  },
  {
   "cell_type": "code",
   "execution_count": 5,
   "id": "fantastic-astronomy",
   "metadata": {},
   "outputs": [
    {
     "data": {
      "text/plain": [
       "'2.4.1'"
      ]
     },
     "execution_count": 5,
     "metadata": {},
     "output_type": "execute_result"
    }
   ],
   "source": [
    "import tensorflow as tf\n",
    "from tensorflow import keras\n",
    "tf.__version__"
   ]
  },
  {
   "cell_type": "code",
   "execution_count": 6,
   "id": "annoying-collective",
   "metadata": {},
   "outputs": [
    {
     "data": {
      "text/plain": [
       "'2.4.0'"
      ]
     },
     "execution_count": 6,
     "metadata": {},
     "output_type": "execute_result"
    }
   ],
   "source": [
    "keras.__version__"
   ]
  },
  {
   "cell_type": "markdown",
   "id": "different-making",
   "metadata": {},
   "source": [
    "#### Using Keras to load the dataset\n",
    "Keras provides some utility functions to fetch and load common datasets. Let's use Fashion MNIST, it is similar to MNIST but contain cloth images instead of digits."
   ]
  },
  {
   "cell_type": "code",
   "execution_count": 7,
   "id": "about-jamaica",
   "metadata": {},
   "outputs": [],
   "source": [
    "fashion_mnist = keras.datasets.fashion_mnist\n",
    "(X_train_full, y_train_full), (X_test, y_test) = fashion_mnist.load_data()"
   ]
  },
  {
   "cell_type": "markdown",
   "id": "statistical-heating",
   "metadata": {},
   "source": [
    "Keras' Fashion MNIST gives 28x28 array for each image, type as integers, and ranges from 0 to 255 as pixel intensities. "
   ]
  },
  {
   "cell_type": "code",
   "execution_count": 8,
   "id": "appreciated-great",
   "metadata": {},
   "outputs": [
    {
     "data": {
      "text/plain": [
       "((60000, 28, 28), (10000, 28, 28))"
      ]
     },
     "execution_count": 8,
     "metadata": {},
     "output_type": "execute_result"
    }
   ],
   "source": [
    "X_train_full.shape, X_test.shape"
   ]
  },
  {
   "cell_type": "code",
   "execution_count": 9,
   "id": "anticipated-contact",
   "metadata": {},
   "outputs": [
    {
     "data": {
      "text/plain": [
       "dtype('uint8')"
      ]
     },
     "execution_count": 9,
     "metadata": {},
     "output_type": "execute_result"
    }
   ],
   "source": [
    "X_train_full.dtype"
   ]
  },
  {
   "cell_type": "markdown",
   "id": "helpful-lying",
   "metadata": {},
   "source": [
    "It already splits dataset into train and test, but not validation set. We'll use Gradient Descent so we must scale input features by dividing them by 255.0. Now, numbers are in range 0-1 and become float."
   ]
  },
  {
   "cell_type": "code",
   "execution_count": 10,
   "id": "disturbed-workplace",
   "metadata": {},
   "outputs": [],
   "source": [
    "X_valid, X_train = X_train_full[:5000] / 255.0, X_train_full[5000:] / 255.0\n",
    "y_valid, y_train = y_train_full[:5000], y_train_full[5000:]"
   ]
  },
  {
   "cell_type": "markdown",
   "id": "emerging-census",
   "metadata": {},
   "source": [
    "For Fashion MNIST, we need the list of class names to know the labels."
   ]
  },
  {
   "cell_type": "code",
   "execution_count": 11,
   "id": "satellite-diesel",
   "metadata": {},
   "outputs": [],
   "source": [
    "class_names = [\"T-shirt/Top\", \"Trouser\", \"Pullover\", \"Dress\", \"Coat\", \n",
    "              \"Sandal\", \"Shirt\", \"Sneaker\", \"Bag\", \"Ankle boot\"]"
   ]
  },
  {
   "cell_type": "code",
   "execution_count": 12,
   "id": "studied-bidder",
   "metadata": {},
   "outputs": [
    {
     "data": {
      "text/plain": [
       "'Coat'"
      ]
     },
     "execution_count": 12,
     "metadata": {},
     "output_type": "execute_result"
    }
   ],
   "source": [
    "class_names[y_train[0]]"
   ]
  },
  {
   "cell_type": "markdown",
   "id": "demographic-republican",
   "metadata": {},
   "source": [
    "#### Creating the Model using the Sequential API"
   ]
  },
  {
   "cell_type": "code",
   "execution_count": 13,
   "id": "promising-chapel",
   "metadata": {},
   "outputs": [],
   "source": [
    "model = keras.models.Sequential()\n",
    "model.add(keras.layers.Flatten(input_shape=[28, 28]))\n",
    "model.add(keras.layers.Dense(300, activation='relu'))\n",
    "model.add(keras.layers.Dense(100, activation='relu'))\n",
    "model.add(keras.layers.Dense(10, activation='softmax'))"
   ]
  },
  {
   "cell_type": "markdown",
   "id": "iraqi-extent",
   "metadata": {},
   "source": [
    "Let's go though code:\n",
    "\n",
    "- `Sequential` model is the simplest Keras model to compose a single stack of layers connected sequentially.\n",
    "- Next, the first layer added to the model. It is a `Flatten` layer, whose role is to convert input shape as 1D array. It does not accept any parameters, since it is first layer you need to pass `input_shape`. Alternatively, you could add `keras.layers.InputLayer` with passing `input_shape=[28, 28]`.\n",
    "- Next, we add a `Dense` layer with 300 neuron number passing to it. It has an activation function ReLU. It manages all weights and bias when receives inputs.\n",
    "\n",
    "- Then we add another `Dense` layer with 100 neurons and activation as ReLU.\n",
    "- Finally, we add a `Dense` output layer with 10 neurons (one per class), using the softmax activation function.\n",
    "\n",
    "> Specifying `activation='relu'` is equivalent to `activation=keras.activations.relu`.\n",
    "\n",
    "Instead of adding layers one by one, you could pass a list of layers when creating th `Sequential` model."
   ]
  },
  {
   "cell_type": "code",
   "execution_count": 14,
   "id": "vertical-belfast",
   "metadata": {},
   "outputs": [],
   "source": [
    "model = keras.models.Sequential([\n",
    "    keras.layers.Flatten(input_shape=[28, 28]),\n",
    "    keras.layers.Dense(300, activation='relu'),\n",
    "    keras.layers.Dense(100, activation='relu'),\n",
    "    keras.layers.Dense(10, activation='softmax')\n",
    "])"
   ]
  },
  {
   "cell_type": "markdown",
   "id": "invalid-butterfly",
   "metadata": {},
   "source": [
    "The model's `summary()` method displays all the model's layers, including their name (which automatically created if not mentioned), output shape and number of parameters with total parameters, trainable and non-trainable parameter numbers."
   ]
  },
  {
   "cell_type": "code",
   "execution_count": 15,
   "id": "characteristic-attendance",
   "metadata": {},
   "outputs": [
    {
     "name": "stdout",
     "output_type": "stream",
     "text": [
      "Model: \"sequential_1\"\n",
      "_________________________________________________________________\n",
      "Layer (type)                 Output Shape              Param #   \n",
      "=================================================================\n",
      "flatten_1 (Flatten)          (None, 784)               0         \n",
      "_________________________________________________________________\n",
      "dense_3 (Dense)              (None, 300)               235500    \n",
      "_________________________________________________________________\n",
      "dense_4 (Dense)              (None, 100)               30100     \n",
      "_________________________________________________________________\n",
      "dense_5 (Dense)              (None, 10)                1010      \n",
      "=================================================================\n",
      "Total params: 266,610\n",
      "Trainable params: 266,610\n",
      "Non-trainable params: 0\n",
      "_________________________________________________________________\n"
     ]
    }
   ],
   "source": [
    "model.summary()"
   ]
  },
  {
   "cell_type": "markdown",
   "id": "desirable-feeding",
   "metadata": {},
   "source": [
    "However, you can use `keras.utils.plot_model()` to generate an image of your model."
   ]
  },
  {
   "cell_type": "code",
   "execution_count": 16,
   "id": "italian-morning",
   "metadata": {},
   "outputs": [
    {
     "data": {
      "image/png": "[encoded data removed]",
      "text/plain": [
       "<IPython.core.display.Image object>"
      ]
     },
     "execution_count": 16,
     "metadata": {},
     "output_type": "execute_result"
    }
   ],
   "source": [
    "keras.utils.plot_model(model)"
   ]
  },
  {
   "cell_type": "markdown",
   "id": "ready-string",
   "metadata": {},
   "source": [
    "Note that, `Dense` layer has lot of parameters. This gives the model a lot of flexibility to fit the data, but it also means that model could overfit the data. Specially when you don't have lots of data.\n",
    "\n",
    "You can easily get a list of layers."
   ]
  },
  {
   "cell_type": "code",
   "execution_count": 17,
   "id": "combined-wyoming",
   "metadata": {},
   "outputs": [
    {
     "data": {
      "text/plain": [
       "[<tensorflow.python.keras.layers.core.Flatten at 0x7fcbb95e46d0>,\n",
       " <tensorflow.python.keras.layers.core.Dense at 0x7fcbb95e4250>,\n",
       " <tensorflow.python.keras.layers.core.Dense at 0x7fcbb94c2280>,\n",
       " <tensorflow.python.keras.layers.core.Dense at 0x7fcbbb9bc250>]"
      ]
     },
     "execution_count": 17,
     "metadata": {},
     "output_type": "execute_result"
    }
   ],
   "source": [
    "model.layers"
   ]
  },
  {
   "cell_type": "code",
   "execution_count": 18,
   "id": "solved-renaissance",
   "metadata": {},
   "outputs": [
    {
     "data": {
      "text/plain": [
       "'dense_3'"
      ]
     },
     "execution_count": 18,
     "metadata": {},
     "output_type": "execute_result"
    }
   ],
   "source": [
    "hidden1 = model.layers[1]\n",
    "hidden1.name"
   ]
  },
  {
   "cell_type": "code",
   "execution_count": 19,
   "id": "english-animal",
   "metadata": {},
   "outputs": [
    {
     "data": {
      "text/plain": [
       "True"
      ]
     },
     "execution_count": 19,
     "metadata": {},
     "output_type": "execute_result"
    }
   ],
   "source": [
    "model.get_layer('dense_3') is hidden1"
   ]
  },
  {
   "cell_type": "markdown",
   "id": "foster-superintendent",
   "metadata": {},
   "source": [
    "All the parameters can be accessed by `get_weights()` and `set_weights()` methods."
   ]
  },
  {
   "cell_type": "code",
   "execution_count": 20,
   "id": "spoken-kitty",
   "metadata": {},
   "outputs": [
    {
     "data": {
      "text/plain": [
       "(array([[-0.00754258, -0.04366939,  0.01029805, ...,  0.00372275,\n",
       "          0.00243229, -0.06694706],\n",
       "        [ 0.07192007,  0.00896271, -0.0303936 , ..., -0.05347449,\n",
       "          0.05146894,  0.07180741],\n",
       "        [-0.0474909 ,  0.06719105,  0.01919688, ...,  0.06146406,\n",
       "         -0.05107195, -0.05320762],\n",
       "        ...,\n",
       "        [ 0.01187094, -0.05321714, -0.03532935, ..., -0.02335224,\n",
       "          0.02986118, -0.02064291],\n",
       "        [-0.01759655,  0.02915387, -0.05630223, ...,  0.04567022,\n",
       "         -0.01391109,  0.06617334],\n",
       "        [ 0.02651229,  0.03345647, -0.06416623, ...,  0.0065814 ,\n",
       "         -0.0402001 , -0.02786959]], dtype=float32),\n",
       " array([0., 0., 0., 0., 0., 0., 0., 0., 0., 0., 0., 0., 0., 0., 0., 0., 0.,\n",
       "        0., 0., 0., 0., 0., 0., 0., 0., 0., 0., 0., 0., 0., 0., 0., 0., 0.,\n",
       "        0., 0., 0., 0., 0., 0., 0., 0., 0., 0., 0., 0., 0., 0., 0., 0., 0.,\n",
       "        0., 0., 0., 0., 0., 0., 0., 0., 0., 0., 0., 0., 0., 0., 0., 0., 0.,\n",
       "        0., 0., 0., 0., 0., 0., 0., 0., 0., 0., 0., 0., 0., 0., 0., 0., 0.,\n",
       "        0., 0., 0., 0., 0., 0., 0., 0., 0., 0., 0., 0., 0., 0., 0., 0., 0.,\n",
       "        0., 0., 0., 0., 0., 0., 0., 0., 0., 0., 0., 0., 0., 0., 0., 0., 0.,\n",
       "        0., 0., 0., 0., 0., 0., 0., 0., 0., 0., 0., 0., 0., 0., 0., 0., 0.,\n",
       "        0., 0., 0., 0., 0., 0., 0., 0., 0., 0., 0., 0., 0., 0., 0., 0., 0.,\n",
       "        0., 0., 0., 0., 0., 0., 0., 0., 0., 0., 0., 0., 0., 0., 0., 0., 0.,\n",
       "        0., 0., 0., 0., 0., 0., 0., 0., 0., 0., 0., 0., 0., 0., 0., 0., 0.,\n",
       "        0., 0., 0., 0., 0., 0., 0., 0., 0., 0., 0., 0., 0., 0., 0., 0., 0.,\n",
       "        0., 0., 0., 0., 0., 0., 0., 0., 0., 0., 0., 0., 0., 0., 0., 0., 0.,\n",
       "        0., 0., 0., 0., 0., 0., 0., 0., 0., 0., 0., 0., 0., 0., 0., 0., 0.,\n",
       "        0., 0., 0., 0., 0., 0., 0., 0., 0., 0., 0., 0., 0., 0., 0., 0., 0.,\n",
       "        0., 0., 0., 0., 0., 0., 0., 0., 0., 0., 0., 0., 0., 0., 0., 0., 0.,\n",
       "        0., 0., 0., 0., 0., 0., 0., 0., 0., 0., 0., 0., 0., 0., 0., 0., 0.,\n",
       "        0., 0., 0., 0., 0., 0., 0., 0., 0., 0., 0.], dtype=float32))"
      ]
     },
     "execution_count": 20,
     "metadata": {},
     "output_type": "execute_result"
    }
   ],
   "source": [
    "weights, bias = hidden1.get_weights()\n",
    "weights, bias"
   ]
  },
  {
   "cell_type": "code",
   "execution_count": 21,
   "id": "proved-butterfly",
   "metadata": {},
   "outputs": [
    {
     "data": {
      "text/plain": [
       "((784, 300), (300,))"
      ]
     },
     "execution_count": 21,
     "metadata": {},
     "output_type": "execute_result"
    }
   ],
   "source": [
    "weights.shape, bias.shape"
   ]
  },
  {
   "cell_type": "markdown",
   "id": "velvet-saturn",
   "metadata": {},
   "source": [
    "`Dense` layer initialize the connection weights randomly, and biases to zeros. If you want to change initialization, you can set `kernel_initializer` (kernel is another name of matrix of connection weights) or `bias_initializer` when creating the layer.\n",
    "\n",
    "> The shape of the weigthts matrix depends on the input shape. That's why we need to specify input shape at start. But if you don't that's okay Keras will wait until you pass it the data or you can call its `build()` mehod. \n",
    "\n"
   ]
  },
  {
   "cell_type": "markdown",
   "id": "fossil-bobby",
   "metadata": {},
   "source": [
    "#### Compiling the Model\n",
    "After a model is created, you must call its `compile()` method to specify loss and optimizer, optionally you can specify some metrics to compute during training and evaluation."
   ]
  },
  {
   "cell_type": "code",
   "execution_count": 22,
   "id": "genetic-freight",
   "metadata": {},
   "outputs": [],
   "source": [
    "model.compile(loss='sparse_categorical_crossentropy',\n",
    "             optimizer='sgd',\n",
    "             metrics=['accuracy'])"
   ]
  },
  {
   "cell_type": "markdown",
   "id": "sought-being",
   "metadata": {},
   "source": [
    "> Using `loss='sparse_categorical_crossentropy'` is equivalent to `loss=keras.losses.sparse_categorical_crossentropy`, same goes for optimizers and metrics.\n",
    "\n",
    "We use `sparse_categorical_crossentropy` loss because we have sparse labels (i.e. for each instances, there is just a target class index, from 0 to 9). If we had one-hot vectors then we'll use `categorical_crossentropy` loss instead. If we were doing binary classification binary classification, then we should use `sigmoid` activation function in the output layer, and we would use the `binary_crossentropy` loss.\n",
    "\n",
    "> If you want to convert sparse labels to one-hot vector labels, use `keras.utils.to_categorical()` function. To go other way around, use the `np.argmax()` function with `axis=1`.\n",
    "\n",
    "For optimizer `\"sgd\"` means that we will train model using simple Stochastic Gradient Descent.\n",
    "\n",
    "> When using SGD optimizer, it is important to tune the learning rate. So, you will generally want to use `optimizer=keras.optimizers.SGD(lr=???)` to set the learning rate, which defaults to `lr=0.01`\n",
    "\n",
    "Finally, metrics is `\"accuracy\"` which is calculated during training and evaluation.\n",
    "\n",
    "#### Training and evaluating the Model\n",
    "\n",
    "For this we simply call its `fit()` method."
   ]
  },
  {
   "cell_type": "code",
   "execution_count": 23,
   "id": "stock-tobacco",
   "metadata": {
    "collapsed": true,
    "jupyter": {
     "outputs_hidden": true
    }
   },
   "outputs": [
    {
     "name": "stdout",
     "output_type": "stream",
     "text": [
      "Epoch 1/30\n",
      "1719/1719 [==============================] - 5s 3ms/step - loss: 1.0196 - accuracy: 0.6644 - val_loss: 0.5172 - val_accuracy: 0.8292\n",
      "Epoch 2/30\n",
      "1719/1719 [==============================] - 4s 2ms/step - loss: 0.5175 - accuracy: 0.8211 - val_loss: 0.4554 - val_accuracy: 0.8428\n",
      "Epoch 3/30\n",
      "1719/1719 [==============================] - 4s 3ms/step - loss: 0.4538 - accuracy: 0.8386 - val_loss: 0.4163 - val_accuracy: 0.8576\n",
      "Epoch 4/30\n",
      "1719/1719 [==============================] - 4s 2ms/step - loss: 0.4305 - accuracy: 0.8490 - val_loss: 0.4065 - val_accuracy: 0.8588\n",
      "Epoch 5/30\n",
      "1719/1719 [==============================] - 4s 2ms/step - loss: 0.4076 - accuracy: 0.8562 - val_loss: 0.3821 - val_accuracy: 0.8654\n",
      "Epoch 6/30\n",
      "1719/1719 [==============================] - 4s 2ms/step - loss: 0.3819 - accuracy: 0.8648 - val_loss: 0.3863 - val_accuracy: 0.8632\n",
      "Epoch 7/30\n",
      "1719/1719 [==============================] - 4s 2ms/step - loss: 0.3787 - accuracy: 0.8675 - val_loss: 0.3724 - val_accuracy: 0.8700\n",
      "Epoch 8/30\n",
      "1719/1719 [==============================] - 4s 2ms/step - loss: 0.3578 - accuracy: 0.8728 - val_loss: 0.3587 - val_accuracy: 0.8718\n",
      "Epoch 9/30\n",
      "1719/1719 [==============================] - 4s 2ms/step - loss: 0.3468 - accuracy: 0.8772 - val_loss: 0.3467 - val_accuracy: 0.8776\n",
      "Epoch 10/30\n",
      "1719/1719 [==============================] - 4s 2ms/step - loss: 0.3308 - accuracy: 0.8809 - val_loss: 0.3436 - val_accuracy: 0.8774\n",
      "Epoch 11/30\n",
      "1719/1719 [==============================] - 4s 2ms/step - loss: 0.3296 - accuracy: 0.8840 - val_loss: 0.3517 - val_accuracy: 0.8716\n",
      "Epoch 12/30\n",
      "1719/1719 [==============================] - 4s 2ms/step - loss: 0.3195 - accuracy: 0.8872 - val_loss: 0.3281 - val_accuracy: 0.8794\n",
      "Epoch 13/30\n",
      "1719/1719 [==============================] - 4s 2ms/step - loss: 0.3103 - accuracy: 0.8887 - val_loss: 0.3304 - val_accuracy: 0.8796\n",
      "Epoch 14/30\n",
      "1719/1719 [==============================] - 4s 2ms/step - loss: 0.3015 - accuracy: 0.8891 - val_loss: 0.3198 - val_accuracy: 0.8840\n",
      "Epoch 15/30\n",
      "1719/1719 [==============================] - 4s 2ms/step - loss: 0.2995 - accuracy: 0.8933 - val_loss: 0.3187 - val_accuracy: 0.8808\n",
      "Epoch 16/30\n",
      "1719/1719 [==============================] - 4s 2ms/step - loss: 0.2891 - accuracy: 0.8957 - val_loss: 0.3138 - val_accuracy: 0.8854\n",
      "Epoch 17/30\n",
      "1719/1719 [==============================] - 4s 2ms/step - loss: 0.2845 - accuracy: 0.8992 - val_loss: 0.3190 - val_accuracy: 0.8828\n",
      "Epoch 18/30\n",
      "1719/1719 [==============================] - 4s 2ms/step - loss: 0.2792 - accuracy: 0.8999 - val_loss: 0.3301 - val_accuracy: 0.8788\n",
      "Epoch 19/30\n",
      "1719/1719 [==============================] - 4s 2ms/step - loss: 0.2710 - accuracy: 0.9017 - val_loss: 0.3113 - val_accuracy: 0.8858\n",
      "Epoch 20/30\n",
      "1719/1719 [==============================] - 4s 2ms/step - loss: 0.2692 - accuracy: 0.9031 - val_loss: 0.3112 - val_accuracy: 0.8858\n",
      "Epoch 21/30\n",
      "1719/1719 [==============================] - 4s 2ms/step - loss: 0.2607 - accuracy: 0.9069 - val_loss: 0.3134 - val_accuracy: 0.8848\n",
      "Epoch 22/30\n",
      "1719/1719 [==============================] - 4s 2ms/step - loss: 0.2541 - accuracy: 0.9081 - val_loss: 0.3000 - val_accuracy: 0.8900\n",
      "Epoch 23/30\n",
      "1719/1719 [==============================] - 4s 2ms/step - loss: 0.2510 - accuracy: 0.9082 - val_loss: 0.2979 - val_accuracy: 0.8926\n",
      "Epoch 24/30\n",
      "1719/1719 [==============================] - 4s 2ms/step - loss: 0.2510 - accuracy: 0.9091 - val_loss: 0.3007 - val_accuracy: 0.8916\n",
      "Epoch 25/30\n",
      "1719/1719 [==============================] - 4s 2ms/step - loss: 0.2431 - accuracy: 0.9129 - val_loss: 0.3111 - val_accuracy: 0.8794\n",
      "Epoch 26/30\n",
      "1719/1719 [==============================] - 4s 2ms/step - loss: 0.2407 - accuracy: 0.9126 - val_loss: 0.2924 - val_accuracy: 0.8916\n",
      "Epoch 27/30\n",
      "1719/1719 [==============================] - 4s 2ms/step - loss: 0.2313 - accuracy: 0.9175 - val_loss: 0.3050 - val_accuracy: 0.8862\n",
      "Epoch 28/30\n",
      "1719/1719 [==============================] - 4s 2ms/step - loss: 0.2308 - accuracy: 0.9157 - val_loss: 0.2947 - val_accuracy: 0.8938\n",
      "Epoch 29/30\n",
      "1719/1719 [==============================] - 4s 2ms/step - loss: 0.2286 - accuracy: 0.9187 - val_loss: 0.2990 - val_accuracy: 0.8900\n",
      "Epoch 30/30\n",
      "1719/1719 [==============================] - 4s 2ms/step - loss: 0.2231 - accuracy: 0.9199 - val_loss: 0.2909 - val_accuracy: 0.8962\n"
     ]
    }
   ],
   "source": [
    "history = model.fit(X_train, y_train, epochs=30,\n",
    "                   validation_data=(X_valid, y_valid))"
   ]
  },
  {
   "cell_type": "markdown",
   "id": "widespread-sigma",
   "metadata": {},
   "source": [
    "We pass it the input features (X_train) and the target classes (y_train), as well as number of epochs to train (defaults to 1).  We also pass it validation set (which is optional), Keras will measure the loss and other metrics on this set at the end of each epoch, which is very helpful to see. \n",
    "\n",
    "If performance on training set is much better than on the validation set, your model is probably overfitting the training set.\n",
    "\n",
    "> Instead of passing a validation set, you could set `validation_split` to the ratio you want. For example, `validation_split=0.1` last 10% of training data will be used for validation.\n",
    "\n",
    "If training set was very skewed, with some classes being over-represented than other, you could use `class_weight` argument in `fit()`, this would give extra weight to under-represented class while calculating the loss. If you need per-instance weights, use `sample_weight` argument, it would be useful if some instances were labeled by experts while other labeled by crowdsourcing platform: it gives more weight to the expert ones. You can also pass sample weight (not class weight) in `validation_data` tuple as third argument.\n",
    "\n",
    "The `fit()` method returns a `history` object which contains the training parameters (`history.params`), the list of epochs (`history.epoch`), and most important dictionary (`history.history`) containing loss and extra metrics it measured. You could plot history using pandas `DataFrame` to get learning curves.\n",
    "\n"
   ]
  },
  {
   "cell_type": "code",
   "execution_count": 24,
   "id": "enclosed-provision",
   "metadata": {},
   "outputs": [
    {
     "data": {
      "image/png": "[encoded data removed]",
      "text/plain": [
       "<Figure size 576x360 with 1 Axes>"
      ]
     },
     "metadata": {
      "needs_background": "light"
     },
     "output_type": "display_data"
    }
   ],
   "source": [
    "import pandas as pd\n",
    "import matplotlib.pyplot as plt\n",
    "\n",
    "pd.DataFrame(history.history).plot(figsize=(8, 5))\n",
    "plt.grid(True)\n",
    "plt.gca().set_ylim(0, 1)\n",
    "plt.show()"
   ]
  },
  {
   "cell_type": "markdown",
   "id": "featured-madrid",
   "metadata": {},
   "source": [
    "Here you would see that training and validation curves are close which is good. At first, it seems validation is good because validation error is computed at the end of epoch and training loss is computed during each epoch. So training curve should be shifted half the epoch to the left. Then you see overlapping curves at the start.\n",
    "\n",
    "> When plotting training curves, it should be shifted by half an epoch to the left.\n",
    "\n",
    "If you want to train longer you can call `fit()` method and Keras will continue the training.\n",
    "\n",
    "If you didn't satisfy with the training try tuning the hyperparameters. The first one to check is learning rate, then optimizer, then model's hyperparameters such as number of layers, number of neurons, and activation functions. You could also tune batch size (which can be set in `fit()` method as `batch_size` argument, defaults to 32) and number of epochs.\n",
    "\n",
    "Now, it's time to evaluate model on the test set to see the generalization error.\n",
    "\n"
   ]
  },
  {
   "cell_type": "code",
   "execution_count": 25,
   "id": "national-brooks",
   "metadata": {},
   "outputs": [
    {
     "name": "stdout",
     "output_type": "stream",
     "text": [
      "313/313 [==============================] - 1s 2ms/step - loss: 66.1980 - accuracy: 0.8457\n"
     ]
    },
    {
     "data": {
      "text/plain": [
       "[66.19799041748047, 0.8457000255584717]"
      ]
     },
     "execution_count": 25,
     "metadata": {},
     "output_type": "execute_result"
    }
   ],
   "source": [
    "model.evaluate(X_test, y_test)"
   ]
  },
  {
   "cell_type": "markdown",
   "id": "radical-blond",
   "metadata": {},
   "source": [
    "Generally, test set performance is slightly lower than validation set, because the hyperparameters tuned on validation set. And do not try to tune hyperparameters on the test set.\n",
    "\n",
    "#### Using the Model to make predictions\n",
    "\n",
    "Next, we can use model `predict()` method for predictions."
   ]
  },
  {
   "cell_type": "code",
   "execution_count": 26,
   "id": "finite-indie",
   "metadata": {},
   "outputs": [
    {
     "data": {
      "text/plain": [
       "array([[0., 0., 0., 0., 0., 0., 0., 0., 0., 1.],\n",
       "       [0., 0., 1., 0., 0., 0., 0., 0., 0., 0.],\n",
       "       [0., 1., 0., 0., 0., 0., 0., 0., 0., 0.]], dtype=float32)"
      ]
     },
     "execution_count": 26,
     "metadata": {},
     "output_type": "execute_result"
    }
   ],
   "source": [
    "X_new = X_test[:3]\n",
    "y_probs = model.predict(X_new)\n",
    "y_probs.round(2)"
   ]
  },
  {
   "cell_type": "markdown",
   "id": "shared-johnston",
   "metadata": {},
   "source": [
    "This will give you probabilities for each class. If you only want class then you can use `np.argmax()` method with `axis=-1`.\n",
    "\n",
    "> Use  `np.argmax(model.predict(x), axis=-1)`,   if your model does multi-class classification (e.g. if it uses a `softmax` last-layer activation).`(model.predict(x) > 0.5).astype(\"int32\")`,   if your model does binary classification   (e.g. if it uses a `sigmoid` last-layer activation)."
   ]
  },
  {
   "cell_type": "code",
   "execution_count": 27,
   "id": "wanted-queen",
   "metadata": {},
   "outputs": [
    {
     "data": {
      "text/plain": [
       "array([9, 2, 1])"
      ]
     },
     "execution_count": 27,
     "metadata": {},
     "output_type": "execute_result"
    }
   ],
   "source": [
    "y_pred = np.argmax(model.predict(X_new), axis=-1)\n",
    "y_pred"
   ]
  },
  {
   "cell_type": "code",
   "execution_count": 28,
   "id": "italic-entity",
   "metadata": {},
   "outputs": [
    {
     "data": {
      "text/plain": [
       "array(['Ankle boot', 'Pullover', 'Trouser'], dtype='<U11')"
      ]
     },
     "execution_count": 28,
     "metadata": {},
     "output_type": "execute_result"
    }
   ],
   "source": [
    "np.array(class_names)[y_pred]"
   ]
  },
  {
   "cell_type": "markdown",
   "id": "structural-stack",
   "metadata": {},
   "source": [
    "### Building a Regression MLP Using the Sequential API\n",
    "\n",
    "Let's do some linear regression using neural networks. We'll use Sklearn's `fetch_california_housing()` dataset, and do some preprocessing."
   ]
  },
  {
   "cell_type": "code",
   "execution_count": 2,
   "id": "detailed-restriction",
   "metadata": {},
   "outputs": [],
   "source": [
    "from sklearn.datasets import fetch_california_housing\n",
    "from sklearn.model_selection import train_test_split\n",
    "from sklearn.preprocessing import StandardScaler"
   ]
  },
  {
   "cell_type": "code",
   "execution_count": 3,
   "id": "serial-commercial",
   "metadata": {},
   "outputs": [],
   "source": [
    "housing = fetch_california_housing()\n",
    "\n",
    "X_train_full, X_test, y_train_full, y_test = train_test_split(housing.data, housing.target)\n",
    "X_train, X_val, y_train, y_val = train_test_split(X_train_full, y_train_full)\n",
    "\n",
    "scaler = StandardScaler()\n",
    "X_train = scaler.fit_transform(X_train)\n",
    "X_val = scaler.transform(X_val)\n",
    "X_test = scaler.transform(X_test)"
   ]
  },
  {
   "cell_type": "markdown",
   "id": "pediatric-reconstruction",
   "metadata": {},
   "source": [
    "Now, we use Sequential API to build, train, evaluate, and use a MLP regression model for predictions. The output layer has a single neuron to predict a value and has no activation function, and the mean squared error as loss function."
   ]
  },
  {
   "cell_type": "code",
   "execution_count": 31,
   "id": "frank-management",
   "metadata": {
    "collapsed": true,
    "jupyter": {
     "outputs_hidden": true
    }
   },
   "outputs": [
    {
     "name": "stdout",
     "output_type": "stream",
     "text": [
      "Epoch 1/20\n",
      "363/363 [==============================] - 1s 1ms/step - loss: 1.8459 - val_loss: 0.5081\n",
      "Epoch 2/20\n",
      "363/363 [==============================] - 0s 1ms/step - loss: 0.4718 - val_loss: 0.4741\n",
      "Epoch 3/20\n",
      "363/363 [==============================] - 0s 1ms/step - loss: 0.3849 - val_loss: 0.4415\n",
      "Epoch 4/20\n",
      "363/363 [==============================] - 0s 1ms/step - loss: 0.3920 - val_loss: 0.4299\n",
      "Epoch 5/20\n",
      "363/363 [==============================] - 0s 1ms/step - loss: 0.3836 - val_loss: 0.4122\n",
      "Epoch 6/20\n",
      "363/363 [==============================] - 0s 1ms/step - loss: 0.3699 - val_loss: 0.4136\n",
      "Epoch 7/20\n",
      "363/363 [==============================] - 0s 1ms/step - loss: 0.3752 - val_loss: 0.4104\n",
      "Epoch 8/20\n",
      "363/363 [==============================] - 0s 1ms/step - loss: 0.3594 - val_loss: 0.3991\n",
      "Epoch 9/20\n",
      "363/363 [==============================] - 0s 1ms/step - loss: 0.3781 - val_loss: 0.3995\n",
      "Epoch 10/20\n",
      "363/363 [==============================] - 0s 1ms/step - loss: 0.3637 - val_loss: 0.3970\n",
      "Epoch 11/20\n",
      "363/363 [==============================] - 0s 1ms/step - loss: 0.3623 - val_loss: 0.3986\n",
      "Epoch 12/20\n",
      "363/363 [==============================] - 0s 1ms/step - loss: 0.3572 - val_loss: 0.4095\n",
      "Epoch 13/20\n",
      "363/363 [==============================] - 0s 1ms/step - loss: 0.3934 - val_loss: 0.3923\n",
      "Epoch 14/20\n",
      "363/363 [==============================] - 0s 1ms/step - loss: 0.3526 - val_loss: 0.3950\n",
      "Epoch 15/20\n",
      "363/363 [==============================] - 0s 1ms/step - loss: 0.3565 - val_loss: 0.4004\n",
      "Epoch 16/20\n",
      "363/363 [==============================] - 0s 1ms/step - loss: 0.3714 - val_loss: 0.4030\n",
      "Epoch 17/20\n",
      "363/363 [==============================] - 0s 1ms/step - loss: 0.3634 - val_loss: 0.3950\n",
      "Epoch 18/20\n",
      "363/363 [==============================] - 0s 1ms/step - loss: 0.3474 - val_loss: 0.3921\n",
      "Epoch 19/20\n",
      "363/363 [==============================] - 0s 1ms/step - loss: 0.3447 - val_loss: 0.3875\n",
      "Epoch 20/20\n",
      "363/363 [==============================] - 0s 1ms/step - loss: 0.3423 - val_loss: 0.3843\n",
      "162/162 [==============================] - 0s 715us/step - loss: 0.3538\n"
     ]
    },
    {
     "data": {
      "text/plain": [
       "array([[1.5931412],\n",
       "       [2.05368  ],\n",
       "       [1.6135161]], dtype=float32)"
      ]
     },
     "execution_count": 31,
     "metadata": {},
     "output_type": "execute_result"
    }
   ],
   "source": [
    "model = keras.models.Sequential([\n",
    "    keras.layers.Dense(30, activation='relu', input_shape=X_train.shape[1:]),\n",
    "    keras.layers.Dense(1)\n",
    "])\n",
    "\n",
    "model.compile(loss='mean_squared_error', optimizer='sgd')\n",
    "history = model.fit(X_train, y_train, epochs=20,\n",
    "                   validation_data=(X_val, y_val))\n",
    "\n",
    "mse_test = model.evaluate(X_test, y_test)\n",
    "X_new = X_test[:3]\n",
    "y_pred = model.predict(X_new)\n",
    "y_pred"
   ]
  },
  {
   "cell_type": "markdown",
   "id": "legitimate-river",
   "metadata": {},
   "source": [
    "Sequential API is quit easy and common, but sometimes we need to build more complex architectures like with multiple inputs or outputs. For this purpose, Keras offers a *Functional API*.\n",
    "\n",
    "### Building Complex Models using Functional API\n",
    "\n",
    "One example of non-sequential neural network is *Wide & Deep* neural networks. It connects all or part of the inputs to the outputs, which helps to learn both deep patterns (using deep path) and simple patterns (using short path).\n",
    "\n",
    "Let's build such a neural network:  "
   ]
  },
  {
   "cell_type": "code",
   "execution_count": 32,
   "id": "palestinian-rally",
   "metadata": {},
   "outputs": [],
   "source": [
    "input_ = keras.layers.Input(shape=X_train.shape[1:])\n",
    "hidden1 = keras.layers.Dense(30, activation='relu')(input_)\n",
    "hidden2 = keras.layers.Dense(30, activation='relu')(hidden1)\n",
    "concat = keras.layers.Concatenate()([input_, hidden2])\n",
    "output = keras.layers.Dense(1)(concat)\n",
    "model = keras.Model(inputs=[input_], outputs=[output])"
   ]
  },
  {
   "cell_type": "markdown",
   "id": "armed-holly",
   "metadata": {},
   "source": [
    "Let's go through this code:\n",
    "\n",
    "- First, we need to create an `Input` object. Which specifies the input kind to the model.\n",
    "- Next, we create a normal `Dense` layer. Notice, we call it like a function, passing it the input. This is why this is called Functional API. \n",
    "- Then we pass output of first hidden to another.\n",
    "- Next, we create a `Concatenate` layer, we pass it the input and the output of second hidden layer. You may prefer `keras.layers.concatenate()` function.\n",
    "- Then we create an output layer, passing in result of the concatenation.\n",
    "- Lastly, we create a Keras `Model`, specifying which inputs and outputs to use.\n",
    "\n",
    "After that all steps are same.\n",
    "\n",
    "But what if you want to send a subset of the features through the wide path and different (possibly overlapping) to the deep path? Solution is to use multiple inputs. For example, suppose we want to pass five features through wide path (0 to 4), and six features to deep path (2 to 7):\n",
    "\n"
   ]
  },
  {
   "cell_type": "code",
   "execution_count": 33,
   "id": "instructional-census",
   "metadata": {},
   "outputs": [],
   "source": [
    "input_A = keras.layers.Input(shape=[5], name='wide_input')\n",
    "input_B = keras.layers.Input(shape=[6], name='deep_input')\n",
    "hidden1 = keras.layers.Dense(30, activation='relu')(input_B)\n",
    "hidden2 = keras.layers.Dense(30, activation='relu')(hidden1)\n",
    "concat = keras.layers.concatenate([input_A, hidden2])\n",
    "output = keras.layers.Dense(1)(concat)\n",
    "model = keras.Model(inputs=[input_A, input_B], outputs=[output])"
   ]
  },
  {
   "cell_type": "markdown",
   "id": "swiss-painting",
   "metadata": {},
   "source": [
    "The code is self-explanatory. You should name the important layers when model get complex. Now to call `fit()` you need to pass it a pair of input matrices `(X_train_A, X_train_B)`, one for each. This is true for each `X_val`, `X_test`, and `X_new` when you call `evaluate()` or `predict()`.\n",
    "\n",
    "> Alternatively, you could pass a dictionary mapping the input names to the input matrices, like `{'wide_input': X_train_A, 'deep_input': X_train_B}`.\n",
    "\n"
   ]
  },
  {
   "cell_type": "code",
   "execution_count": 34,
   "id": "compound-warrior",
   "metadata": {
    "collapsed": true,
    "jupyter": {
     "outputs_hidden": true
    }
   },
   "outputs": [
    {
     "name": "stdout",
     "output_type": "stream",
     "text": [
      "Epoch 1/20\n",
      "363/363 [==============================] - 1s 1ms/step - loss: 3.3679 - val_loss: 0.9629\n",
      "Epoch 2/20\n",
      "363/363 [==============================] - 0s 1ms/step - loss: 0.8312 - val_loss: 0.7685\n",
      "Epoch 3/20\n",
      "363/363 [==============================] - 0s 1ms/step - loss: 0.7147 - val_loss: 0.7026\n",
      "Epoch 4/20\n",
      "363/363 [==============================] - 0s 1ms/step - loss: 0.6631 - val_loss: 0.6613\n",
      "Epoch 5/20\n",
      "363/363 [==============================] - 0s 1ms/step - loss: 0.5823 - val_loss: 0.6296\n",
      "Epoch 6/20\n",
      "363/363 [==============================] - 0s 1ms/step - loss: 0.5718 - val_loss: 0.6048\n",
      "Epoch 7/20\n",
      "363/363 [==============================] - 0s 1ms/step - loss: 0.5589 - val_loss: 0.5859\n",
      "Epoch 8/20\n",
      "363/363 [==============================] - 0s 1ms/step - loss: 0.5282 - val_loss: 0.5713\n",
      "Epoch 9/20\n",
      "363/363 [==============================] - 0s 1ms/step - loss: 0.5292 - val_loss: 0.5553\n",
      "Epoch 10/20\n",
      "363/363 [==============================] - 0s 1ms/step - loss: 0.5009 - val_loss: 0.5433\n",
      "Epoch 11/20\n",
      "363/363 [==============================] - 0s 1ms/step - loss: 0.4914 - val_loss: 0.5333\n",
      "Epoch 12/20\n",
      "363/363 [==============================] - 0s 1ms/step - loss: 0.4836 - val_loss: 0.5267\n",
      "Epoch 13/20\n",
      "363/363 [==============================] - 0s 1ms/step - loss: 0.4713 - val_loss: 0.5193\n",
      "Epoch 14/20\n",
      "363/363 [==============================] - 0s 1ms/step - loss: 0.4695 - val_loss: 0.5128\n",
      "Epoch 15/20\n",
      "363/363 [==============================] - 0s 1ms/step - loss: 0.4724 - val_loss: 0.5078\n",
      "Epoch 16/20\n",
      "363/363 [==============================] - 0s 1ms/step - loss: 0.4797 - val_loss: 0.5018\n",
      "Epoch 17/20\n",
      "363/363 [==============================] - 0s 1ms/step - loss: 0.4630 - val_loss: 0.4975\n",
      "Epoch 18/20\n",
      "363/363 [==============================] - 0s 1ms/step - loss: 0.4469 - val_loss: 0.4935\n",
      "Epoch 19/20\n",
      "363/363 [==============================] - 0s 1ms/step - loss: 0.4635 - val_loss: 0.4906\n",
      "Epoch 20/20\n",
      "363/363 [==============================] - 0s 1ms/step - loss: 0.4555 - val_loss: 0.4885\n",
      "162/162 [==============================] - 0s 824us/step - loss: 0.4660\n"
     ]
    },
    {
     "data": {
      "text/plain": [
       "array([[1.8227581],\n",
       "       [2.1859999],\n",
       "       [1.9973905]], dtype=float32)"
      ]
     },
     "execution_count": 34,
     "metadata": {},
     "output_type": "execute_result"
    }
   ],
   "source": [
    "model.compile(loss='mse', optimizer=keras.optimizers.SGD(lr=1e-3))\n",
    "\n",
    "X_train_A, X_train_B = X_train[:, :5], X_train[:, 2:]\n",
    "X_val_A, X_val_B = X_val[:, :5], X_val[:, 2:]\n",
    "X_test_A, X_test_B = X_test[:, :5], X_test[:, 2:]\n",
    "X_new_A, X_new_B = X_test_A[:3], X_test_B[:3]\n",
    "\n",
    "history = model.fit((X_train_A, X_train_B), y_train, epochs=20,\n",
    "                   validation_data=((X_val_A, X_val_B), y_val))\n",
    "mse_test = model.evaluate((X_test_A, X_test_B), y_test)\n",
    "y_pred = model.predict((X_new_A, X_new_B))\n",
    "y_pred"
   ]
  },
  {
   "cell_type": "markdown",
   "id": "heavy-button",
   "metadata": {},
   "source": [
    "There are many use cases when you may want multiple outputs:\n",
    "\n",
    "- For object detection, you may want to locate (regression) and classify (classification) an object in a picture.\n",
    "- If you have multiple independent tasks on the same data. Sure, you could train multiple neural networks for each task but training a single might get you better performance by learning across features. For example, you can perform *multitask classification*.\n",
    "- One use case is used as regularization technique by adding some auxiliary outputs in a neural network architecture to ensure that the underlying part of the networks learn something useful.\n",
    "\n",
    "Adding extra outputs is quite easy:"
   ]
  },
  {
   "cell_type": "code",
   "execution_count": 35,
   "id": "sweet-screen",
   "metadata": {},
   "outputs": [],
   "source": [
    "input_A = keras.layers.Input(shape=[5], name='wide_input')\n",
    "input_B = keras.layers.Input(shape=[6], name='deep_input')\n",
    "hidden1 = keras.layers.Dense(30, activation='relu')(input_B)\n",
    "hidden2 = keras.layers.Dense(30, activation='relu')(hidden1)\n",
    "concat = keras.layers.concatenate([input_A, hidden2])\n",
    "output = keras.layers.Dense(1, name='main_output')(concat)\n",
    "aux_output = keras.layers.Dense(1, name='aux_output')(hidden2)\n",
    "model = keras.Model(inputs=[input_A, input_B], outputs=[output, aux_output])"
   ]
  },
  {
   "cell_type": "markdown",
   "id": "limited-lobby",
   "metadata": {},
   "source": [
    "Each output will need its own loss function. Therefor, when we compile the model, we should pass a list of losses (or a dictionary mapping output names to losses). If we pass a single loss, Keras will assume same loss for all outputs. Keras will compute all these losses and add them up at last. Since, main outputs are more important than auxiliary ones, we can add weight to main output."
   ]
  },
  {
   "cell_type": "code",
   "execution_count": 36,
   "id": "controversial-twelve",
   "metadata": {},
   "outputs": [],
   "source": [
    "model.compile(loss=['mse', 'mse'], loss_weights=[0.9, 0.1], optimizer='sgd')"
   ]
  },
  {
   "cell_type": "markdown",
   "id": "moderate-found",
   "metadata": {},
   "source": [
    "Now when we train the model it should expect labels for each output. In this example the labels are same, so instead of passing `y_train`, we need to pass `(y_train, y_train)` (and same goes for `y_val` and `y_test`)."
   ]
  },
  {
   "cell_type": "code",
   "execution_count": 37,
   "id": "changed-brunei",
   "metadata": {
    "collapsed": true,
    "jupyter": {
     "outputs_hidden": true
    }
   },
   "outputs": [
    {
     "name": "stdout",
     "output_type": "stream",
     "text": [
      "Epoch 1/20\n",
      "363/363 [==============================] - 1s 2ms/step - loss: 1.5897 - main_output_loss: 1.4234 - aux_output_loss: 3.0855 - val_loss: 0.9425 - val_main_output_loss: 0.9056 - val_aux_output_loss: 1.2744\n",
      "Epoch 2/20\n",
      "363/363 [==============================] - 0s 1ms/step - loss: 0.6145 - main_output_loss: 0.5641 - aux_output_loss: 1.0685 - val_loss: 0.7008 - val_main_output_loss: 0.6720 - val_aux_output_loss: 0.9600\n",
      "Epoch 3/20\n",
      "363/363 [==============================] - 0s 1ms/step - loss: 0.5498 - main_output_loss: 0.5159 - aux_output_loss: 0.8550 - val_loss: 0.5325 - val_main_output_loss: 0.5011 - val_aux_output_loss: 0.8149\n",
      "Epoch 4/20\n",
      "363/363 [==============================] - 0s 1ms/step - loss: 0.4993 - main_output_loss: 0.4713 - aux_output_loss: 0.7507 - val_loss: 0.5094 - val_main_output_loss: 0.4838 - val_aux_output_loss: 0.7401\n",
      "Epoch 5/20\n",
      "363/363 [==============================] - 0s 1ms/step - loss: 0.4758 - main_output_loss: 0.4531 - aux_output_loss: 0.6803 - val_loss: 0.4750 - val_main_output_loss: 0.4522 - val_aux_output_loss: 0.6799\n",
      "Epoch 6/20\n",
      "363/363 [==============================] - 1s 1ms/step - loss: 0.4371 - main_output_loss: 0.4159 - aux_output_loss: 0.6278 - val_loss: 0.4819 - val_main_output_loss: 0.4632 - val_aux_output_loss: 0.6495\n",
      "Epoch 7/20\n",
      "363/363 [==============================] - 1s 1ms/step - loss: 0.4690 - main_output_loss: 0.4509 - aux_output_loss: 0.6318 - val_loss: 0.4929 - val_main_output_loss: 0.4673 - val_aux_output_loss: 0.7228\n",
      "Epoch 8/20\n",
      "363/363 [==============================] - 1s 1ms/step - loss: 0.4783 - main_output_loss: 0.4589 - aux_output_loss: 0.6535 - val_loss: 0.4596 - val_main_output_loss: 0.4407 - val_aux_output_loss: 0.6291\n",
      "Epoch 9/20\n",
      "363/363 [==============================] - 0s 1ms/step - loss: 0.4307 - main_output_loss: 0.4144 - aux_output_loss: 0.5776 - val_loss: 0.4471 - val_main_output_loss: 0.4302 - val_aux_output_loss: 0.5991\n",
      "Epoch 10/20\n",
      "363/363 [==============================] - 1s 1ms/step - loss: 0.4304 - main_output_loss: 0.4152 - aux_output_loss: 0.5678 - val_loss: 0.4348 - val_main_output_loss: 0.4192 - val_aux_output_loss: 0.5756\n",
      "Epoch 11/20\n",
      "363/363 [==============================] - 0s 1ms/step - loss: 0.3993 - main_output_loss: 0.3839 - aux_output_loss: 0.5380 - val_loss: 0.4450 - val_main_output_loss: 0.4301 - val_aux_output_loss: 0.5790\n",
      "Epoch 12/20\n",
      "363/363 [==============================] - 0s 1ms/step - loss: 0.3950 - main_output_loss: 0.3802 - aux_output_loss: 0.5280 - val_loss: 0.4259 - val_main_output_loss: 0.4112 - val_aux_output_loss: 0.5583\n",
      "Epoch 13/20\n",
      "363/363 [==============================] - 1s 1ms/step - loss: 0.3922 - main_output_loss: 0.3773 - aux_output_loss: 0.5266 - val_loss: 0.4373 - val_main_output_loss: 0.4235 - val_aux_output_loss: 0.5612\n",
      "Epoch 14/20\n",
      "363/363 [==============================] - 1s 1ms/step - loss: 0.3907 - main_output_loss: 0.3767 - aux_output_loss: 0.5168 - val_loss: 0.4234 - val_main_output_loss: 0.4099 - val_aux_output_loss: 0.5449\n",
      "Epoch 15/20\n",
      "363/363 [==============================] - 1s 1ms/step - loss: 0.3884 - main_output_loss: 0.3746 - aux_output_loss: 0.5126 - val_loss: 0.4229 - val_main_output_loss: 0.4101 - val_aux_output_loss: 0.5383\n",
      "Epoch 16/20\n",
      "363/363 [==============================] - 0s 1ms/step - loss: 0.3753 - main_output_loss: 0.3606 - aux_output_loss: 0.5080 - val_loss: 0.4317 - val_main_output_loss: 0.4193 - val_aux_output_loss: 0.5437\n",
      "Epoch 17/20\n",
      "363/363 [==============================] - 1s 2ms/step - loss: 0.3668 - main_output_loss: 0.3533 - aux_output_loss: 0.4883 - val_loss: 0.5238 - val_main_output_loss: 0.5188 - val_aux_output_loss: 0.5687\n",
      "Epoch 18/20\n",
      "363/363 [==============================] - 1s 1ms/step - loss: 0.6090 - main_output_loss: 0.6191 - aux_output_loss: 0.5179 - val_loss: 0.4064 - val_main_output_loss: 0.3939 - val_aux_output_loss: 0.5187\n",
      "Epoch 19/20\n",
      "363/363 [==============================] - 1s 1ms/step - loss: 0.3988 - main_output_loss: 0.3878 - aux_output_loss: 0.4979 - val_loss: 0.4035 - val_main_output_loss: 0.3912 - val_aux_output_loss: 0.5140\n",
      "Epoch 20/20\n",
      "363/363 [==============================] - 1s 1ms/step - loss: 0.3713 - main_output_loss: 0.3576 - aux_output_loss: 0.4950 - val_loss: 0.4053 - val_main_output_loss: 0.3930 - val_aux_output_loss: 0.5155\n"
     ]
    }
   ],
   "source": [
    "history = model.fit([X_train_A, X_train_B], [y_train, y_train], epochs=20,\n",
    "                   validation_data=([X_val_A, X_val_B], [y_val, y_val]))"
   ]
  },
  {
   "cell_type": "markdown",
   "id": "underlying-endorsement",
   "metadata": {},
   "source": [
    "When we evaluate the model, Keras will return total loss, as well as all the individual losses. Similarly, `predict()` will return predictions for each output.\n",
    "\n"
   ]
  },
  {
   "cell_type": "code",
   "execution_count": 38,
   "id": "pointed-legislature",
   "metadata": {},
   "outputs": [
    {
     "name": "stdout",
     "output_type": "stream",
     "text": [
      "162/162 [==============================] - 0s 973us/step - loss: 0.3699 - main_output_loss: 0.3597 - aux_output_loss: 0.4626\n"
     ]
    },
    {
     "data": {
      "text/plain": [
       "(array([[1.7583452],\n",
       "        [2.434911 ],\n",
       "        [1.4337739]], dtype=float32),\n",
       " array([[1.8176169],\n",
       "        [2.5233927],\n",
       "        [1.1671491]], dtype=float32))"
      ]
     },
     "execution_count": 38,
     "metadata": {},
     "output_type": "execute_result"
    }
   ],
   "source": [
    "total_loss, main_loss, aux_loss = model.evaluate(\n",
    "    [X_test_A, X_test_B], [y_test, y_test]\n",
    ")\n",
    "\n",
    "y_pred_main, y_pred_aux = model.predict([X_new_A, X_new_B])\n",
    "y_pred_main, y_pred_aux"
   ]
  },
  {
   "cell_type": "markdown",
   "id": "caring-louis",
   "metadata": {},
   "source": [
    "### Using the Subclassing API to Build Dynamic Models\n",
    "\n",
    "Both Sequential API and Functional API are declarative: you start by declaring layers and how should they connect to each other. But they are static; you cannot involve loops, varying shapes, conditional branching, and other dynamic behaviors. For this you'll use Subclassing API.\n",
    "\n",
    "Simply subclass the `Model` class, create the layers you need in the constructor, and use them to perform the computations you want in the `call()` method."
   ]
  },
  {
   "cell_type": "code",
   "execution_count": 39,
   "id": "minor-pointer",
   "metadata": {},
   "outputs": [],
   "source": [
    "class WideAndDeepModel(keras.Model):\n",
    "    def __init__(self, units=30, activation='relu', **kwargs):\n",
    "        super().__init__(**kwargs)\n",
    "        self.hidden1 = keras.layers.Dense(units, activation=activation)\n",
    "        self.hidden2 = keras.layers.Dense(units, activation=activation)\n",
    "        self.main_output = keras.layers.Dense(1)\n",
    "        self.aux_output = keras.layers.Dense(1)\n",
    "    \n",
    "    def call(self, inputs):\n",
    "        input_A, input_B = inputs\n",
    "        hidden1 = self.hidden1(input_B)\n",
    "        hidden2 = self.hidden2(hidden1)\n",
    "        concat = keras.layers.concatenate([input_A, hidden2])\n",
    "        main_output = self.main_output(concat)\n",
    "        aux_output = self.aux_output(hidden2)\n",
    "        return main_output, aux_output\n",
    "\n",
    "model = WideAndDeepModel()"
   ]
  },
  {
   "cell_type": "markdown",
   "id": "complete-nightmare",
   "metadata": {},
   "source": [
    "The main difference here is you can do anything in `call()` method: for loops, if else, low-level TensorFlow operations. This makes it a great API for researchers experimenting with new ideas.\n",
    "\n",
    "> Keras models have an `output` attribute, that's why we use `main_output` name.\n",
    "\n",
    "This extra flexibility comes with a cost: your model's architecture is hidden within `call()` method, so Keras cannot easily inspect it; it cannot save it or clone it; and when you call `summary()` method it only give list of layers not how they are connected.\n",
    "\n",
    "### Saving and Restoring a Model\n",
    "\n",
    "Saving trained models made by Sequential API or Functional API is as simple as this:"
   ]
  },
  {
   "cell_type": "code",
   "execution_count": 40,
   "id": "welcome-progressive",
   "metadata": {
    "collapsed": true,
    "jupyter": {
     "outputs_hidden": true
    }
   },
   "outputs": [
    {
     "name": "stdout",
     "output_type": "stream",
     "text": [
      "Epoch 1/20\n",
      "363/363 [==============================] - 1s 2ms/step - loss: 1.4075 - main_output_loss: 1.2423 - aux_output_loss: 2.8943 - val_loss: 0.8346 - val_main_output_loss: 0.7835 - val_aux_output_loss: 1.2940\n",
      "Epoch 2/20\n",
      "363/363 [==============================] - 1s 1ms/step - loss: 0.5991 - main_output_loss: 0.5384 - aux_output_loss: 1.1451 - val_loss: 0.5930 - val_main_output_loss: 0.5425 - val_aux_output_loss: 1.0478\n",
      "Epoch 3/20\n",
      "363/363 [==============================] - 1s 1ms/step - loss: 0.5140 - main_output_loss: 0.4667 - aux_output_loss: 0.9396 - val_loss: 0.6174 - val_main_output_loss: 0.5874 - val_aux_output_loss: 0.8868\n",
      "Epoch 4/20\n",
      "363/363 [==============================] - 1s 2ms/step - loss: 0.4906 - main_output_loss: 0.4559 - aux_output_loss: 0.8034 - val_loss: 0.5336 - val_main_output_loss: 0.5033 - val_aux_output_loss: 0.8060\n",
      "Epoch 5/20\n",
      "363/363 [==============================] - 1s 1ms/step - loss: 0.4655 - main_output_loss: 0.4330 - aux_output_loss: 0.7585 - val_loss: 0.5127 - val_main_output_loss: 0.4867 - val_aux_output_loss: 0.7467\n",
      "Epoch 6/20\n",
      "363/363 [==============================] - 1s 2ms/step - loss: 0.4517 - main_output_loss: 0.4248 - aux_output_loss: 0.6944 - val_loss: 0.5123 - val_main_output_loss: 0.4897 - val_aux_output_loss: 0.7149\n",
      "Epoch 7/20\n",
      "363/363 [==============================] - 1s 2ms/step - loss: 0.4601 - main_output_loss: 0.4355 - aux_output_loss: 0.6816 - val_loss: 0.4764 - val_main_output_loss: 0.4530 - val_aux_output_loss: 0.6877\n",
      "Epoch 8/20\n",
      "363/363 [==============================] - 1s 1ms/step - loss: 0.4240 - main_output_loss: 0.3997 - aux_output_loss: 0.6428 - val_loss: 0.4943 - val_main_output_loss: 0.4747 - val_aux_output_loss: 0.6709\n",
      "Epoch 9/20\n",
      "363/363 [==============================] - 1s 1ms/step - loss: 0.4190 - main_output_loss: 0.3956 - aux_output_loss: 0.6299 - val_loss: 0.5059 - val_main_output_loss: 0.4897 - val_aux_output_loss: 0.6517\n",
      "Epoch 10/20\n",
      "363/363 [==============================] - 1s 1ms/step - loss: 0.4348 - main_output_loss: 0.4137 - aux_output_loss: 0.6251 - val_loss: 0.5068 - val_main_output_loss: 0.4920 - val_aux_output_loss: 0.6397\n",
      "Epoch 11/20\n",
      "363/363 [==============================] - 1s 1ms/step - loss: 0.4308 - main_output_loss: 0.4083 - aux_output_loss: 0.6328 - val_loss: 0.4566 - val_main_output_loss: 0.4375 - val_aux_output_loss: 0.6293\n",
      "Epoch 12/20\n",
      "363/363 [==============================] - 1s 1ms/step - loss: 0.4143 - main_output_loss: 0.3940 - aux_output_loss: 0.5969 - val_loss: 0.4812 - val_main_output_loss: 0.4662 - val_aux_output_loss: 0.6161\n",
      "Epoch 13/20\n",
      "363/363 [==============================] - 1s 2ms/step - loss: 0.4381 - main_output_loss: 0.4205 - aux_output_loss: 0.5960 - val_loss: 0.4483 - val_main_output_loss: 0.4305 - val_aux_output_loss: 0.6084\n",
      "Epoch 14/20\n",
      "363/363 [==============================] - 1s 2ms/step - loss: 0.4046 - main_output_loss: 0.3854 - aux_output_loss: 0.5776 - val_loss: 0.4635 - val_main_output_loss: 0.4484 - val_aux_output_loss: 0.5998\n",
      "Epoch 15/20\n",
      "363/363 [==============================] - 1s 1ms/step - loss: 0.3916 - main_output_loss: 0.3725 - aux_output_loss: 0.5636 - val_loss: 0.4849 - val_main_output_loss: 0.4728 - val_aux_output_loss: 0.5930\n",
      "Epoch 16/20\n",
      "363/363 [==============================] - 1s 1ms/step - loss: 0.3930 - main_output_loss: 0.3752 - aux_output_loss: 0.5524 - val_loss: 0.4446 - val_main_output_loss: 0.4282 - val_aux_output_loss: 0.5922\n",
      "Epoch 17/20\n",
      "363/363 [==============================] - 1s 2ms/step - loss: 0.3972 - main_output_loss: 0.3784 - aux_output_loss: 0.5661 - val_loss: 0.4476 - val_main_output_loss: 0.4326 - val_aux_output_loss: 0.5826\n",
      "Epoch 18/20\n",
      "363/363 [==============================] - 1s 2ms/step - loss: 0.3876 - main_output_loss: 0.3684 - aux_output_loss: 0.5601 - val_loss: 0.4307 - val_main_output_loss: 0.4142 - val_aux_output_loss: 0.5786\n",
      "Epoch 19/20\n",
      "363/363 [==============================] - 1s 2ms/step - loss: 0.3859 - main_output_loss: 0.3685 - aux_output_loss: 0.5424 - val_loss: 0.4344 - val_main_output_loss: 0.4199 - val_aux_output_loss: 0.5650\n",
      "Epoch 20/20\n",
      "363/363 [==============================] - 1s 2ms/step - loss: 0.3773 - main_output_loss: 0.3602 - aux_output_loss: 0.5306 - val_loss: 0.4318 - val_main_output_loss: 0.4180 - val_aux_output_loss: 0.5560\n"
     ]
    }
   ],
   "source": [
    "input_A = keras.layers.Input(shape=[5], name='wide_input')\n",
    "input_B = keras.layers.Input(shape=[6], name='deep_input')\n",
    "hidden1 = keras.layers.Dense(30, activation='relu')(input_B)\n",
    "hidden2 = keras.layers.Dense(30, activation='relu')(hidden1)\n",
    "concat = keras.layers.concatenate([input_A, hidden2])\n",
    "output = keras.layers.Dense(1, name='main_output')(concat)\n",
    "aux_output = keras.layers.Dense(1, name='aux_output')(hidden2)\n",
    "model = keras.Model(inputs=[input_A, input_B], outputs=[output, aux_output])\n",
    "\n",
    "model.compile(loss=['mse', 'mse'], loss_weights=[0.9, 0.1], optimizer='sgd')\n",
    "\n",
    "history = model.fit([X_train_A, X_train_B], [y_train, y_train], epochs=20,\n",
    "                   validation_data=([X_val_A, X_val_B], [y_val, y_val]))\n",
    "\n",
    "model.save('my_keras_model.h5')"
   ]
  },
  {
   "cell_type": "markdown",
   "id": "played-indiana",
   "metadata": {},
   "source": [
    "Keras will use `HDF5` format to save both model's architecture (including every layer's hyperparameters) and the values of all the parameters for every layer. It also saves the optimizer.\n",
    "\n",
    "And loading the model is just as easy:"
   ]
  },
  {
   "cell_type": "code",
   "execution_count": 41,
   "id": "literary-dispatch",
   "metadata": {},
   "outputs": [],
   "source": [
    "model = keras.models.load_model('my_keras_model.h5')"
   ]
  },
  {
   "cell_type": "markdown",
   "id": "assured-sponsorship",
   "metadata": {},
   "source": [
    "> If you use Subclassing API, then you can save model's parameters by `save_weights()` and load them by `load_weights()`. But you have to save everything else by yourself as a Dictionary maybe.\n",
    "\n",
    "But what if your training lasts several hours? Then you should save checkpoints for every epoch, in case you system crashes this will save everything your model learned so far. This can be done using callbacks.\n",
    "\n",
    "### Using Callbacks\n",
    "\n",
    "The `fit()` method accepts a `callbacks` argument that lets you specify when to save model. For example, `ModelCheckpoint` callback saves checkpoint at regular intervals (by default after each epoch):"
   ]
  },
  {
   "cell_type": "code",
   "execution_count": 42,
   "id": "worse-mitchell",
   "metadata": {
    "collapsed": true,
    "jupyter": {
     "outputs_hidden": true
    }
   },
   "outputs": [
    {
     "name": "stdout",
     "output_type": "stream",
     "text": [
      "Epoch 1/20\n",
      "363/363 [==============================] - 1s 2ms/step - loss: 2.0914 - main_output_loss: 2.0098 - aux_output_loss: 2.8255 - val_loss: 0.6607 - val_main_output_loss: 0.5891 - val_aux_output_loss: 1.3050\n",
      "Epoch 2/20\n",
      "363/363 [==============================] - 1s 1ms/step - loss: 0.5833 - main_output_loss: 0.5162 - aux_output_loss: 1.1869 - val_loss: 0.5707 - val_main_output_loss: 0.5155 - val_aux_output_loss: 1.0675\n",
      "Epoch 3/20\n",
      "363/363 [==============================] - 1s 1ms/step - loss: 0.4885 - main_output_loss: 0.4361 - aux_output_loss: 0.9601 - val_loss: 0.5225 - val_main_output_loss: 0.4783 - val_aux_output_loss: 0.9201\n",
      "Epoch 4/20\n",
      "363/363 [==============================] - 1s 1ms/step - loss: 0.4763 - main_output_loss: 0.4355 - aux_output_loss: 0.8433 - val_loss: 0.5016 - val_main_output_loss: 0.4659 - val_aux_output_loss: 0.8232\n",
      "Epoch 5/20\n",
      "363/363 [==============================] - 1s 2ms/step - loss: 0.4531 - main_output_loss: 0.4197 - aux_output_loss: 0.7533 - val_loss: 0.4855 - val_main_output_loss: 0.4548 - val_aux_output_loss: 0.7616\n",
      "Epoch 6/20\n",
      "363/363 [==============================] - 1s 2ms/step - loss: 0.4444 - main_output_loss: 0.4139 - aux_output_loss: 0.7193 - val_loss: 0.4711 - val_main_output_loss: 0.4444 - val_aux_output_loss: 0.7108\n",
      "Epoch 7/20\n",
      "363/363 [==============================] - 1s 1ms/step - loss: 0.4304 - main_output_loss: 0.4033 - aux_output_loss: 0.6739 - val_loss: 0.4654 - val_main_output_loss: 0.4419 - val_aux_output_loss: 0.6769\n",
      "Epoch 8/20\n",
      "363/363 [==============================] - 1s 1ms/step - loss: 0.4263 - main_output_loss: 0.4022 - aux_output_loss: 0.6435 - val_loss: 0.4577 - val_main_output_loss: 0.4366 - val_aux_output_loss: 0.6476\n",
      "Epoch 9/20\n",
      "363/363 [==============================] - 1s 2ms/step - loss: 0.4110 - main_output_loss: 0.3886 - aux_output_loss: 0.6128 - val_loss: 0.4523 - val_main_output_loss: 0.4336 - val_aux_output_loss: 0.6200\n",
      "Epoch 10/20\n",
      "363/363 [==============================] - 1s 2ms/step - loss: 0.4039 - main_output_loss: 0.3828 - aux_output_loss: 0.5935 - val_loss: 0.4453 - val_main_output_loss: 0.4275 - val_aux_output_loss: 0.6061\n",
      "Epoch 11/20\n",
      "363/363 [==============================] - 1s 2ms/step - loss: 0.3978 - main_output_loss: 0.3782 - aux_output_loss: 0.5743 - val_loss: 0.4323 - val_main_output_loss: 0.4156 - val_aux_output_loss: 0.5823\n",
      "Epoch 12/20\n",
      "363/363 [==============================] - 1s 2ms/step - loss: 0.4019 - main_output_loss: 0.3843 - aux_output_loss: 0.5607 - val_loss: 0.4229 - val_main_output_loss: 0.4077 - val_aux_output_loss: 0.5596\n",
      "Epoch 13/20\n",
      "363/363 [==============================] - 1s 1ms/step - loss: 0.3735 - main_output_loss: 0.3570 - aux_output_loss: 0.5216 - val_loss: 0.4162 - val_main_output_loss: 0.4014 - val_aux_output_loss: 0.5500\n",
      "Epoch 14/20\n",
      "363/363 [==============================] - 1s 2ms/step - loss: 0.3750 - main_output_loss: 0.3587 - aux_output_loss: 0.5220 - val_loss: 0.4127 - val_main_output_loss: 0.3990 - val_aux_output_loss: 0.5361\n",
      "Epoch 15/20\n",
      "363/363 [==============================] - 1s 2ms/step - loss: 0.4077 - main_output_loss: 0.3946 - aux_output_loss: 0.5255 - val_loss: 0.4084 - val_main_output_loss: 0.3956 - val_aux_output_loss: 0.5233\n",
      "Epoch 16/20\n",
      "363/363 [==============================] - 1s 2ms/step - loss: 0.3672 - main_output_loss: 0.3536 - aux_output_loss: 0.4895 - val_loss: 0.4051 - val_main_output_loss: 0.3926 - val_aux_output_loss: 0.5174\n",
      "Epoch 17/20\n",
      "363/363 [==============================] - 1s 2ms/step - loss: 0.3800 - main_output_loss: 0.3652 - aux_output_loss: 0.5125 - val_loss: 0.4002 - val_main_output_loss: 0.3886 - val_aux_output_loss: 0.5046\n",
      "Epoch 18/20\n",
      "363/363 [==============================] - 1s 2ms/step - loss: 0.3722 - main_output_loss: 0.3582 - aux_output_loss: 0.4982 - val_loss: 0.3992 - val_main_output_loss: 0.3882 - val_aux_output_loss: 0.4982\n",
      "Epoch 19/20\n",
      "363/363 [==============================] - 1s 1ms/step - loss: 0.3507 - main_output_loss: 0.3384 - aux_output_loss: 0.4614 - val_loss: 0.3967 - val_main_output_loss: 0.3856 - val_aux_output_loss: 0.4969\n",
      "Epoch 20/20\n",
      "363/363 [==============================] - 1s 2ms/step - loss: 0.3561 - main_output_loss: 0.3430 - aux_output_loss: 0.4739 - val_loss: 0.3899 - val_main_output_loss: 0.3785 - val_aux_output_loss: 0.4923\n"
     ]
    }
   ],
   "source": [
    "input_A = keras.layers.Input(shape=[5], name='wide_input')\n",
    "input_B = keras.layers.Input(shape=[6], name='deep_input')\n",
    "hidden1 = keras.layers.Dense(30, activation='relu')(input_B)\n",
    "hidden2 = keras.layers.Dense(30, activation='relu')(hidden1)\n",
    "concat = keras.layers.concatenate([input_A, hidden2])\n",
    "output = keras.layers.Dense(1, name='main_output')(concat)\n",
    "aux_output = keras.layers.Dense(1, name='aux_output')(hidden2)\n",
    "model = keras.Model(inputs=[input_A, input_B], outputs=[output, aux_output])\n",
    "\n",
    "model.compile(loss=['mse', 'mse'], loss_weights=[0.9, 0.1], optimizer='sgd')\n",
    "\n",
    "checkpoint_cb = keras.callbacks.ModelCheckpoint('my_keras_model.h5', save_best_only=True)\n",
    "history = model.fit([X_train_A, X_train_B], [y_train, y_train], epochs=20,\n",
    "                   validation_data=([X_val_A, X_val_B], [y_val, y_val]),\n",
    "                   callbacks=[checkpoint_cb])\n",
    "\n",
    "model = keras.models.load_model('my_keras_model.h5')"
   ]
  },
  {
   "cell_type": "markdown",
   "id": "existing-punishment",
   "metadata": {},
   "source": [
    "If you use validation data then set `save_best_only=True` will save only best performance one so far. This will be best on validation set.\n",
    "\n",
    "Another way is use the `EarlyStopping` callback: it will interrupt training when there is no progress on the validation set for a number of epochs (defined by `patience` argument), and it will optionally roll back to the best model. You can combine both; this will useful in both ways if you computer crashes or stop early when there is no progress."
   ]
  },
  {
   "cell_type": "code",
   "execution_count": 43,
   "id": "injured-condition",
   "metadata": {
    "collapsed": true,
    "jupyter": {
     "outputs_hidden": true
    }
   },
   "outputs": [
    {
     "name": "stdout",
     "output_type": "stream",
     "text": [
      "Epoch 1/100\n",
      "363/363 [==============================] - 1s 2ms/step - loss: 0.3556 - main_output_loss: 0.3432 - aux_output_loss: 0.4669 - val_loss: 0.3939 - val_main_output_loss: 0.3832 - val_aux_output_loss: 0.4903\n",
      "Epoch 2/100\n",
      "363/363 [==============================] - 1s 1ms/step - loss: 0.3546 - main_output_loss: 0.3427 - aux_output_loss: 0.4620 - val_loss: 0.3862 - val_main_output_loss: 0.3757 - val_aux_output_loss: 0.4809\n",
      "Epoch 3/100\n",
      "363/363 [==============================] - 1s 1ms/step - loss: 0.3524 - main_output_loss: 0.3407 - aux_output_loss: 0.4574 - val_loss: 0.3892 - val_main_output_loss: 0.3786 - val_aux_output_loss: 0.4843\n",
      "Epoch 4/100\n",
      "363/363 [==============================] - 1s 1ms/step - loss: 0.3518 - main_output_loss: 0.3407 - aux_output_loss: 0.4515 - val_loss: 0.4314 - val_main_output_loss: 0.4259 - val_aux_output_loss: 0.4810\n",
      "Epoch 5/100\n",
      "363/363 [==============================] - 1s 1ms/step - loss: 0.3548 - main_output_loss: 0.3441 - aux_output_loss: 0.4508 - val_loss: 0.3811 - val_main_output_loss: 0.3708 - val_aux_output_loss: 0.4732\n",
      "Epoch 6/100\n",
      "363/363 [==============================] - 1s 1ms/step - loss: 0.3474 - main_output_loss: 0.3364 - aux_output_loss: 0.4462 - val_loss: 0.3930 - val_main_output_loss: 0.3833 - val_aux_output_loss: 0.4802\n",
      "Epoch 7/100\n",
      "363/363 [==============================] - 1s 1ms/step - loss: 0.3464 - main_output_loss: 0.3356 - aux_output_loss: 0.4443 - val_loss: 0.3800 - val_main_output_loss: 0.3710 - val_aux_output_loss: 0.4605\n",
      "Epoch 8/100\n",
      "363/363 [==============================] - 1s 1ms/step - loss: 0.3451 - main_output_loss: 0.3344 - aux_output_loss: 0.4418 - val_loss: 0.3726 - val_main_output_loss: 0.3630 - val_aux_output_loss: 0.4583\n",
      "Epoch 9/100\n",
      "363/363 [==============================] - 1s 1ms/step - loss: 0.3417 - main_output_loss: 0.3313 - aux_output_loss: 0.4348 - val_loss: 0.3807 - val_main_output_loss: 0.3721 - val_aux_output_loss: 0.4584\n",
      "Epoch 10/100\n",
      "363/363 [==============================] - 1s 1ms/step - loss: 0.3400 - main_output_loss: 0.3294 - aux_output_loss: 0.4355 - val_loss: 0.3737 - val_main_output_loss: 0.3648 - val_aux_output_loss: 0.4543\n",
      "Epoch 11/100\n",
      "363/363 [==============================] - 1s 2ms/step - loss: 0.3418 - main_output_loss: 0.3314 - aux_output_loss: 0.4349 - val_loss: 0.3742 - val_main_output_loss: 0.3659 - val_aux_output_loss: 0.4491\n",
      "Epoch 12/100\n",
      "363/363 [==============================] - 1s 1ms/step - loss: 0.3388 - main_output_loss: 0.3287 - aux_output_loss: 0.4293 - val_loss: 0.3881 - val_main_output_loss: 0.3799 - val_aux_output_loss: 0.4623\n",
      "Epoch 13/100\n",
      "363/363 [==============================] - 1s 1ms/step - loss: 0.3368 - main_output_loss: 0.3269 - aux_output_loss: 0.4252 - val_loss: 0.3696 - val_main_output_loss: 0.3618 - val_aux_output_loss: 0.4405\n",
      "Epoch 14/100\n",
      "363/363 [==============================] - 1s 2ms/step - loss: 0.3374 - main_output_loss: 0.3277 - aux_output_loss: 0.4246 - val_loss: 0.3683 - val_main_output_loss: 0.3598 - val_aux_output_loss: 0.4441\n",
      "Epoch 15/100\n",
      "363/363 [==============================] - 1s 2ms/step - loss: 0.3337 - main_output_loss: 0.3239 - aux_output_loss: 0.4220 - val_loss: 0.3689 - val_main_output_loss: 0.3609 - val_aux_output_loss: 0.4406\n",
      "Epoch 16/100\n",
      "363/363 [==============================] - 1s 2ms/step - loss: 0.3331 - main_output_loss: 0.3236 - aux_output_loss: 0.4189 - val_loss: 0.3937 - val_main_output_loss: 0.3851 - val_aux_output_loss: 0.4711\n",
      "Epoch 17/100\n",
      "363/363 [==============================] - 1s 1ms/step - loss: 0.3324 - main_output_loss: 0.3230 - aux_output_loss: 0.4178 - val_loss: 0.3659 - val_main_output_loss: 0.3577 - val_aux_output_loss: 0.4394\n",
      "Epoch 18/100\n",
      "363/363 [==============================] - 1s 1ms/step - loss: 0.3322 - main_output_loss: 0.3227 - aux_output_loss: 0.4170 - val_loss: 0.3629 - val_main_output_loss: 0.3549 - val_aux_output_loss: 0.4350\n",
      "Epoch 19/100\n",
      "363/363 [==============================] - 1s 2ms/step - loss: 0.3307 - main_output_loss: 0.3216 - aux_output_loss: 0.4132 - val_loss: 0.3599 - val_main_output_loss: 0.3516 - val_aux_output_loss: 0.4339\n",
      "Epoch 20/100\n",
      "363/363 [==============================] - 1s 2ms/step - loss: 0.3301 - main_output_loss: 0.3210 - aux_output_loss: 0.4122 - val_loss: 0.3676 - val_main_output_loss: 0.3596 - val_aux_output_loss: 0.4397\n",
      "Epoch 21/100\n",
      "363/363 [==============================] - 1s 2ms/step - loss: 0.3292 - main_output_loss: 0.3203 - aux_output_loss: 0.4099 - val_loss: 0.3678 - val_main_output_loss: 0.3601 - val_aux_output_loss: 0.4367\n",
      "Epoch 22/100\n",
      "363/363 [==============================] - 1s 2ms/step - loss: 0.3280 - main_output_loss: 0.3190 - aux_output_loss: 0.4093 - val_loss: 0.3650 - val_main_output_loss: 0.3582 - val_aux_output_loss: 0.4263\n",
      "Epoch 23/100\n",
      "363/363 [==============================] - 1s 1ms/step - loss: 0.3268 - main_output_loss: 0.3179 - aux_output_loss: 0.4067 - val_loss: 0.3601 - val_main_output_loss: 0.3527 - val_aux_output_loss: 0.4264\n",
      "Epoch 24/100\n",
      "363/363 [==============================] - 1s 2ms/step - loss: 0.3281 - main_output_loss: 0.3194 - aux_output_loss: 0.4068 - val_loss: 0.3659 - val_main_output_loss: 0.3585 - val_aux_output_loss: 0.4323\n",
      "Epoch 25/100\n",
      "363/363 [==============================] - 1s 2ms/step - loss: 0.3264 - main_output_loss: 0.3176 - aux_output_loss: 0.4055 - val_loss: 0.3567 - val_main_output_loss: 0.3491 - val_aux_output_loss: 0.4256\n",
      "Epoch 26/100\n",
      "363/363 [==============================] - 1s 2ms/step - loss: 0.3249 - main_output_loss: 0.3162 - aux_output_loss: 0.4036 - val_loss: 0.3599 - val_main_output_loss: 0.3526 - val_aux_output_loss: 0.4259\n",
      "Epoch 27/100\n",
      "363/363 [==============================] - 1s 2ms/step - loss: 0.3254 - main_output_loss: 0.3168 - aux_output_loss: 0.4027 - val_loss: 0.3667 - val_main_output_loss: 0.3599 - val_aux_output_loss: 0.4279\n",
      "Epoch 28/100\n",
      "363/363 [==============================] - 1s 2ms/step - loss: 0.3243 - main_output_loss: 0.3156 - aux_output_loss: 0.4023 - val_loss: 0.3550 - val_main_output_loss: 0.3475 - val_aux_output_loss: 0.4229\n",
      "Epoch 29/100\n",
      "363/363 [==============================] - 1s 2ms/step - loss: 0.3218 - main_output_loss: 0.3132 - aux_output_loss: 0.3992 - val_loss: 0.3599 - val_main_output_loss: 0.3527 - val_aux_output_loss: 0.4245\n",
      "Epoch 30/100\n",
      "363/363 [==============================] - 1s 1ms/step - loss: 0.3216 - main_output_loss: 0.3130 - aux_output_loss: 0.3995 - val_loss: 0.3621 - val_main_output_loss: 0.3559 - val_aux_output_loss: 0.4181\n",
      "Epoch 31/100\n",
      "363/363 [==============================] - 1s 2ms/step - loss: 0.3232 - main_output_loss: 0.3150 - aux_output_loss: 0.3975 - val_loss: 0.3635 - val_main_output_loss: 0.3564 - val_aux_output_loss: 0.4269\n",
      "Epoch 32/100\n",
      "363/363 [==============================] - 1s 1ms/step - loss: 0.3224 - main_output_loss: 0.3141 - aux_output_loss: 0.3972 - val_loss: 0.3542 - val_main_output_loss: 0.3466 - val_aux_output_loss: 0.4221\n",
      "Epoch 33/100\n",
      "363/363 [==============================] - 1s 2ms/step - loss: 0.3217 - main_output_loss: 0.3134 - aux_output_loss: 0.3969 - val_loss: 0.3544 - val_main_output_loss: 0.3472 - val_aux_output_loss: 0.4193\n",
      "Epoch 34/100\n",
      "363/363 [==============================] - 1s 1ms/step - loss: 0.3211 - main_output_loss: 0.3129 - aux_output_loss: 0.3953 - val_loss: 0.3505 - val_main_output_loss: 0.3436 - val_aux_output_loss: 0.4130\n",
      "Epoch 35/100\n",
      "363/363 [==============================] - 1s 1ms/step - loss: 0.3209 - main_output_loss: 0.3125 - aux_output_loss: 0.3959 - val_loss: 0.3693 - val_main_output_loss: 0.3621 - val_aux_output_loss: 0.4337\n",
      "Epoch 36/100\n",
      "363/363 [==============================] - 1s 2ms/step - loss: 0.3195 - main_output_loss: 0.3113 - aux_output_loss: 0.3940 - val_loss: 0.3533 - val_main_output_loss: 0.3466 - val_aux_output_loss: 0.4136\n",
      "Epoch 37/100\n",
      "363/363 [==============================] - 1s 2ms/step - loss: 0.3194 - main_output_loss: 0.3112 - aux_output_loss: 0.3931 - val_loss: 0.3511 - val_main_output_loss: 0.3436 - val_aux_output_loss: 0.4179\n",
      "Epoch 38/100\n",
      "363/363 [==============================] - 1s 2ms/step - loss: 0.3200 - main_output_loss: 0.3120 - aux_output_loss: 0.3925 - val_loss: 0.3606 - val_main_output_loss: 0.3534 - val_aux_output_loss: 0.4249\n",
      "Epoch 39/100\n",
      "363/363 [==============================] - 1s 1ms/step - loss: 0.3183 - main_output_loss: 0.3103 - aux_output_loss: 0.3904 - val_loss: 0.3540 - val_main_output_loss: 0.3472 - val_aux_output_loss: 0.4149\n",
      "Epoch 40/100\n",
      "363/363 [==============================] - 1s 2ms/step - loss: 0.3181 - main_output_loss: 0.3101 - aux_output_loss: 0.3895 - val_loss: 0.3510 - val_main_output_loss: 0.3442 - val_aux_output_loss: 0.4116\n",
      "Epoch 41/100\n",
      "363/363 [==============================] - 1s 2ms/step - loss: 0.3178 - main_output_loss: 0.3098 - aux_output_loss: 0.3896 - val_loss: 0.3604 - val_main_output_loss: 0.3541 - val_aux_output_loss: 0.4179\n",
      "Epoch 42/100\n",
      "363/363 [==============================] - 1s 2ms/step - loss: 0.3154 - main_output_loss: 0.3075 - aux_output_loss: 0.3862 - val_loss: 0.3550 - val_main_output_loss: 0.3485 - val_aux_output_loss: 0.4134\n",
      "Epoch 43/100\n",
      "363/363 [==============================] - 1s 2ms/step - loss: 0.3180 - main_output_loss: 0.3102 - aux_output_loss: 0.3882 - val_loss: 0.3466 - val_main_output_loss: 0.3403 - val_aux_output_loss: 0.4036\n",
      "Epoch 44/100\n",
      "363/363 [==============================] - 1s 2ms/step - loss: 0.3156 - main_output_loss: 0.3075 - aux_output_loss: 0.3880 - val_loss: 0.3433 - val_main_output_loss: 0.3369 - val_aux_output_loss: 0.4010\n",
      "Epoch 45/100\n",
      "363/363 [==============================] - 1s 2ms/step - loss: 0.3172 - main_output_loss: 0.3094 - aux_output_loss: 0.3871 - val_loss: 0.3455 - val_main_output_loss: 0.3390 - val_aux_output_loss: 0.4040\n",
      "Epoch 46/100\n",
      "363/363 [==============================] - 1s 2ms/step - loss: 0.3157 - main_output_loss: 0.3080 - aux_output_loss: 0.3850 - val_loss: 0.3478 - val_main_output_loss: 0.3411 - val_aux_output_loss: 0.4077\n",
      "Epoch 47/100\n",
      "363/363 [==============================] - 1s 2ms/step - loss: 0.3149 - main_output_loss: 0.3072 - aux_output_loss: 0.3834 - val_loss: 0.3473 - val_main_output_loss: 0.3410 - val_aux_output_loss: 0.4036\n",
      "Epoch 48/100\n",
      "363/363 [==============================] - 1s 2ms/step - loss: 0.3154 - main_output_loss: 0.3077 - aux_output_loss: 0.3841 - val_loss: 0.3421 - val_main_output_loss: 0.3355 - val_aux_output_loss: 0.4011\n",
      "Epoch 49/100\n",
      "363/363 [==============================] - 1s 2ms/step - loss: 0.3147 - main_output_loss: 0.3070 - aux_output_loss: 0.3839 - val_loss: 0.3506 - val_main_output_loss: 0.3442 - val_aux_output_loss: 0.4079\n",
      "Epoch 50/100\n",
      "363/363 [==============================] - 1s 2ms/step - loss: 0.3145 - main_output_loss: 0.3070 - aux_output_loss: 0.3821 - val_loss: 0.3634 - val_main_output_loss: 0.3575 - val_aux_output_loss: 0.4166\n",
      "Epoch 51/100\n",
      "363/363 [==============================] - 1s 2ms/step - loss: 0.3136 - main_output_loss: 0.3060 - aux_output_loss: 0.3820 - val_loss: 0.3476 - val_main_output_loss: 0.3409 - val_aux_output_loss: 0.4074\n",
      "Epoch 52/100\n",
      "363/363 [==============================] - 1s 2ms/step - loss: 0.3158 - main_output_loss: 0.3088 - aux_output_loss: 0.3796 - val_loss: 0.3482 - val_main_output_loss: 0.3422 - val_aux_output_loss: 0.4020\n",
      "Epoch 53/100\n",
      "363/363 [==============================] - 1s 2ms/step - loss: 0.3143 - main_output_loss: 0.3069 - aux_output_loss: 0.3813 - val_loss: 0.3420 - val_main_output_loss: 0.3359 - val_aux_output_loss: 0.3965\n",
      "Epoch 54/100\n",
      "363/363 [==============================] - 1s 2ms/step - loss: 0.3126 - main_output_loss: 0.3052 - aux_output_loss: 0.3793 - val_loss: 0.3405 - val_main_output_loss: 0.3343 - val_aux_output_loss: 0.3966\n",
      "Epoch 55/100\n",
      "363/363 [==============================] - 1s 1ms/step - loss: 0.3128 - main_output_loss: 0.3054 - aux_output_loss: 0.3794 - val_loss: 0.3434 - val_main_output_loss: 0.3374 - val_aux_output_loss: 0.3975\n",
      "Epoch 56/100\n",
      "363/363 [==============================] - 1s 2ms/step - loss: 0.3125 - main_output_loss: 0.3052 - aux_output_loss: 0.3781 - val_loss: 0.3456 - val_main_output_loss: 0.3396 - val_aux_output_loss: 0.3996\n",
      "Epoch 57/100\n",
      "363/363 [==============================] - 1s 2ms/step - loss: 0.3114 - main_output_loss: 0.3041 - aux_output_loss: 0.3774 - val_loss: 0.3524 - val_main_output_loss: 0.3465 - val_aux_output_loss: 0.4058\n",
      "Epoch 58/100\n",
      "363/363 [==============================] - 1s 2ms/step - loss: 0.3122 - main_output_loss: 0.3052 - aux_output_loss: 0.3754 - val_loss: 0.3434 - val_main_output_loss: 0.3373 - val_aux_output_loss: 0.3992\n",
      "Epoch 59/100\n",
      "363/363 [==============================] - 1s 2ms/step - loss: 0.3122 - main_output_loss: 0.3049 - aux_output_loss: 0.3782 - val_loss: 0.3441 - val_main_output_loss: 0.3381 - val_aux_output_loss: 0.3987\n",
      "Epoch 60/100\n",
      "363/363 [==============================] - 1s 2ms/step - loss: 0.3128 - main_output_loss: 0.3055 - aux_output_loss: 0.3783 - val_loss: 0.3409 - val_main_output_loss: 0.3352 - val_aux_output_loss: 0.3918\n",
      "Epoch 61/100\n",
      "363/363 [==============================] - 1s 2ms/step - loss: 0.3099 - main_output_loss: 0.3027 - aux_output_loss: 0.3749 - val_loss: 0.3441 - val_main_output_loss: 0.3384 - val_aux_output_loss: 0.3948\n",
      "Epoch 62/100\n",
      "363/363 [==============================] - 1s 2ms/step - loss: 0.3096 - main_output_loss: 0.3025 - aux_output_loss: 0.3740 - val_loss: 0.3456 - val_main_output_loss: 0.3398 - val_aux_output_loss: 0.3981\n",
      "Epoch 63/100\n",
      "363/363 [==============================] - 1s 2ms/step - loss: 0.3098 - main_output_loss: 0.3025 - aux_output_loss: 0.3751 - val_loss: 0.3444 - val_main_output_loss: 0.3387 - val_aux_output_loss: 0.3959\n",
      "Epoch 64/100\n",
      "363/363 [==============================] - 1s 2ms/step - loss: 0.3120 - main_output_loss: 0.3049 - aux_output_loss: 0.3759 - val_loss: 0.3416 - val_main_output_loss: 0.3360 - val_aux_output_loss: 0.3923\n"
     ]
    }
   ],
   "source": [
    "early_stopping_cb = keras.callbacks.EarlyStopping(patience=10, restore_best_weights=True)\n",
    "history = model.fit([X_train_A, X_train_B], [y_train, y_train], epochs=100,\n",
    "                   validation_data=([X_val_A, X_val_B], [y_val, y_val]),\n",
    "                   callbacks=[checkpoint_cb, early_stopping_cb])"
   ]
  },
  {
   "cell_type": "markdown",
   "id": "silent-manual",
   "metadata": {},
   "source": [
    "You can set large number of epochs since it will stop automatically after no progress.\n",
    "\n",
    "If you need extra control, you can easily build your custom callback. There is an example of displaying ratio of validation loss and training loss:"
   ]
  },
  {
   "cell_type": "code",
   "execution_count": 48,
   "id": "colored-lingerie",
   "metadata": {
    "collapsed": true,
    "jupyter": {
     "outputs_hidden": true
    }
   },
   "outputs": [
    {
     "name": "stdout",
     "output_type": "stream",
     "text": [
      "Epoch 1/20\n",
      "363/363 [==============================] - 1s 2ms/step - loss: 0.3053 - main_output_loss: 0.2985 - aux_output_loss: 0.3663 - val_loss: 0.3717 - val_main_output_loss: 0.3654 - val_aux_output_loss: 0.4289\n",
      "\n",
      "val/train: 1.22\n",
      "Epoch 2/20\n",
      "363/363 [==============================] - 1s 1ms/step - loss: 0.3062 - main_output_loss: 0.2994 - aux_output_loss: 0.3677 - val_loss: 0.3494 - val_main_output_loss: 0.3435 - val_aux_output_loss: 0.4020\n",
      "\n",
      "val/train: 1.14\n",
      "Epoch 3/20\n",
      "363/363 [==============================] - 1s 1ms/step - loss: 0.3055 - main_output_loss: 0.2986 - aux_output_loss: 0.3668 - val_loss: 0.3439 - val_main_output_loss: 0.3383 - val_aux_output_loss: 0.3939\n",
      "\n",
      "val/train: 1.13\n",
      "Epoch 4/20\n",
      "363/363 [==============================] - 1s 1ms/step - loss: 0.3053 - main_output_loss: 0.2986 - aux_output_loss: 0.3653 - val_loss: 0.3346 - val_main_output_loss: 0.3290 - val_aux_output_loss: 0.3853\n",
      "\n",
      "val/train: 1.10\n",
      "Epoch 5/20\n",
      "363/363 [==============================] - 1s 1ms/step - loss: 0.3053 - main_output_loss: 0.2984 - aux_output_loss: 0.3665 - val_loss: 0.3388 - val_main_output_loss: 0.3329 - val_aux_output_loss: 0.3919\n",
      "\n",
      "val/train: 1.11\n",
      "Epoch 6/20\n",
      "363/363 [==============================] - 1s 2ms/step - loss: 0.3050 - main_output_loss: 0.2982 - aux_output_loss: 0.3654 - val_loss: 0.3510 - val_main_output_loss: 0.3457 - val_aux_output_loss: 0.3992\n",
      "\n",
      "val/train: 1.15\n",
      "Epoch 7/20\n",
      "363/363 [==============================] - 1s 1ms/step - loss: 0.3053 - main_output_loss: 0.2985 - aux_output_loss: 0.3665 - val_loss: 0.3394 - val_main_output_loss: 0.3343 - val_aux_output_loss: 0.3854\n",
      "\n",
      "val/train: 1.11\n",
      "Epoch 8/20\n",
      "363/363 [==============================] - 1s 2ms/step - loss: 0.3052 - main_output_loss: 0.2985 - aux_output_loss: 0.3655 - val_loss: 0.3512 - val_main_output_loss: 0.3454 - val_aux_output_loss: 0.4031\n",
      "\n",
      "val/train: 1.15\n",
      "Epoch 9/20\n",
      "363/363 [==============================] - 1s 2ms/step - loss: 0.3047 - main_output_loss: 0.2981 - aux_output_loss: 0.3646 - val_loss: 0.3420 - val_main_output_loss: 0.3364 - val_aux_output_loss: 0.3924\n",
      "\n",
      "val/train: 1.12\n",
      "Epoch 10/20\n",
      "363/363 [==============================] - 1s 1ms/step - loss: 0.3050 - main_output_loss: 0.2983 - aux_output_loss: 0.3657 - val_loss: 0.3442 - val_main_output_loss: 0.3385 - val_aux_output_loss: 0.3950\n",
      "\n",
      "val/train: 1.13\n",
      "Epoch 11/20\n",
      "363/363 [==============================] - 1s 2ms/step - loss: 0.3044 - main_output_loss: 0.2978 - aux_output_loss: 0.3638 - val_loss: 0.3421 - val_main_output_loss: 0.3371 - val_aux_output_loss: 0.3872\n",
      "\n",
      "val/train: 1.12\n",
      "Epoch 12/20\n",
      "363/363 [==============================] - 1s 2ms/step - loss: 0.3027 - main_output_loss: 0.2961 - aux_output_loss: 0.3626 - val_loss: 0.3379 - val_main_output_loss: 0.3328 - val_aux_output_loss: 0.3841\n",
      "\n",
      "val/train: 1.12\n",
      "Epoch 13/20\n",
      "363/363 [==============================] - 1s 2ms/step - loss: 0.3045 - main_output_loss: 0.2980 - aux_output_loss: 0.3628 - val_loss: 0.3336 - val_main_output_loss: 0.3282 - val_aux_output_loss: 0.3821\n",
      "\n",
      "val/train: 1.10\n",
      "Epoch 14/20\n",
      "363/363 [==============================] - 1s 2ms/step - loss: 0.3030 - main_output_loss: 0.2964 - aux_output_loss: 0.3627 - val_loss: 0.3383 - val_main_output_loss: 0.3334 - val_aux_output_loss: 0.3827\n",
      "\n",
      "val/train: 1.12\n",
      "Epoch 15/20\n",
      "363/363 [==============================] - 1s 2ms/step - loss: 0.3031 - main_output_loss: 0.2967 - aux_output_loss: 0.3600 - val_loss: 0.3331 - val_main_output_loss: 0.3276 - val_aux_output_loss: 0.3825\n",
      "\n",
      "val/train: 1.10\n",
      "Epoch 16/20\n",
      "363/363 [==============================] - 1s 2ms/step - loss: 0.3021 - main_output_loss: 0.2957 - aux_output_loss: 0.3599 - val_loss: 0.3380 - val_main_output_loss: 0.3330 - val_aux_output_loss: 0.3824\n",
      "\n",
      "val/train: 1.12\n",
      "Epoch 17/20\n",
      "363/363 [==============================] - 1s 2ms/step - loss: 0.3032 - main_output_loss: 0.2967 - aux_output_loss: 0.3620 - val_loss: 0.3303 - val_main_output_loss: 0.3246 - val_aux_output_loss: 0.3810\n",
      "\n",
      "val/train: 1.09\n",
      "Epoch 18/20\n",
      "363/363 [==============================] - 1s 1ms/step - loss: 0.3023 - main_output_loss: 0.2956 - aux_output_loss: 0.3618 - val_loss: 0.3353 - val_main_output_loss: 0.3299 - val_aux_output_loss: 0.3838\n",
      "\n",
      "val/train: 1.11\n",
      "Epoch 19/20\n",
      "363/363 [==============================] - 1s 2ms/step - loss: 0.3018 - main_output_loss: 0.2953 - aux_output_loss: 0.3602 - val_loss: 0.3400 - val_main_output_loss: 0.3349 - val_aux_output_loss: 0.3856\n",
      "\n",
      "val/train: 1.13\n",
      "Epoch 20/20\n",
      "363/363 [==============================] - 1s 2ms/step - loss: 0.3023 - main_output_loss: 0.2959 - aux_output_loss: 0.3604 - val_loss: 0.3461 - val_main_output_loss: 0.3411 - val_aux_output_loss: 0.3916\n",
      "\n",
      "val/train: 1.14\n"
     ]
    }
   ],
   "source": [
    "class PrintValTrainRatioCallback(keras.callbacks.Callback):\n",
    "    def on_epoch_end(self, epoch, logs):\n",
    "        print(f\"\\nval/train: {logs['val_loss']/logs['loss']:.2f}\")\n",
    "\n",
    "ratio_cb = PrintValTrainRatioCallback()\n",
    "history = model.fit([X_train_A, X_train_B], [y_train, y_train], epochs=20,\n",
    "                   validation_data=([X_val_A, X_val_B], [y_val, y_val]),\n",
    "                   callbacks=[ratio_cb])"
   ]
  },
  {
   "cell_type": "markdown",
   "id": "superb-plasma",
   "metadata": {},
   "source": [
    ">`on_epoch_end()` is predefined method, there are others which you can use like `on_epoch_begin()`. There are such methods for test and predict also, if you need debugging in those cases.\n",
    "\n",
    "### Using TensorBoard for Visualization\n",
    "\n",
    "TensorBoard is a great interactive visualization tool that you can use to \n",
    "\n",
    "- view the learning curves during multiple runs,\n",
    "- visualize the computation graph,\n",
    "- analyze training statistics,\n",
    "- view images generated by your model,\n",
    "- visualize complex multidimensional data projected down to 3D, and\n",
    "- automatically clustered for you and more!\n",
    "\n",
    "To use it, you need to modify your program including a special binary file called *event files*. Each binary data is called a *summary*. TensorBoard server will monitor the log directory. We have to point TensorBoard to the root directory and configure your program so that it writes in different directory every time it runs. This way your logs won't mixed up.\n",
    "\n",
    "Let's make it:"
   ]
  },
  {
   "cell_type": "code",
   "execution_count": 13,
   "id": "funny-spending",
   "metadata": {},
   "outputs": [
    {
     "name": "stdout",
     "output_type": "stream",
     "text": [
      "Epoch 1/30\n",
      "363/363 [==============================] - 1s 1ms/step - loss: 1.1606 - val_loss: 0.7592\n",
      "Epoch 2/30\n",
      "363/363 [==============================] - 0s 1ms/step - loss: 0.7395 - val_loss: 0.5976\n",
      "Epoch 3/30\n",
      "363/363 [==============================] - 0s 1ms/step - loss: 0.6818 - val_loss: 0.4523\n",
      "Epoch 4/30\n",
      "363/363 [==============================] - 0s 1ms/step - loss: 0.4154 - val_loss: 0.4398\n",
      "Epoch 5/30\n",
      "363/363 [==============================] - 0s 1ms/step - loss: 0.4097 - val_loss: 0.4256\n",
      "Epoch 6/30\n",
      "363/363 [==============================] - 0s 1ms/step - loss: 0.3849 - val_loss: 0.4320\n",
      "Epoch 7/30\n",
      "363/363 [==============================] - 0s 1ms/step - loss: 0.3922 - val_loss: 0.4173\n",
      "Epoch 8/30\n",
      "363/363 [==============================] - 0s 1ms/step - loss: 0.3994 - val_loss: 0.4129\n",
      "Epoch 9/30\n",
      "363/363 [==============================] - 0s 1ms/step - loss: 0.3867 - val_loss: 0.4118\n",
      "Epoch 10/30\n",
      "363/363 [==============================] - 0s 1ms/step - loss: 0.3668 - val_loss: 0.4123\n",
      "Epoch 11/30\n",
      "363/363 [==============================] - 0s 1ms/step - loss: 0.3730 - val_loss: 0.4050\n",
      "Epoch 12/30\n",
      "363/363 [==============================] - 0s 1ms/step - loss: 0.3817 - val_loss: 0.4037\n",
      "Epoch 13/30\n",
      "363/363 [==============================] - 0s 1ms/step - loss: 0.3778 - val_loss: 0.3985\n",
      "Epoch 14/30\n",
      "363/363 [==============================] - 0s 1ms/step - loss: 0.3738 - val_loss: 0.4022\n",
      "Epoch 15/30\n",
      "363/363 [==============================] - 0s 1ms/step - loss: 0.3546 - val_loss: 0.4026\n",
      "Epoch 16/30\n",
      "363/363 [==============================] - 0s 1ms/step - loss: 0.3788 - val_loss: 0.3894\n",
      "Epoch 17/30\n",
      "363/363 [==============================] - 0s 1ms/step - loss: 0.3626 - val_loss: 0.3936\n",
      "Epoch 18/30\n",
      "363/363 [==============================] - 0s 1ms/step - loss: 0.3592 - val_loss: 0.3879\n",
      "Epoch 19/30\n",
      "363/363 [==============================] - 0s 1ms/step - loss: 0.3688 - val_loss: 0.3940\n",
      "Epoch 20/30\n",
      "363/363 [==============================] - 0s 1ms/step - loss: 0.3537 - val_loss: 0.3834\n",
      "Epoch 21/30\n",
      "363/363 [==============================] - 0s 1ms/step - loss: 0.3775 - val_loss: 0.3902\n",
      "Epoch 22/30\n",
      "363/363 [==============================] - 0s 1ms/step - loss: 0.3561 - val_loss: 0.3855\n",
      "Epoch 23/30\n",
      "363/363 [==============================] - 0s 1ms/step - loss: 0.3731 - val_loss: 0.3977\n",
      "Epoch 24/30\n",
      "363/363 [==============================] - 0s 1ms/step - loss: 0.3631 - val_loss: 0.3907\n",
      "Epoch 25/30\n",
      "363/363 [==============================] - 0s 1ms/step - loss: 0.3478 - val_loss: 0.3818\n",
      "Epoch 26/30\n",
      "363/363 [==============================] - 0s 1ms/step - loss: 0.3656 - val_loss: 0.3801\n",
      "Epoch 27/30\n",
      "363/363 [==============================] - 0s 1ms/step - loss: 0.3643 - val_loss: 0.3906\n",
      "Epoch 28/30\n",
      "363/363 [==============================] - 0s 1ms/step - loss: 0.3481 - val_loss: 0.3890\n",
      "Epoch 29/30\n",
      "363/363 [==============================] - 0s 1ms/step - loss: 0.3444 - val_loss: 0.3767\n",
      "Epoch 30/30\n",
      "363/363 [==============================] - 0s 1ms/step - loss: 0.3413 - val_loss: 0.3830\n"
     ]
    }
   ],
   "source": [
    "import os\n",
    "\n",
    "root_logdir = os.path.join(os.curdir, 'my_logs')\n",
    "\n",
    "def get_run_logdir():\n",
    "    import time\n",
    "    run_id = time.strftime('run_%Y_%m_%d-%H_%M_%S')\n",
    "    return os.path.join(root_logdir, run_id)\n",
    "\n",
    "run_logdir = get_run_logdir()\n",
    "\n",
    "model = keras.models.Sequential([\n",
    "    keras.layers.Dense(30, activation='relu', input_shape=X_train.shape[1:]),\n",
    "    keras.layers.Dense(1)\n",
    "])\n",
    "\n",
    "model.compile(loss='mean_squared_error', optimizer='sgd')\n",
    "\n",
    "tensorboard_cb = keras.callbacks.TensorBoard(run_logdir)\n",
    "history = model.fit(X_train, y_train, epochs=30,\n",
    "                   validation_data=(X_val, y_val),\n",
    "                   callbacks=[tensorboard_cb])"
   ]
  },
  {
   "cell_type": "markdown",
   "id": "worldwide-stick",
   "metadata": {},
   "source": [
    "It will automatically create needed folders and events as well as profile traces: that tells you much time your model takes on each part, and across all your devices, which is great for locating bottlenecks.\n",
    "\n",
    "Next you need to start the TensorBoard server, you can do this by command line:\n",
    "\n",
    "`$ tensorboard --logdir=./my_logs --port=6006`\n",
    "\n",
    "Once the server is up go to web browser and visit *https://localhost:6006*.\n",
    "\n",
    "There you can see TensorBoard web interface. Click the SCALARS tab to view learning curves.\n",
    "\n",
    "Additionally, TensorFlow offers a lower-level API in the `tf.summary` package. Which creates a `SummaryWriter` using the `create_file_writer()` function."
   ]
  },
  {
   "cell_type": "code",
   "execution_count": null,
   "id": "interior-fusion",
   "metadata": {},
   "outputs": [],
   "source": []
  }
 ],
 "metadata": {
  "kernelspec": {
   "display_name": "Python 3",
   "language": "python",
   "name": "python3"
  },
  "language_info": {
   "codemirror_mode": {
    "name": "ipython",
    "version": 3
   },
   "file_extension": ".py",
   "mimetype": "text/x-python",
   "name": "python",
   "nbconvert_exporter": "python",
   "pygments_lexer": "ipython3",
   "version": "3.8.5"
  }
 },
 "nbformat": 4,
 "nbformat_minor": 5
}
